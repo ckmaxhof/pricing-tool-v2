{
 "cells": [
  {
   "cell_type": "code",
   "execution_count": 19,
   "id": "46352342-f4b4-407a-b9a3-102528f681be",
   "metadata": {
    "execution": {
     "iopub.execute_input": "2023-02-24T13:35:52.422875Z",
     "iopub.status.busy": "2023-02-24T13:35:52.422650Z",
     "iopub.status.idle": "2023-02-24T13:35:52.425774Z",
     "shell.execute_reply": "2023-02-24T13:35:52.425117Z",
     "shell.execute_reply.started": "2023-02-24T13:35:52.422849Z"
    },
    "tags": []
   },
   "outputs": [],
   "source": [
    "import sys\n",
    "sys.path.append('/home/maximilian.hofmann/ff_utils/src')"
   ]
  },
  {
   "cell_type": "code",
   "execution_count": 20,
   "id": "fb6b38a9-42c9-4fc2-a86c-4ef129173d55",
   "metadata": {
    "execution": {
     "iopub.execute_input": "2023-02-24T13:35:52.576458Z",
     "iopub.status.busy": "2023-02-24T13:35:52.576211Z",
     "iopub.status.idle": "2023-02-24T13:35:52.581211Z",
     "shell.execute_reply": "2023-02-24T13:35:52.580478Z",
     "shell.execute_reply.started": "2023-02-24T13:35:52.576432Z"
    },
    "tags": []
   },
   "outputs": [],
   "source": [
    "from importlib import reload\n",
    "from itertools import repeat\n",
    "from date_utils import partition_date_range\n",
    "import pandas as pd"
   ]
  },
  {
   "cell_type": "code",
   "execution_count": 21,
   "id": "8c3e9d1f-a33b-42cd-9537-92ae872ef53e",
   "metadata": {
    "execution": {
     "iopub.execute_input": "2023-02-24T13:35:52.719354Z",
     "iopub.status.busy": "2023-02-24T13:35:52.718948Z",
     "iopub.status.idle": "2023-02-24T13:35:52.726740Z",
     "shell.execute_reply": "2023-02-24T13:35:52.726078Z",
     "shell.execute_reply.started": "2023-02-24T13:35:52.719289Z"
    },
    "tags": []
   },
   "outputs": [
    {
     "data": {
      "text/plain": [
       "<module 'functions' from '/home/maximilian.hofmann/tools/pricing-tool-v2/data/functions.py'>"
      ]
     },
     "execution_count": 21,
     "metadata": {},
     "output_type": "execute_result"
    }
   ],
   "source": [
    "import functions as fu\n",
    "reload(fu)"
   ]
  },
  {
   "cell_type": "code",
   "execution_count": 22,
   "id": "42184523-619b-46a9-847f-17d61e9f3b7b",
   "metadata": {
    "execution": {
     "iopub.execute_input": "2023-02-24T13:35:52.866241Z",
     "iopub.status.busy": "2023-02-24T13:35:52.865865Z",
     "iopub.status.idle": "2023-02-24T13:35:52.869768Z",
     "shell.execute_reply": "2023-02-24T13:35:52.868996Z",
     "shell.execute_reply.started": "2023-02-24T13:35:52.866201Z"
    },
    "tags": []
   },
   "outputs": [],
   "source": [
    "from multiprocessing.dummy import Pool\n",
    "from multiprocessing import cpu_count"
   ]
  },
  {
   "cell_type": "code",
   "execution_count": 23,
   "id": "fca336b5-ab99-4f5b-adb2-c6078e144e50",
   "metadata": {
    "execution": {
     "iopub.execute_input": "2023-02-24T13:35:53.023935Z",
     "iopub.status.busy": "2023-02-24T13:35:53.023603Z",
     "iopub.status.idle": "2023-02-24T13:35:53.028705Z",
     "shell.execute_reply": "2023-02-24T13:35:53.028094Z",
     "shell.execute_reply.started": "2023-02-24T13:35:53.023892Z"
    },
    "tags": []
   },
   "outputs": [],
   "source": [
    "with open('/home/maximilian.hofmann/tools/brand_science_pricing/data/queries/sql_otter_data.sql', 'r') as f:\n",
    "    sql_template = f.read()"
   ]
  },
  {
   "cell_type": "code",
   "execution_count": 24,
   "id": "426b027f-a648-44a5-9e51-257ab37d0583",
   "metadata": {
    "execution": {
     "iopub.execute_input": "2023-02-24T13:35:53.175655Z",
     "iopub.status.busy": "2023-02-24T13:35:53.175418Z",
     "iopub.status.idle": "2023-02-24T13:35:53.179203Z",
     "shell.execute_reply": "2023-02-24T13:35:53.178590Z",
     "shell.execute_reply.started": "2023-02-24T13:35:53.175630Z"
    },
    "tags": []
   },
   "outputs": [],
   "source": [
    "project_name = 'css-operations'\n",
    "stag_dataset_name = 'brand_science_stag'\n",
    "stag_table_name = 'pricing_otter_data_stag'\n",
    "full_stag_table_name = '.'.join([project_name, stag_dataset_name, stag_table_name])"
   ]
  },
  {
   "cell_type": "code",
   "execution_count": 25,
   "id": "30cc4469-e5f0-4927-acbb-a26dfd6b8a93",
   "metadata": {
    "execution": {
     "iopub.execute_input": "2023-02-24T13:35:53.723651Z",
     "iopub.status.busy": "2023-02-24T13:35:53.723401Z",
     "iopub.status.idle": "2023-02-24T13:35:53.726549Z",
     "shell.execute_reply": "2023-02-24T13:35:53.725875Z",
     "shell.execute_reply.started": "2023-02-24T13:35:53.723624Z"
    },
    "tags": []
   },
   "outputs": [],
   "source": [
    "begin_date = '2022-11-01'\n",
    "end_date = '2023-01-01'\n",
    "days_per_batch = 10"
   ]
  },
  {
   "cell_type": "code",
   "execution_count": 26,
   "id": "ee346bd9-0c74-4920-ad70-cd3c53895fdb",
   "metadata": {
    "execution": {
     "iopub.execute_input": "2023-02-24T13:35:54.517259Z",
     "iopub.status.busy": "2023-02-24T13:35:54.517013Z",
     "iopub.status.idle": "2023-02-24T13:35:54.522828Z",
     "shell.execute_reply": "2023-02-24T13:35:54.522092Z",
     "shell.execute_reply.started": "2023-02-24T13:35:54.517234Z"
    },
    "tags": []
   },
   "outputs": [
    {
     "data": {
      "text/plain": [
       "[['2022-10-31', '2022-11-09'],\n",
       " ['2022-11-10', '2022-11-19'],\n",
       " ['2022-11-20', '2022-11-29'],\n",
       " ['2022-11-30', '2022-12-09'],\n",
       " ['2022-12-10', '2022-12-19'],\n",
       " ['2022-12-20', '2022-12-26']]"
      ]
     },
     "execution_count": 26,
     "metadata": {},
     "output_type": "execute_result"
    }
   ],
   "source": [
    "date_list = partition_date_range(pd.to_datetime(begin_date), pd.to_datetime(end_date), days_per_batch)\n",
    "date_list"
   ]
  },
  {
   "cell_type": "code",
   "execution_count": 27,
   "id": "93ad23b1-d9ba-4713-8f28-066fbdf99693",
   "metadata": {
    "execution": {
     "iopub.execute_input": "2023-02-24T13:35:55.385340Z",
     "iopub.status.busy": "2023-02-24T13:35:55.385042Z",
     "iopub.status.idle": "2023-02-24T13:35:55.391540Z",
     "shell.execute_reply": "2023-02-24T13:35:55.390133Z",
     "shell.execute_reply.started": "2023-02-24T13:35:55.385305Z"
    },
    "tags": []
   },
   "outputs": [
    {
     "data": {
      "text/plain": [
       "6"
      ]
     },
     "execution_count": 27,
     "metadata": {},
     "output_type": "execute_result"
    }
   ],
   "source": [
    "min(cpu_count(), len(date_list))"
   ]
  },
  {
   "cell_type": "code",
   "execution_count": 28,
   "id": "82fb435c-d583-4d64-b45e-a54a3e692a1d",
   "metadata": {
    "execution": {
     "iopub.execute_input": "2023-02-24T13:35:55.731704Z",
     "iopub.status.busy": "2023-02-24T13:35:55.731461Z",
     "iopub.status.idle": "2023-02-24T13:35:55.734348Z",
     "shell.execute_reply": "2023-02-24T13:35:55.733702Z",
     "shell.execute_reply.started": "2023-02-24T13:35:55.731683Z"
    },
    "tags": []
   },
   "outputs": [],
   "source": [
    "country_code = 'CO'\n",
    "clustering_fields = ['country_code']"
   ]
  },
  {
   "cell_type": "code",
   "execution_count": 29,
   "id": "a37e328f-4d28-41f5-8c6a-cbb8bebbc8db",
   "metadata": {
    "execution": {
     "iopub.execute_input": "2023-02-24T13:35:56.304299Z",
     "iopub.status.busy": "2023-02-24T13:35:56.304025Z",
     "iopub.status.idle": "2023-02-24T13:35:56.308832Z",
     "shell.execute_reply": "2023-02-24T13:35:56.308144Z",
     "shell.execute_reply.started": "2023-02-24T13:35:56.304273Z"
    },
    "tags": []
   },
   "outputs": [
    {
     "data": {
      "text/plain": [
       "6"
      ]
     },
     "execution_count": 29,
     "metadata": {},
     "output_type": "execute_result"
    }
   ],
   "source": [
    "num_processes = min(cpu_count(), len(date_list))\n",
    "num_processes"
   ]
  },
  {
   "cell_type": "code",
   "execution_count": 30,
   "id": "678a3dea-9b18-4f27-a2a2-d8400ebde74e",
   "metadata": {
    "execution": {
     "iopub.execute_input": "2023-02-24T13:35:59.777969Z",
     "iopub.status.busy": "2023-02-24T13:35:59.777737Z",
     "iopub.status.idle": "2023-02-24T13:42:50.732297Z",
     "shell.execute_reply": "2023-02-24T13:42:50.731089Z",
     "shell.execute_reply.started": "2023-02-24T13:35:59.777947Z"
    },
    "tags": []
   },
   "outputs": [
    {
     "name": "stdout",
     "output_type": "stream",
     "text": [
      "Start data cleaning...\n",
      "Start data cleaning...\n",
      "Start data cleaning...\n",
      "Data cleaning finished!\n",
      "Start data cleaning...\n",
      "Job 353e4bf1-9392-483b-9ae8-6657d5e77951 is currently in state RUNNING\n",
      "Job e8b65793-9c4a-4167-bb4c-6a59a88a9a7e is currently in state RUNNING\n",
      "Data cleaning finished!\n",
      "Job d7028881-93b4-4fa5-ac77-4b26c600171d is currently in state RUNNING\n",
      "Data cleaning finished!\n",
      "Job a90c47b6-c6f1-4128-88e6-92998dc3d9e7 is currently in state RUNNING\n",
      "Job a90c47b6-c6f1-4128-88e6-92998dc3d9e7 is currently in state RUNNING\n",
      "Data cleaning finished!\n",
      "Data cleaning finished!\n",
      "Job 8fbd4be4-0c04-47d9-8874-62c1a4e62b3f is currently in state RUNNING\n",
      "Job d7b0425f-9423-441a-b624-a4d5dfb2b7e2 is currently in state RUNNING\n"
     ]
    }
   ],
   "source": [
    "res = []\n",
    "with Pool(num_processes) as p:\n",
    "    r = p.starmap(fu.process_otter_data_date_range, zip(repeat(sql_template), date_list, repeat(country_code), repeat(full_stag_table_name), repeat(clustering_fields)))\n",
    "    res.append(r)"
   ]
  },
  {
   "cell_type": "code",
   "execution_count": 31,
   "id": "d4f6f69d-3f94-4062-bedd-b6912b44b5d3",
   "metadata": {
    "execution": {
     "iopub.execute_input": "2023-02-24T13:42:50.735667Z",
     "iopub.status.busy": "2023-02-24T13:42:50.735398Z",
     "iopub.status.idle": "2023-02-24T13:42:50.739290Z",
     "shell.execute_reply": "2023-02-24T13:42:50.738375Z",
     "shell.execute_reply.started": "2023-02-24T13:42:50.735639Z"
    },
    "tags": []
   },
   "outputs": [],
   "source": [
    "prod_dataset_name = 'brand_science'\n",
    "prod_table_name = 'pricing_otter_data'\n",
    "full_prod_table_name = '.'.join([project_name, prod_dataset_name, prod_table_name])"
   ]
  },
  {
   "cell_type": "code",
   "execution_count": 32,
   "id": "86dd5061-817c-4d8f-af14-03f779481a45",
   "metadata": {
    "execution": {
     "iopub.execute_input": "2023-02-24T13:42:50.742363Z",
     "iopub.status.busy": "2023-02-24T13:42:50.742154Z",
     "iopub.status.idle": "2023-02-24T13:42:52.245823Z",
     "shell.execute_reply": "2023-02-24T13:42:52.245194Z",
     "shell.execute_reply.started": "2023-02-24T13:42:50.742338Z"
    },
    "tags": []
   },
   "outputs": [],
   "source": [
    "create_tbl = fu.create_tbl(full_stag_table_name, full_prod_table_name)"
   ]
  },
  {
   "cell_type": "code",
   "execution_count": 33,
   "id": "37eb9a34-acea-44fe-9f6c-f42ae650051d",
   "metadata": {
    "execution": {
     "iopub.execute_input": "2023-02-24T13:42:52.247142Z",
     "iopub.status.busy": "2023-02-24T13:42:52.246968Z",
     "iopub.status.idle": "2023-02-24T13:43:02.410904Z",
     "shell.execute_reply": "2023-02-24T13:43:02.410148Z",
     "shell.execute_reply.started": "2023-02-24T13:42:52.247121Z"
    },
    "tags": []
   },
   "outputs": [],
   "source": [
    "upsert_tbl = fu.upsert_tbl_otter_data(full_stag_table_name, full_prod_table_name)"
   ]
  },
  {
   "cell_type": "code",
   "execution_count": null,
   "id": "82e41eee-ca7d-4465-8dfe-74bc2053cbec",
   "metadata": {},
   "outputs": [],
   "source": []
  }
 ],
 "metadata": {
  "kernelspec": {
   "display_name": "Python 3",
   "language": "python",
   "name": "python3"
  },
  "language_info": {
   "codemirror_mode": {
    "name": "ipython",
    "version": 3
   },
   "file_extension": ".py",
   "mimetype": "text/x-python",
   "name": "python",
   "nbconvert_exporter": "python",
   "pygments_lexer": "ipython3",
   "version": "3.8.13"
  }
 },
 "nbformat": 4,
 "nbformat_minor": 5
}
