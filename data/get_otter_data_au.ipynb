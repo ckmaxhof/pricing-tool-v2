{
 "cells": [
  {
   "cell_type": "code",
   "execution_count": 1,
   "id": "fb6b38a9-42c9-4fc2-a86c-4ef129173d55",
   "metadata": {
    "execution": {
     "iopub.execute_input": "2023-01-19T09:33:02.464552Z",
     "iopub.status.busy": "2023-01-19T09:33:02.464295Z",
     "iopub.status.idle": "2023-01-19T09:33:02.471116Z",
     "shell.execute_reply": "2023-01-19T09:33:02.470275Z",
     "shell.execute_reply.started": "2023-01-19T09:33:02.464486Z"
    },
    "tags": []
   },
   "outputs": [],
   "source": [
    "import sys\n",
    "sys.path.append('/home/maximilian.hofmann/ff_utils/src')\n",
    "\n",
    "from importlib import reload"
   ]
  },
  {
   "cell_type": "code",
   "execution_count": 6,
   "id": "b16ae3e8-7b2a-40a6-b0ea-1450ecfcac89",
   "metadata": {
    "execution": {
     "iopub.execute_input": "2023-01-19T09:33:50.058639Z",
     "iopub.status.busy": "2023-01-19T09:33:50.058385Z",
     "iopub.status.idle": "2023-01-19T09:33:50.061411Z",
     "shell.execute_reply": "2023-01-19T09:33:50.060946Z",
     "shell.execute_reply.started": "2023-01-19T09:33:50.058616Z"
    },
    "tags": []
   },
   "outputs": [],
   "source": [
    "from importlib import reload\n",
    "from itertools import repeat\n",
    "from date_utils import partition_date_range\n",
    "import pandas as pd"
   ]
  },
  {
   "cell_type": "code",
   "execution_count": 7,
   "id": "8c3e9d1f-a33b-42cd-9537-92ae872ef53e",
   "metadata": {
    "execution": {
     "iopub.execute_input": "2023-01-19T09:33:50.428663Z",
     "iopub.status.busy": "2023-01-19T09:33:50.428436Z",
     "iopub.status.idle": "2023-01-19T09:33:50.433596Z",
     "shell.execute_reply": "2023-01-19T09:33:50.433063Z",
     "shell.execute_reply.started": "2023-01-19T09:33:50.428641Z"
    },
    "tags": []
   },
   "outputs": [
    {
     "data": {
      "text/plain": [
       "<module 'functions' from '/home/maximilian.hofmann/tools/pricing-tool-v2/data/functions.py'>"
      ]
     },
     "execution_count": 7,
     "metadata": {},
     "output_type": "execute_result"
    }
   ],
   "source": [
    "import functions as fu\n",
    "reload(fu)"
   ]
  },
  {
   "cell_type": "code",
   "execution_count": 8,
   "id": "42184523-619b-46a9-847f-17d61e9f3b7b",
   "metadata": {
    "execution": {
     "iopub.execute_input": "2023-01-19T09:33:50.786409Z",
     "iopub.status.busy": "2023-01-19T09:33:50.786171Z",
     "iopub.status.idle": "2023-01-19T09:33:50.789776Z",
     "shell.execute_reply": "2023-01-19T09:33:50.788929Z",
     "shell.execute_reply.started": "2023-01-19T09:33:50.786386Z"
    },
    "tags": []
   },
   "outputs": [],
   "source": [
    "from multiprocessing.dummy import Pool\n",
    "from multiprocessing import cpu_count"
   ]
  },
  {
   "cell_type": "code",
   "execution_count": 9,
   "id": "fca336b5-ab99-4f5b-adb2-c6078e144e50",
   "metadata": {
    "execution": {
     "iopub.execute_input": "2023-01-19T09:33:51.275240Z",
     "iopub.status.busy": "2023-01-19T09:33:51.274995Z",
     "iopub.status.idle": "2023-01-19T09:33:51.278244Z",
     "shell.execute_reply": "2023-01-19T09:33:51.277702Z",
     "shell.execute_reply.started": "2023-01-19T09:33:51.275215Z"
    },
    "tags": []
   },
   "outputs": [],
   "source": [
    "with open('/home/maximilian.hofmann/tools/pricing-tool-v2/data/queries/sql_otter_data.sql', 'r') as f:\n",
    "    sql_template = f.read()"
   ]
  },
  {
   "cell_type": "code",
   "execution_count": 10,
   "id": "426b027f-a648-44a5-9e51-257ab37d0583",
   "metadata": {
    "execution": {
     "iopub.execute_input": "2023-01-19T09:33:51.772061Z",
     "iopub.status.busy": "2023-01-19T09:33:51.771829Z",
     "iopub.status.idle": "2023-01-19T09:33:51.775270Z",
     "shell.execute_reply": "2023-01-19T09:33:51.774403Z",
     "shell.execute_reply.started": "2023-01-19T09:33:51.772038Z"
    },
    "tags": []
   },
   "outputs": [],
   "source": [
    "project_name = 'css-operations'\n",
    "stag_dataset_name = 'brand_science_stag'\n",
    "stag_table_name = 'pricing_otter_data_stag'\n",
    "full_stag_table_name = '.'.join([project_name, stag_dataset_name, stag_table_name])"
   ]
  },
  {
   "cell_type": "code",
   "execution_count": 11,
   "id": "30cc4469-e5f0-4927-acbb-a26dfd6b8a93",
   "metadata": {
    "execution": {
     "iopub.execute_input": "2023-01-19T09:33:52.889313Z",
     "iopub.status.busy": "2023-01-19T09:33:52.888998Z",
     "iopub.status.idle": "2023-01-19T09:33:52.892361Z",
     "shell.execute_reply": "2023-01-19T09:33:52.891744Z",
     "shell.execute_reply.started": "2023-01-19T09:33:52.889283Z"
    },
    "tags": []
   },
   "outputs": [],
   "source": [
    "begin_date = '2022-12-01'\n",
    "end_date = '2023-01-19'\n",
    "days_per_batch = 10"
   ]
  },
  {
   "cell_type": "code",
   "execution_count": 12,
   "id": "ee346bd9-0c74-4920-ad70-cd3c53895fdb",
   "metadata": {
    "execution": {
     "iopub.execute_input": "2023-01-19T09:33:55.649150Z",
     "iopub.status.busy": "2023-01-19T09:33:55.648806Z",
     "iopub.status.idle": "2023-01-19T09:33:55.654663Z",
     "shell.execute_reply": "2023-01-19T09:33:55.654163Z",
     "shell.execute_reply.started": "2023-01-19T09:33:55.649123Z"
    },
    "tags": []
   },
   "outputs": [
    {
     "data": {
      "text/plain": [
       "[['2022-11-28', '2022-12-07'],\n",
       " ['2022-12-08', '2022-12-17'],\n",
       " ['2022-12-18', '2022-12-27'],\n",
       " ['2022-12-28', '2023-01-06'],\n",
       " ['2023-01-07', '2023-01-16']]"
      ]
     },
     "execution_count": 12,
     "metadata": {},
     "output_type": "execute_result"
    }
   ],
   "source": [
    "date_list = partition_date_range(pd.to_datetime(begin_date), pd.to_datetime(end_date), days_per_batch)\n",
    "date_list"
   ]
  },
  {
   "cell_type": "code",
   "execution_count": 13,
   "id": "82fb435c-d583-4d64-b45e-a54a3e692a1d",
   "metadata": {
    "execution": {
     "iopub.execute_input": "2023-01-19T09:34:04.200752Z",
     "iopub.status.busy": "2023-01-19T09:34:04.200509Z",
     "iopub.status.idle": "2023-01-19T09:34:04.203815Z",
     "shell.execute_reply": "2023-01-19T09:34:04.203104Z",
     "shell.execute_reply.started": "2023-01-19T09:34:04.200725Z"
    },
    "tags": []
   },
   "outputs": [],
   "source": [
    "country_code = 'AU'\n",
    "clustering_fields = ['country_code']"
   ]
  },
  {
   "cell_type": "code",
   "execution_count": 14,
   "id": "678a3dea-9b18-4f27-a2a2-d8400ebde74e",
   "metadata": {
    "execution": {
     "iopub.execute_input": "2022-10-13T13:08:40.958270Z",
     "iopub.status.busy": "2022-10-13T13:08:40.957981Z",
     "iopub.status.idle": "2022-10-13T13:28:50.155163Z",
     "shell.execute_reply": "2022-10-13T13:28:50.154495Z",
     "shell.execute_reply.started": "2022-10-13T13:08:40.958241Z"
    },
    "tags": []
   },
   "outputs": [
    {
     "name": "stdout",
     "output_type": "stream",
     "text": [
      "Start data cleaning...\n",
      "Data cleaning finished!\n",
      "Start data cleaning...\n",
      "Data cleaning finished!\n",
      "Start data cleaning...\n",
      "Data cleaning finished!\n",
      "Start data cleaning...\n",
      "Data cleaning finished!\n",
      "Start data cleaning...\n",
      "Data cleaning finished!\n",
      "Start data cleaning...\n",
      "Data cleaning finished!\n",
      "Start data cleaning...\n",
      "Data cleaning finished!\n"
     ]
    }
   ],
   "source": [
    "res = []\n",
    "with Pool(min(cpu_count(), len(date_list))) as p:\n",
    "    r = p.starmap(fu.process_otter_data_date_range, zip(repeat(sql_template), date_list, repeat(country_code), repeat(full_stag_table_name), repeat(clustering_fields)))\n",
    "    res.append(r)"
   ]
  },
  {
   "cell_type": "code",
   "execution_count": null,
   "id": "d4f6f69d-3f94-4062-bedd-b6912b44b5d3",
   "metadata": {
    "execution": {
     "iopub.execute_input": "2022-10-13T13:28:50.156731Z",
     "iopub.status.busy": "2022-10-13T13:28:50.156476Z",
     "iopub.status.idle": "2022-10-13T13:28:50.160113Z"
    },
    "tags": []
   },
   "outputs": [],
   "source": [
    "prod_dataset_name = 'brand_science'\n",
    "prod_table_name = 'pricing_otter_data'\n",
    "full_prod_table_name = '.'.join([project_name, prod_dataset_name, prod_table_name])"
   ]
  },
  {
   "cell_type": "code",
   "execution_count": null,
   "id": "86dd5061-817c-4d8f-af14-03f779481a45",
   "metadata": {
    "execution": {
     "iopub.execute_input": "2022-10-13T13:28:50.169838Z",
     "iopub.status.busy": "2022-10-13T13:28:50.169611Z",
     "iopub.status.idle": "2022-10-13T13:28:52.589125Z"
    }
   },
   "outputs": [],
   "source": [
    "create_tbl = fu.create_tbl(full_stag_table_name, full_prod_table_name)"
   ]
  },
  {
   "cell_type": "code",
   "execution_count": null,
   "id": "37eb9a34-acea-44fe-9f6c-f42ae650051d",
   "metadata": {
    "execution": {
     "iopub.execute_input": "2022-10-13T13:28:52.592776Z",
     "iopub.status.busy": "2022-10-13T13:28:52.592651Z",
     "iopub.status.idle": "2022-10-13T13:28:55.364819Z"
    }
   },
   "outputs": [],
   "source": [
    "upsert_tbl = fu.upsert_tbl_otter_data(full_stag_table_name, full_prod_table_name)"
   ]
  },
  {
   "cell_type": "code",
   "execution_count": null,
   "id": "e4a0eafc-f55c-4270-b86e-301cffc4d4d9",
   "metadata": {},
   "outputs": [],
   "source": []
  }
 ],
 "metadata": {
  "kernelspec": {
   "display_name": "Python 3",
   "language": "python",
   "name": "python3"
  },
  "language_info": {
   "codemirror_mode": {
    "name": "ipython",
    "version": 3
   },
   "file_extension": ".py",
   "mimetype": "text/x-python",
   "name": "python",
   "nbconvert_exporter": "python",
   "pygments_lexer": "ipython3",
   "version": "3.8.13"
  }
 },
 "nbformat": 4,
 "nbformat_minor": 5
}
