{
 "cells": [
  {
   "cell_type": "code",
   "execution_count": 59,
   "id": "fce92f58-421f-4e48-a417-8e1025705b80",
   "metadata": {
    "execution": {
     "iopub.execute_input": "2023-02-24T16:04:02.932135Z",
     "iopub.status.busy": "2023-02-24T16:04:02.931823Z",
     "iopub.status.idle": "2023-02-24T16:04:02.935690Z",
     "shell.execute_reply": "2023-02-24T16:04:02.934982Z",
     "shell.execute_reply.started": "2023-02-24T16:04:02.932106Z"
    },
    "tags": []
   },
   "outputs": [],
   "source": [
    "import sys\n",
    "sys.path.append('/home/maximilian.hofmann/ff_utils/src')\n",
    "\n",
    "from importlib import reload"
   ]
  },
  {
   "cell_type": "code",
   "execution_count": 60,
   "id": "a5360d0d-d347-430e-813d-c698462cd9ab",
   "metadata": {
    "execution": {
     "iopub.execute_input": "2023-02-24T16:04:03.323549Z",
     "iopub.status.busy": "2023-02-24T16:04:03.323134Z",
     "iopub.status.idle": "2023-02-24T16:04:03.327203Z",
     "shell.execute_reply": "2023-02-24T16:04:03.326398Z",
     "shell.execute_reply.started": "2023-02-24T16:04:03.323502Z"
    },
    "tags": []
   },
   "outputs": [],
   "source": [
    "import google_utils"
   ]
  },
  {
   "cell_type": "code",
   "execution_count": 61,
   "id": "6bb5c060-7513-4106-affd-58912efc5fc6",
   "metadata": {
    "execution": {
     "iopub.execute_input": "2023-02-24T16:04:03.329131Z",
     "iopub.status.busy": "2023-02-24T16:04:03.328793Z",
     "iopub.status.idle": "2023-02-24T16:04:03.359694Z",
     "shell.execute_reply": "2023-02-24T16:04:03.358719Z",
     "shell.execute_reply.started": "2023-02-24T16:04:03.329083Z"
    },
    "tags": []
   },
   "outputs": [],
   "source": [
    "from datetime import datetime"
   ]
  },
  {
   "cell_type": "code",
   "execution_count": 62,
   "id": "e383aa41-766c-4619-8520-aa483e012518",
   "metadata": {
    "execution": {
     "iopub.execute_input": "2023-02-24T16:04:03.406168Z",
     "iopub.status.busy": "2023-02-24T16:04:03.405802Z",
     "iopub.status.idle": "2023-02-24T16:04:03.459574Z",
     "shell.execute_reply": "2023-02-24T16:04:03.458962Z",
     "shell.execute_reply.started": "2023-02-24T16:04:03.406138Z"
    },
    "tags": []
   },
   "outputs": [],
   "source": [
    "bg = google_utils.BigQuery()"
   ]
  },
  {
   "cell_type": "markdown",
   "id": "9aef2dc0-c1a0-4336-b201-288a4e54afad",
   "metadata": {},
   "source": [
    "# Otter Data"
   ]
  },
  {
   "cell_type": "code",
   "execution_count": 63,
   "id": "70b400d4-e2cb-4d40-816d-6b23ae4fcfab",
   "metadata": {
    "execution": {
     "iopub.execute_input": "2023-02-24T16:04:03.836920Z",
     "iopub.status.busy": "2023-02-24T16:04:03.836590Z",
     "iopub.status.idle": "2023-02-24T16:04:03.840450Z",
     "shell.execute_reply": "2023-02-24T16:04:03.839688Z",
     "shell.execute_reply.started": "2023-02-24T16:04:03.836882Z"
    },
    "tags": []
   },
   "outputs": [],
   "source": [
    "sql = '''\n",
    "SELECT \n",
    "  country_code,\n",
    "  CAST(CAST(month AS DATE) AS STRING) AS month,\n",
    "  COUNT(*) AS count,\n",
    "  COUNT(DISTINCT unique_key) AS count_unique\n",
    " FROM `css-operations.brand_science.pricing_otter_data`\n",
    " GROUP BY 1,2\n",
    " ORDER BY 1,2\n",
    "'''"
   ]
  },
  {
   "cell_type": "code",
   "execution_count": 64,
   "id": "6f18671d-0fc1-4575-9fb8-c197c48b4d96",
   "metadata": {
    "execution": {
     "iopub.execute_input": "2023-02-24T16:04:03.878273Z",
     "iopub.status.busy": "2023-02-24T16:04:03.877922Z",
     "iopub.status.idle": "2023-02-24T16:04:18.330415Z",
     "shell.execute_reply": "2023-02-24T16:04:18.329585Z",
     "shell.execute_reply.started": "2023-02-24T16:04:03.878233Z"
    },
    "tags": []
   },
   "outputs": [],
   "source": [
    "data = bg.run_query(sql)"
   ]
  },
  {
   "cell_type": "code",
   "execution_count": 65,
   "id": "f9f6c507-5f20-4123-93c8-908a7ab81071",
   "metadata": {
    "execution": {
     "iopub.execute_input": "2023-02-24T16:04:18.331961Z",
     "iopub.status.busy": "2023-02-24T16:04:18.331782Z",
     "iopub.status.idle": "2023-02-24T16:04:18.339813Z",
     "shell.execute_reply": "2023-02-24T16:04:18.339108Z",
     "shell.execute_reply.started": "2023-02-24T16:04:18.331941Z"
    },
    "tags": []
   },
   "outputs": [],
   "source": [
    "df = data.pivot(index='month', columns='country_code', values='count')"
   ]
  },
  {
   "cell_type": "code",
   "execution_count": 66,
   "id": "9aec9218-6926-4198-9a86-fa4739b4df7e",
   "metadata": {
    "execution": {
     "iopub.execute_input": "2023-02-24T16:04:18.341445Z",
     "iopub.status.busy": "2023-02-24T16:04:18.341233Z",
     "iopub.status.idle": "2023-02-24T16:04:18.374237Z",
     "shell.execute_reply": "2023-02-24T16:04:18.373364Z",
     "shell.execute_reply.started": "2023-02-24T16:04:18.341422Z"
    },
    "tags": []
   },
   "outputs": [],
   "source": [
    "df = df.reset_index(drop=False)"
   ]
  },
  {
   "cell_type": "code",
   "execution_count": 67,
   "id": "cbdbb7fd-7b66-4a7f-9eb2-28cd97173148",
   "metadata": {
    "execution": {
     "iopub.execute_input": "2023-02-24T16:04:18.375656Z",
     "iopub.status.busy": "2023-02-24T16:04:18.375420Z",
     "iopub.status.idle": "2023-02-24T16:04:18.407820Z",
     "shell.execute_reply": "2023-02-24T16:04:18.407125Z",
     "shell.execute_reply.started": "2023-02-24T16:04:18.375611Z"
    },
    "tags": []
   },
   "outputs": [],
   "source": [
    "df_unique = data.pivot(index='month', columns='country_code', values='count_unique')"
   ]
  },
  {
   "cell_type": "code",
   "execution_count": 68,
   "id": "914d3ff7-bb2a-4344-815c-7089439a440d",
   "metadata": {
    "execution": {
     "iopub.execute_input": "2023-02-24T16:04:18.409055Z",
     "iopub.status.busy": "2023-02-24T16:04:18.408773Z",
     "iopub.status.idle": "2023-02-24T16:04:18.438922Z",
     "shell.execute_reply": "2023-02-24T16:04:18.438240Z",
     "shell.execute_reply.started": "2023-02-24T16:04:18.409033Z"
    },
    "tags": []
   },
   "outputs": [],
   "source": [
    "df_unique = df_unique.reset_index(drop=False)"
   ]
  },
  {
   "cell_type": "code",
   "execution_count": 69,
   "id": "fb87b7e2-8689-41eb-94d3-67c1bb3c9ec6",
   "metadata": {
    "execution": {
     "iopub.execute_input": "2023-02-24T16:04:18.440014Z",
     "iopub.status.busy": "2023-02-24T16:04:18.439653Z",
     "iopub.status.idle": "2023-02-24T16:04:18.525228Z",
     "shell.execute_reply": "2023-02-24T16:04:18.524172Z",
     "shell.execute_reply.started": "2023-02-24T16:04:18.439980Z"
    },
    "tags": []
   },
   "outputs": [],
   "source": [
    "pyg = google_utils.GSheets().client"
   ]
  },
  {
   "cell_type": "code",
   "execution_count": 70,
   "id": "611d6438-68b8-43ed-a752-836c45c8a94c",
   "metadata": {
    "execution": {
     "iopub.execute_input": "2023-02-24T16:04:18.526454Z",
     "iopub.status.busy": "2023-02-24T16:04:18.526253Z",
     "iopub.status.idle": "2023-02-24T16:04:19.252707Z",
     "shell.execute_reply": "2023-02-24T16:04:19.251907Z",
     "shell.execute_reply.started": "2023-02-24T16:04:18.526433Z"
    },
    "tags": []
   },
   "outputs": [],
   "source": [
    "gsheet = pyg.open_by_url('https://docs.google.com/spreadsheets/d/1gxB_60JSDvb2nVObVfSFB66qfWRIFyyNoAcEh-AvmcU/edit#gid=0')"
   ]
  },
  {
   "cell_type": "code",
   "execution_count": 71,
   "id": "776e190a-22f7-4e75-89aa-d8ca9bbcb04f",
   "metadata": {
    "execution": {
     "iopub.execute_input": "2023-02-24T16:04:19.255141Z",
     "iopub.status.busy": "2023-02-24T16:04:19.254912Z",
     "iopub.status.idle": "2023-02-24T16:04:19.258131Z",
     "shell.execute_reply": "2023-02-24T16:04:19.257411Z",
     "shell.execute_reply.started": "2023-02-24T16:04:19.255120Z"
    },
    "tags": []
   },
   "outputs": [],
   "source": [
    "wsheet = gsheet.worksheet_by_title('Otter Data')"
   ]
  },
  {
   "cell_type": "code",
   "execution_count": 72,
   "id": "5c03ff4c-92f3-43b8-8b74-3b5650d87534",
   "metadata": {
    "execution": {
     "iopub.execute_input": "2023-02-24T16:04:19.259518Z",
     "iopub.status.busy": "2023-02-24T16:04:19.259355Z",
     "iopub.status.idle": "2023-02-24T16:04:19.759340Z",
     "shell.execute_reply": "2023-02-24T16:04:19.758521Z",
     "shell.execute_reply.started": "2023-02-24T16:04:19.259490Z"
    },
    "tags": []
   },
   "outputs": [],
   "source": [
    "wsheet.clear(start='B4', end='Z35')"
   ]
  },
  {
   "cell_type": "code",
   "execution_count": 73,
   "id": "7398eff1-c9a6-472f-845a-30acab102291",
   "metadata": {
    "execution": {
     "iopub.execute_input": "2023-02-24T16:04:19.760957Z",
     "iopub.status.busy": "2023-02-24T16:04:19.760622Z",
     "iopub.status.idle": "2023-02-24T16:04:20.586878Z",
     "shell.execute_reply": "2023-02-24T16:04:20.586190Z",
     "shell.execute_reply.started": "2023-02-24T16:04:19.760926Z"
    },
    "tags": []
   },
   "outputs": [],
   "source": [
    "wsheet.set_dataframe(df, (4,2))"
   ]
  },
  {
   "cell_type": "code",
   "execution_count": 74,
   "id": "e50729d6-5e09-4128-86c8-15b04584cfbc",
   "metadata": {
    "execution": {
     "iopub.execute_input": "2023-02-24T16:04:20.587847Z",
     "iopub.status.busy": "2023-02-24T16:04:20.587689Z",
     "iopub.status.idle": "2023-02-24T16:04:20.940911Z",
     "shell.execute_reply": "2023-02-24T16:04:20.939814Z",
     "shell.execute_reply.started": "2023-02-24T16:04:20.587828Z"
    },
    "tags": []
   },
   "outputs": [],
   "source": [
    "wsheet.set_dataframe(df_unique, (4, 13))"
   ]
  },
  {
   "cell_type": "code",
   "execution_count": 75,
   "id": "ad17b770-b6ac-4833-9705-188253768318",
   "metadata": {
    "execution": {
     "iopub.execute_input": "2023-02-24T16:04:20.944552Z",
     "iopub.status.busy": "2023-02-24T16:04:20.944341Z",
     "iopub.status.idle": "2023-02-24T16:04:21.633164Z",
     "shell.execute_reply": "2023-02-24T16:04:21.632494Z",
     "shell.execute_reply.started": "2023-02-24T16:04:20.944527Z"
    },
    "tags": []
   },
   "outputs": [],
   "source": [
    "wsheet.cell(\"G2\").value = datetime.now().strftime('%Y-%m-%d %H:%M:%S')"
   ]
  },
  {
   "cell_type": "markdown",
   "id": "8ecaf0b9-dc1a-449e-9798-705ef0293769",
   "metadata": {
    "execution": {
     "iopub.execute_input": "2022-11-17T14:59:50.412815Z",
     "iopub.status.busy": "2022-11-17T14:59:50.412567Z",
     "iopub.status.idle": "2022-11-17T14:59:50.423947Z",
     "shell.execute_reply": "2022-11-17T14:59:50.423252Z",
     "shell.execute_reply.started": "2022-11-17T14:59:50.412784Z"
    },
    "tags": []
   },
   "source": [
    "# OFO Scrape Data"
   ]
  },
  {
   "cell_type": "code",
   "execution_count": 76,
   "id": "59eacaac-7181-4928-ad9d-09f3d9137327",
   "metadata": {
    "execution": {
     "iopub.execute_input": "2023-02-24T16:04:21.634496Z",
     "iopub.status.busy": "2023-02-24T16:04:21.634204Z",
     "iopub.status.idle": "2023-02-24T16:04:21.637114Z",
     "shell.execute_reply": "2023-02-24T16:04:21.636551Z",
     "shell.execute_reply.started": "2023-02-24T16:04:21.634470Z"
    },
    "tags": []
   },
   "outputs": [],
   "source": [
    "sql = '''\n",
    "SELECT \n",
    "  country_code,\n",
    "  CAST(CAST(month AS DATE) AS STRING) AS month,\n",
    "  COUNT(*) AS count,\n",
    "  COUNT(DISTINCT unique_key) AS count_unique\n",
    " FROM `css-operations.brand_science.pricing_ofo_scrape_data`\n",
    " WHERE country_code IS NOT NULL\n",
    " GROUP BY 1,2\n",
    " ORDER BY 1,2\n",
    "'''"
   ]
  },
  {
   "cell_type": "code",
   "execution_count": 77,
   "id": "6aeaf8c1-7dd7-4af9-ad82-2e2115bdaf83",
   "metadata": {
    "execution": {
     "iopub.execute_input": "2023-02-24T16:04:21.638034Z",
     "iopub.status.busy": "2023-02-24T16:04:21.637853Z",
     "iopub.status.idle": "2023-02-24T16:04:23.848854Z",
     "shell.execute_reply": "2023-02-24T16:04:23.848170Z",
     "shell.execute_reply.started": "2023-02-24T16:04:21.637981Z"
    },
    "tags": []
   },
   "outputs": [],
   "source": [
    "data = bg.run_query(sql)"
   ]
  },
  {
   "cell_type": "code",
   "execution_count": 78,
   "id": "be023a6c-22a9-4354-a24f-37a1f8046ed9",
   "metadata": {
    "execution": {
     "iopub.execute_input": "2023-02-24T16:04:23.849916Z",
     "iopub.status.busy": "2023-02-24T16:04:23.849736Z",
     "iopub.status.idle": "2023-02-24T16:04:23.856902Z",
     "shell.execute_reply": "2023-02-24T16:04:23.856277Z",
     "shell.execute_reply.started": "2023-02-24T16:04:23.849896Z"
    },
    "tags": []
   },
   "outputs": [],
   "source": [
    "df = data.pivot(index='month', columns='country_code', values='count')"
   ]
  },
  {
   "cell_type": "code",
   "execution_count": 79,
   "id": "a74f4794-6b1f-47af-8f78-edc044751ce0",
   "metadata": {
    "execution": {
     "iopub.execute_input": "2023-02-24T16:04:23.858291Z",
     "iopub.status.busy": "2023-02-24T16:04:23.858026Z",
     "iopub.status.idle": "2023-02-24T16:04:23.886661Z",
     "shell.execute_reply": "2023-02-24T16:04:23.885986Z",
     "shell.execute_reply.started": "2023-02-24T16:04:23.858255Z"
    },
    "tags": []
   },
   "outputs": [],
   "source": [
    "df = df.reset_index(drop=False)"
   ]
  },
  {
   "cell_type": "code",
   "execution_count": 80,
   "id": "90552415-f5db-498e-a5be-aa8647a641ac",
   "metadata": {
    "execution": {
     "iopub.execute_input": "2023-02-24T16:04:23.888003Z",
     "iopub.status.busy": "2023-02-24T16:04:23.887763Z",
     "iopub.status.idle": "2023-02-24T16:04:23.919798Z",
     "shell.execute_reply": "2023-02-24T16:04:23.918932Z",
     "shell.execute_reply.started": "2023-02-24T16:04:23.887971Z"
    },
    "tags": []
   },
   "outputs": [],
   "source": [
    "df_unique = data.pivot(index='month', columns='country_code', values='count_unique')"
   ]
  },
  {
   "cell_type": "code",
   "execution_count": 81,
   "id": "98f65792-a03f-4aef-9337-a07b84ba02cc",
   "metadata": {
    "execution": {
     "iopub.execute_input": "2023-02-24T16:04:23.921237Z",
     "iopub.status.busy": "2023-02-24T16:04:23.920971Z",
     "iopub.status.idle": "2023-02-24T16:04:23.948509Z",
     "shell.execute_reply": "2023-02-24T16:04:23.947829Z",
     "shell.execute_reply.started": "2023-02-24T16:04:23.921204Z"
    },
    "tags": []
   },
   "outputs": [],
   "source": [
    "df_unique = df_unique.reset_index(drop=False)"
   ]
  },
  {
   "cell_type": "code",
   "execution_count": 82,
   "id": "4dd7dc7b-3e2c-432c-9355-40ae882b2703",
   "metadata": {
    "execution": {
     "iopub.execute_input": "2023-02-24T16:04:23.949971Z",
     "iopub.status.busy": "2023-02-24T16:04:23.949769Z",
     "iopub.status.idle": "2023-02-24T16:04:24.043008Z",
     "shell.execute_reply": "2023-02-24T16:04:24.042161Z",
     "shell.execute_reply.started": "2023-02-24T16:04:23.949938Z"
    },
    "tags": []
   },
   "outputs": [],
   "source": [
    "pyg = google_utils.GSheets().client"
   ]
  },
  {
   "cell_type": "code",
   "execution_count": 83,
   "id": "8d5e15b3-9e73-4627-9b21-6184247ed5c7",
   "metadata": {
    "execution": {
     "iopub.execute_input": "2023-02-24T16:04:24.044284Z",
     "iopub.status.busy": "2023-02-24T16:04:24.044071Z",
     "iopub.status.idle": "2023-02-24T16:04:24.047367Z",
     "shell.execute_reply": "2023-02-24T16:04:24.046737Z",
     "shell.execute_reply.started": "2023-02-24T16:04:24.044261Z"
    },
    "tags": []
   },
   "outputs": [],
   "source": [
    "wsheet = gsheet.worksheet_by_title('OFO Scrape Data')"
   ]
  },
  {
   "cell_type": "code",
   "execution_count": 84,
   "id": "4b62695f-3c34-44ef-9229-9ed7a1a9af95",
   "metadata": {
    "execution": {
     "iopub.execute_input": "2023-02-24T16:04:24.048196Z",
     "iopub.status.busy": "2023-02-24T16:04:24.048050Z",
     "iopub.status.idle": "2023-02-24T16:04:24.440359Z",
     "shell.execute_reply": "2023-02-24T16:04:24.439669Z",
     "shell.execute_reply.started": "2023-02-24T16:04:24.048179Z"
    },
    "tags": []
   },
   "outputs": [],
   "source": [
    "wsheet.clear(start='B4', end='Z1000')"
   ]
  },
  {
   "cell_type": "code",
   "execution_count": 85,
   "id": "8f6750f5-b178-4356-8137-e13a8c233641",
   "metadata": {
    "execution": {
     "iopub.execute_input": "2023-02-24T16:04:24.441684Z",
     "iopub.status.busy": "2023-02-24T16:04:24.441489Z",
     "iopub.status.idle": "2023-02-24T16:04:24.907804Z",
     "shell.execute_reply": "2023-02-24T16:04:24.907131Z",
     "shell.execute_reply.started": "2023-02-24T16:04:24.441660Z"
    },
    "tags": []
   },
   "outputs": [],
   "source": [
    "wsheet.set_dataframe(df, (4,2))"
   ]
  },
  {
   "cell_type": "code",
   "execution_count": 86,
   "id": "87dd7479-3175-433b-ae62-025d42971758",
   "metadata": {
    "execution": {
     "iopub.execute_input": "2023-02-24T16:04:24.910206Z",
     "iopub.status.busy": "2023-02-24T16:04:24.909889Z",
     "iopub.status.idle": "2023-02-24T16:04:25.281256Z",
     "shell.execute_reply": "2023-02-24T16:04:25.280471Z",
     "shell.execute_reply.started": "2023-02-24T16:04:24.910181Z"
    },
    "tags": []
   },
   "outputs": [],
   "source": [
    "wsheet.set_dataframe(df_unique, (26, 2))"
   ]
  },
  {
   "cell_type": "code",
   "execution_count": 87,
   "id": "75b1ea50-4095-4040-836b-a765c198867d",
   "metadata": {
    "execution": {
     "iopub.execute_input": "2023-02-24T16:04:25.282489Z",
     "iopub.status.busy": "2023-02-24T16:04:25.282312Z",
     "iopub.status.idle": "2023-02-24T16:04:25.971284Z",
     "shell.execute_reply": "2023-02-24T16:04:25.970098Z",
     "shell.execute_reply.started": "2023-02-24T16:04:25.282468Z"
    },
    "tags": []
   },
   "outputs": [],
   "source": [
    "wsheet.cell(\"G2\").value = datetime.now().strftime('%Y-%m-%d %H:%M:%S')"
   ]
  },
  {
   "cell_type": "code",
   "execution_count": null,
   "id": "7e4a6217-df81-4938-bc28-225b94b77693",
   "metadata": {},
   "outputs": [],
   "source": []
  },
  {
   "cell_type": "code",
   "execution_count": null,
   "id": "0112cee3-d876-456c-a81d-33da698608f7",
   "metadata": {},
   "outputs": [],
   "source": []
  }
 ],
 "metadata": {
  "kernelspec": {
   "display_name": "Python 3",
   "language": "python",
   "name": "python3"
  },
  "language_info": {
   "codemirror_mode": {
    "name": "ipython",
    "version": 3
   },
   "file_extension": ".py",
   "mimetype": "text/x-python",
   "name": "python",
   "nbconvert_exporter": "python",
   "pygments_lexer": "ipython3",
   "version": "3.8.13"
  }
 },
 "nbformat": 4,
 "nbformat_minor": 5
}
