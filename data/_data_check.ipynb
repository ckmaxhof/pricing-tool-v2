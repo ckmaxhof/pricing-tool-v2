{
 "cells": [
  {
   "cell_type": "code",
   "execution_count": 2,
   "id": "fce92f58-421f-4e48-a417-8e1025705b80",
   "metadata": {
    "execution": {
     "iopub.execute_input": "2022-11-24T10:57:02.144860Z",
     "iopub.status.busy": "2022-11-24T10:57:02.144582Z",
     "iopub.status.idle": "2022-11-24T10:57:02.148128Z",
     "shell.execute_reply": "2022-11-24T10:57:02.147508Z",
     "shell.execute_reply.started": "2022-11-24T10:57:02.144830Z"
    },
    "tags": []
   },
   "outputs": [],
   "source": [
    "import sys\n",
    "sys.path.append('/home/maximilian.hofmann/ff_utils/src')\n",
    "\n",
    "from importlib import reload"
   ]
  },
  {
   "cell_type": "code",
   "execution_count": 3,
   "id": "a5360d0d-d347-430e-813d-c698462cd9ab",
   "metadata": {
    "execution": {
     "iopub.execute_input": "2022-11-24T10:57:02.323918Z",
     "iopub.status.busy": "2022-11-24T10:57:02.323722Z",
     "iopub.status.idle": "2022-11-24T10:57:04.955639Z",
     "shell.execute_reply": "2022-11-24T10:57:04.954983Z",
     "shell.execute_reply.started": "2022-11-24T10:57:02.323897Z"
    },
    "tags": []
   },
   "outputs": [
    {
     "name": "stderr",
     "output_type": "stream",
     "text": [
      "/app/infra/data/jupyterhub/images/singleuser_spark/main.binary.runfiles/vendor_python_geopandas/site-packages/geopandas/_compat.py:111: UserWarning: The Shapely GEOS version (3.8.0-CAPI-1.13.1 ) is incompatible with the GEOS version PyGEOS was compiled with (3.10.1-CAPI-1.16.0). Conversions between both will be slow.\n",
      "  warnings.warn(\n"
     ]
    }
   ],
   "source": [
    "import google_utils"
   ]
  },
  {
   "cell_type": "code",
   "execution_count": 4,
   "id": "6bb5c060-7513-4106-affd-58912efc5fc6",
   "metadata": {
    "execution": {
     "iopub.execute_input": "2022-11-24T10:57:04.956755Z",
     "iopub.status.busy": "2022-11-24T10:57:04.956609Z",
     "iopub.status.idle": "2022-11-24T10:57:04.959563Z",
     "shell.execute_reply": "2022-11-24T10:57:04.958918Z",
     "shell.execute_reply.started": "2022-11-24T10:57:04.956737Z"
    },
    "tags": []
   },
   "outputs": [],
   "source": [
    "from datetime import datetime"
   ]
  },
  {
   "cell_type": "code",
   "execution_count": 5,
   "id": "e383aa41-766c-4619-8520-aa483e012518",
   "metadata": {
    "execution": {
     "iopub.execute_input": "2022-11-24T10:57:04.960909Z",
     "iopub.status.busy": "2022-11-24T10:57:04.960720Z",
     "iopub.status.idle": "2022-11-24T10:57:05.125245Z",
     "shell.execute_reply": "2022-11-24T10:57:05.124471Z",
     "shell.execute_reply.started": "2022-11-24T10:57:04.960886Z"
    },
    "tags": []
   },
   "outputs": [],
   "source": [
    "bg = google_utils.BigQuery()"
   ]
  },
  {
   "cell_type": "markdown",
   "id": "9aef2dc0-c1a0-4336-b201-288a4e54afad",
   "metadata": {},
   "source": [
    "# Otter Data"
   ]
  },
  {
   "cell_type": "code",
   "execution_count": 182,
   "id": "70b400d4-e2cb-4d40-816d-6b23ae4fcfab",
   "metadata": {
    "execution": {
     "iopub.execute_input": "2022-11-23T20:10:14.729956Z",
     "iopub.status.busy": "2022-11-23T20:10:14.729759Z",
     "iopub.status.idle": "2022-11-23T20:10:14.732717Z",
     "shell.execute_reply": "2022-11-23T20:10:14.732155Z",
     "shell.execute_reply.started": "2022-11-23T20:10:14.729936Z"
    },
    "tags": []
   },
   "outputs": [],
   "source": [
    "sql = '''\n",
    "SELECT \n",
    "  country_code,\n",
    "  CAST(CAST(month AS DATE) AS STRING) AS month,\n",
    "  COUNT(*) AS count,\n",
    "  COUNT(DISTINCT unique_key) AS count_unique\n",
    " FROM `css-operations.brand_science.pricing_otter_data`\n",
    " GROUP BY 1,2\n",
    " ORDER BY 1,2\n",
    "'''"
   ]
  },
  {
   "cell_type": "code",
   "execution_count": 183,
   "id": "6f18671d-0fc1-4575-9fb8-c197c48b4d96",
   "metadata": {
    "execution": {
     "iopub.execute_input": "2022-11-23T20:10:14.972402Z",
     "iopub.status.busy": "2022-11-23T20:10:14.972201Z",
     "iopub.status.idle": "2022-11-23T20:10:23.784290Z",
     "shell.execute_reply": "2022-11-23T20:10:23.783703Z",
     "shell.execute_reply.started": "2022-11-23T20:10:14.972381Z"
    },
    "tags": []
   },
   "outputs": [],
   "source": [
    "data = bg.run_query(sql)"
   ]
  },
  {
   "cell_type": "code",
   "execution_count": 184,
   "id": "f9f6c507-5f20-4123-93c8-908a7ab81071",
   "metadata": {
    "execution": {
     "iopub.execute_input": "2022-11-23T20:10:23.785315Z",
     "iopub.status.busy": "2022-11-23T20:10:23.785170Z",
     "iopub.status.idle": "2022-11-23T20:10:23.790072Z",
     "shell.execute_reply": "2022-11-23T20:10:23.789523Z",
     "shell.execute_reply.started": "2022-11-23T20:10:23.785296Z"
    },
    "tags": []
   },
   "outputs": [],
   "source": [
    "df = data.pivot(index='month', columns='country_code', values='count')"
   ]
  },
  {
   "cell_type": "code",
   "execution_count": 185,
   "id": "9aec9218-6926-4198-9a86-fa4739b4df7e",
   "metadata": {
    "execution": {
     "iopub.execute_input": "2022-11-23T20:10:23.791180Z",
     "iopub.status.busy": "2022-11-23T20:10:23.791043Z",
     "iopub.status.idle": "2022-11-23T20:10:23.819361Z",
     "shell.execute_reply": "2022-11-23T20:10:23.818835Z",
     "shell.execute_reply.started": "2022-11-23T20:10:23.791163Z"
    },
    "tags": []
   },
   "outputs": [],
   "source": [
    "df = df.reset_index(drop=False)"
   ]
  },
  {
   "cell_type": "code",
   "execution_count": 186,
   "id": "cbdbb7fd-7b66-4a7f-9eb2-28cd97173148",
   "metadata": {
    "execution": {
     "iopub.execute_input": "2022-11-23T20:10:23.820315Z",
     "iopub.status.busy": "2022-11-23T20:10:23.820158Z",
     "iopub.status.idle": "2022-11-23T20:10:23.848365Z",
     "shell.execute_reply": "2022-11-23T20:10:23.847755Z",
     "shell.execute_reply.started": "2022-11-23T20:10:23.820298Z"
    },
    "tags": []
   },
   "outputs": [],
   "source": [
    "df_unique = data.pivot(index='month', columns='country_code', values='count_unique')"
   ]
  },
  {
   "cell_type": "code",
   "execution_count": 187,
   "id": "914d3ff7-bb2a-4344-815c-7089439a440d",
   "metadata": {
    "execution": {
     "iopub.execute_input": "2022-11-23T20:10:23.849342Z",
     "iopub.status.busy": "2022-11-23T20:10:23.849171Z",
     "iopub.status.idle": "2022-11-23T20:10:23.882363Z",
     "shell.execute_reply": "2022-11-23T20:10:23.881911Z",
     "shell.execute_reply.started": "2022-11-23T20:10:23.849322Z"
    },
    "tags": []
   },
   "outputs": [],
   "source": [
    "df_unique = df_unique.reset_index(drop=False)"
   ]
  },
  {
   "cell_type": "code",
   "execution_count": 188,
   "id": "fb87b7e2-8689-41eb-94d3-67c1bb3c9ec6",
   "metadata": {
    "execution": {
     "iopub.execute_input": "2022-11-23T20:10:23.883180Z",
     "iopub.status.busy": "2022-11-23T20:10:23.883024Z",
     "iopub.status.idle": "2022-11-23T20:10:24.011654Z",
     "shell.execute_reply": "2022-11-23T20:10:24.011107Z",
     "shell.execute_reply.started": "2022-11-23T20:10:23.883162Z"
    },
    "tags": []
   },
   "outputs": [],
   "source": [
    "pyg = google_utils.GSheets().client"
   ]
  },
  {
   "cell_type": "code",
   "execution_count": 13,
   "id": "611d6438-68b8-43ed-a752-836c45c8a94c",
   "metadata": {
    "execution": {
     "iopub.execute_input": "2022-11-24T10:57:11.472105Z",
     "iopub.status.busy": "2022-11-24T10:57:11.471829Z",
     "iopub.status.idle": "2022-11-24T10:57:12.104331Z",
     "shell.execute_reply": "2022-11-24T10:57:12.103616Z",
     "shell.execute_reply.started": "2022-11-24T10:57:11.472078Z"
    },
    "tags": []
   },
   "outputs": [],
   "source": [
    "gsheet = pyg.open_by_url('https://docs.google.com/spreadsheets/d/1gxB_60JSDvb2nVObVfSFB66qfWRIFyyNoAcEh-AvmcU/edit#gid=0')"
   ]
  },
  {
   "cell_type": "code",
   "execution_count": 190,
   "id": "776e190a-22f7-4e75-89aa-d8ca9bbcb04f",
   "metadata": {
    "execution": {
     "iopub.execute_input": "2022-11-23T20:10:24.552082Z",
     "iopub.status.busy": "2022-11-23T20:10:24.551922Z",
     "iopub.status.idle": "2022-11-23T20:10:24.554554Z",
     "shell.execute_reply": "2022-11-23T20:10:24.554120Z",
     "shell.execute_reply.started": "2022-11-23T20:10:24.552063Z"
    },
    "tags": []
   },
   "outputs": [],
   "source": [
    "wsheet = gsheet.worksheet_by_title('Otter Data')"
   ]
  },
  {
   "cell_type": "code",
   "execution_count": 191,
   "id": "5c03ff4c-92f3-43b8-8b74-3b5650d87534",
   "metadata": {
    "execution": {
     "iopub.execute_input": "2022-11-23T20:10:24.555409Z",
     "iopub.status.busy": "2022-11-23T20:10:24.555268Z",
     "iopub.status.idle": "2022-11-23T20:10:24.866697Z",
     "shell.execute_reply": "2022-11-23T20:10:24.866110Z",
     "shell.execute_reply.started": "2022-11-23T20:10:24.555392Z"
    },
    "tags": []
   },
   "outputs": [],
   "source": [
    "wsheet.clear(start='B4', end='Z35')"
   ]
  },
  {
   "cell_type": "code",
   "execution_count": 192,
   "id": "7398eff1-c9a6-472f-845a-30acab102291",
   "metadata": {
    "execution": {
     "iopub.execute_input": "2022-11-23T20:10:24.867703Z",
     "iopub.status.busy": "2022-11-23T20:10:24.867536Z",
     "iopub.status.idle": "2022-11-23T20:10:25.104646Z",
     "shell.execute_reply": "2022-11-23T20:10:25.104104Z",
     "shell.execute_reply.started": "2022-11-23T20:10:24.867682Z"
    },
    "tags": []
   },
   "outputs": [],
   "source": [
    "wsheet.set_dataframe(df, (4,2))"
   ]
  },
  {
   "cell_type": "code",
   "execution_count": 193,
   "id": "e50729d6-5e09-4128-86c8-15b04584cfbc",
   "metadata": {
    "execution": {
     "iopub.execute_input": "2022-11-23T20:10:25.105496Z",
     "iopub.status.busy": "2022-11-23T20:10:25.105351Z",
     "iopub.status.idle": "2022-11-23T20:10:25.341107Z",
     "shell.execute_reply": "2022-11-23T20:10:25.340544Z",
     "shell.execute_reply.started": "2022-11-23T20:10:25.105478Z"
    },
    "tags": []
   },
   "outputs": [],
   "source": [
    "wsheet.set_dataframe(df_unique, (4, 13))"
   ]
  },
  {
   "cell_type": "code",
   "execution_count": 194,
   "id": "ad17b770-b6ac-4833-9705-188253768318",
   "metadata": {
    "execution": {
     "iopub.execute_input": "2022-11-23T20:10:25.342019Z",
     "iopub.status.busy": "2022-11-23T20:10:25.341868Z",
     "iopub.status.idle": "2022-11-23T20:10:25.784937Z",
     "shell.execute_reply": "2022-11-23T20:10:25.784448Z",
     "shell.execute_reply.started": "2022-11-23T20:10:25.342000Z"
    },
    "tags": []
   },
   "outputs": [],
   "source": [
    "wsheet.cell(\"G2\").value = datetime.now().strftime('%Y-%m-%d %H:%M:%S')"
   ]
  },
  {
   "cell_type": "markdown",
   "id": "8ecaf0b9-dc1a-449e-9798-705ef0293769",
   "metadata": {
    "execution": {
     "iopub.execute_input": "2022-11-17T14:59:50.412815Z",
     "iopub.status.busy": "2022-11-17T14:59:50.412567Z",
     "iopub.status.idle": "2022-11-17T14:59:50.423947Z",
     "shell.execute_reply": "2022-11-17T14:59:50.423252Z",
     "shell.execute_reply.started": "2022-11-17T14:59:50.412784Z"
    },
    "tags": []
   },
   "source": [
    "# OFO Scrape Data"
   ]
  },
  {
   "cell_type": "code",
   "execution_count": 1,
   "id": "59eacaac-7181-4928-ad9d-09f3d9137327",
   "metadata": {
    "execution": {
     "iopub.execute_input": "2022-11-24T10:56:59.755659Z",
     "iopub.status.busy": "2022-11-24T10:56:59.755435Z",
     "iopub.status.idle": "2022-11-24T10:56:59.761398Z",
     "shell.execute_reply": "2022-11-24T10:56:59.760781Z",
     "shell.execute_reply.started": "2022-11-24T10:56:59.755596Z"
    },
    "tags": []
   },
   "outputs": [],
   "source": [
    "sql = '''\n",
    "SELECT \n",
    "  country_code,\n",
    "  CAST(CAST(month AS DATE) AS STRING) AS month,\n",
    "  COUNT(*) AS count,\n",
    "  COUNT(DISTINCT unique_key) AS count_unique\n",
    " FROM `css-operations.brand_science.pricing_ofo_scrape_data`\n",
    " WHERE country_code IS NOT NULL\n",
    " GROUP BY 1,2\n",
    " ORDER BY 1,2\n",
    "'''"
   ]
  },
  {
   "cell_type": "code",
   "execution_count": 6,
   "id": "6aeaf8c1-7dd7-4af9-ad82-2e2115bdaf83",
   "metadata": {
    "execution": {
     "iopub.execute_input": "2022-11-24T10:57:05.379662Z",
     "iopub.status.busy": "2022-11-24T10:57:05.379458Z",
     "iopub.status.idle": "2022-11-24T10:57:07.646598Z",
     "shell.execute_reply": "2022-11-24T10:57:07.646031Z",
     "shell.execute_reply.started": "2022-11-24T10:57:05.379640Z"
    },
    "tags": []
   },
   "outputs": [],
   "source": [
    "data = bg.run_query(sql)"
   ]
  },
  {
   "cell_type": "code",
   "execution_count": 7,
   "id": "be023a6c-22a9-4354-a24f-37a1f8046ed9",
   "metadata": {
    "execution": {
     "iopub.execute_input": "2022-11-24T10:57:07.647667Z",
     "iopub.status.busy": "2022-11-24T10:57:07.647520Z",
     "iopub.status.idle": "2022-11-24T10:57:07.653751Z",
     "shell.execute_reply": "2022-11-24T10:57:07.653204Z",
     "shell.execute_reply.started": "2022-11-24T10:57:07.647649Z"
    },
    "tags": []
   },
   "outputs": [],
   "source": [
    "df = data.pivot(index='month', columns='country_code', values='count')"
   ]
  },
  {
   "cell_type": "code",
   "execution_count": 8,
   "id": "a74f4794-6b1f-47af-8f78-edc044751ce0",
   "metadata": {
    "execution": {
     "iopub.execute_input": "2022-11-24T10:57:07.654879Z",
     "iopub.status.busy": "2022-11-24T10:57:07.654747Z",
     "iopub.status.idle": "2022-11-24T10:57:07.673677Z",
     "shell.execute_reply": "2022-11-24T10:57:07.673096Z",
     "shell.execute_reply.started": "2022-11-24T10:57:07.654863Z"
    },
    "tags": []
   },
   "outputs": [],
   "source": [
    "df = df.reset_index(drop=False)"
   ]
  },
  {
   "cell_type": "code",
   "execution_count": 9,
   "id": "90552415-f5db-498e-a5be-aa8647a641ac",
   "metadata": {
    "execution": {
     "iopub.execute_input": "2022-11-24T10:57:07.674849Z",
     "iopub.status.busy": "2022-11-24T10:57:07.674691Z",
     "iopub.status.idle": "2022-11-24T10:57:07.696682Z",
     "shell.execute_reply": "2022-11-24T10:57:07.696144Z",
     "shell.execute_reply.started": "2022-11-24T10:57:07.674829Z"
    },
    "tags": []
   },
   "outputs": [],
   "source": [
    "df_unique = data.pivot(index='month', columns='country_code', values='count_unique')"
   ]
  },
  {
   "cell_type": "code",
   "execution_count": 10,
   "id": "98f65792-a03f-4aef-9337-a07b84ba02cc",
   "metadata": {
    "execution": {
     "iopub.execute_input": "2022-11-24T10:57:07.697529Z",
     "iopub.status.busy": "2022-11-24T10:57:07.697384Z",
     "iopub.status.idle": "2022-11-24T10:57:07.718845Z",
     "shell.execute_reply": "2022-11-24T10:57:07.718081Z",
     "shell.execute_reply.started": "2022-11-24T10:57:07.697511Z"
    },
    "tags": []
   },
   "outputs": [],
   "source": [
    "df_unique = df_unique.reset_index(drop=False)"
   ]
  },
  {
   "cell_type": "code",
   "execution_count": 11,
   "id": "4dd7dc7b-3e2c-432c-9355-40ae882b2703",
   "metadata": {
    "execution": {
     "iopub.execute_input": "2022-11-24T10:57:07.719937Z",
     "iopub.status.busy": "2022-11-24T10:57:07.719763Z",
     "iopub.status.idle": "2022-11-24T10:57:07.785720Z",
     "shell.execute_reply": "2022-11-24T10:57:07.785213Z",
     "shell.execute_reply.started": "2022-11-24T10:57:07.719915Z"
    },
    "tags": []
   },
   "outputs": [],
   "source": [
    "pyg = google_utils.GSheets().client"
   ]
  },
  {
   "cell_type": "code",
   "execution_count": 14,
   "id": "8d5e15b3-9e73-4627-9b21-6184247ed5c7",
   "metadata": {
    "execution": {
     "iopub.execute_input": "2022-11-24T10:57:13.430525Z",
     "iopub.status.busy": "2022-11-24T10:57:13.430303Z",
     "iopub.status.idle": "2022-11-24T10:57:13.433030Z",
     "shell.execute_reply": "2022-11-24T10:57:13.432569Z",
     "shell.execute_reply.started": "2022-11-24T10:57:13.430501Z"
    },
    "tags": []
   },
   "outputs": [],
   "source": [
    "wsheet = gsheet.worksheet_by_title('OFO Scrape Data')"
   ]
  },
  {
   "cell_type": "code",
   "execution_count": 15,
   "id": "4b62695f-3c34-44ef-9229-9ed7a1a9af95",
   "metadata": {
    "execution": {
     "iopub.execute_input": "2022-11-24T10:57:14.037344Z",
     "iopub.status.busy": "2022-11-24T10:57:14.037150Z",
     "iopub.status.idle": "2022-11-24T10:57:14.301470Z",
     "shell.execute_reply": "2022-11-24T10:57:14.300969Z",
     "shell.execute_reply.started": "2022-11-24T10:57:14.037324Z"
    },
    "tags": []
   },
   "outputs": [],
   "source": [
    "wsheet.clear(start='B4', end='Z1000')"
   ]
  },
  {
   "cell_type": "code",
   "execution_count": 16,
   "id": "8f6750f5-b178-4356-8137-e13a8c233641",
   "metadata": {
    "execution": {
     "iopub.execute_input": "2022-11-24T10:57:14.302447Z",
     "iopub.status.busy": "2022-11-24T10:57:14.302271Z",
     "iopub.status.idle": "2022-11-24T10:57:14.498765Z",
     "shell.execute_reply": "2022-11-24T10:57:14.498023Z",
     "shell.execute_reply.started": "2022-11-24T10:57:14.302429Z"
    },
    "tags": []
   },
   "outputs": [],
   "source": [
    "wsheet.set_dataframe(df, (4,2))"
   ]
  },
  {
   "cell_type": "code",
   "execution_count": 17,
   "id": "87dd7479-3175-433b-ae62-025d42971758",
   "metadata": {
    "execution": {
     "iopub.execute_input": "2022-11-24T10:57:14.500327Z",
     "iopub.status.busy": "2022-11-24T10:57:14.500107Z",
     "iopub.status.idle": "2022-11-24T10:57:14.687479Z",
     "shell.execute_reply": "2022-11-24T10:57:14.686955Z",
     "shell.execute_reply.started": "2022-11-24T10:57:14.500296Z"
    },
    "tags": []
   },
   "outputs": [],
   "source": [
    "wsheet.set_dataframe(df_unique, (26, 2))"
   ]
  },
  {
   "cell_type": "code",
   "execution_count": 18,
   "id": "75b1ea50-4095-4040-836b-a765c198867d",
   "metadata": {
    "execution": {
     "iopub.execute_input": "2022-11-24T10:57:14.688392Z",
     "iopub.status.busy": "2022-11-24T10:57:14.688256Z",
     "iopub.status.idle": "2022-11-24T10:57:15.319831Z",
     "shell.execute_reply": "2022-11-24T10:57:15.319102Z",
     "shell.execute_reply.started": "2022-11-24T10:57:14.688375Z"
    },
    "tags": []
   },
   "outputs": [],
   "source": [
    "wsheet.cell(\"G2\").value = datetime.now().strftime('%Y-%m-%d %H:%M:%S')"
   ]
  },
  {
   "cell_type": "code",
   "execution_count": null,
   "id": "7e4a6217-df81-4938-bc28-225b94b77693",
   "metadata": {},
   "outputs": [],
   "source": []
  },
  {
   "cell_type": "code",
   "execution_count": null,
   "id": "0112cee3-d876-456c-a81d-33da698608f7",
   "metadata": {},
   "outputs": [],
   "source": []
  }
 ],
 "metadata": {
  "kernelspec": {
   "display_name": "Python 3",
   "language": "python",
   "name": "python3"
  },
  "language_info": {
   "codemirror_mode": {
    "name": "ipython",
    "version": 3
   },
   "file_extension": ".py",
   "mimetype": "text/x-python",
   "name": "python",
   "nbconvert_exporter": "python",
   "pygments_lexer": "ipython3",
   "version": "3.8.13"
  }
 },
 "nbformat": 4,
 "nbformat_minor": 5
}
