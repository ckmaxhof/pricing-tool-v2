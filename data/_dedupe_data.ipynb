{
 "cells": [
  {
   "cell_type": "code",
   "execution_count": 13,
   "id": "e35946d5-556f-4935-98df-8fd1b10da7ad",
   "metadata": {
    "execution": {
     "iopub.execute_input": "2022-11-23T16:03:09.979623Z",
     "iopub.status.busy": "2022-11-23T16:03:09.979395Z",
     "iopub.status.idle": "2022-11-23T16:03:09.982713Z",
     "shell.execute_reply": "2022-11-23T16:03:09.982019Z",
     "shell.execute_reply.started": "2022-11-23T16:03:09.979600Z"
    },
    "tags": []
   },
   "outputs": [],
   "source": [
    "import sys\n",
    "sys.path.append('/home/maximilian.hofmann/ff_utils/src')\n",
    "\n",
    "from importlib import reload"
   ]
  },
  {
   "cell_type": "code",
   "execution_count": 14,
   "id": "dd48c374-9f77-4f97-a413-8579e0020456",
   "metadata": {
    "execution": {
     "iopub.execute_input": "2022-11-23T16:03:10.132422Z",
     "iopub.status.busy": "2022-11-23T16:03:10.132219Z",
     "iopub.status.idle": "2022-11-23T16:03:10.135232Z",
     "shell.execute_reply": "2022-11-23T16:03:10.134602Z",
     "shell.execute_reply.started": "2022-11-23T16:03:10.132402Z"
    },
    "tags": []
   },
   "outputs": [],
   "source": [
    "from google_utils import BigQuery"
   ]
  },
  {
   "cell_type": "code",
   "execution_count": 15,
   "id": "f3a6bf26-ae7b-492d-8668-e6edc842f98c",
   "metadata": {
    "execution": {
     "iopub.execute_input": "2022-11-23T16:03:10.285459Z",
     "iopub.status.busy": "2022-11-23T16:03:10.285233Z",
     "iopub.status.idle": "2022-11-23T16:03:10.396812Z",
     "shell.execute_reply": "2022-11-23T16:03:10.396316Z",
     "shell.execute_reply.started": "2022-11-23T16:03:10.285439Z"
    },
    "tags": []
   },
   "outputs": [],
   "source": [
    "bg = BigQuery()"
   ]
  },
  {
   "cell_type": "markdown",
   "id": "a8c93ee8-a972-4d8d-b9af-7530f4ad7627",
   "metadata": {},
   "source": [
    "# OTTER DATA"
   ]
  },
  {
   "cell_type": "code",
   "execution_count": 16,
   "id": "86dd8e8a-3fbb-4aef-9dd1-2b4dfe7a791c",
   "metadata": {
    "execution": {
     "iopub.execute_input": "2022-11-23T16:03:10.585908Z",
     "iopub.status.busy": "2022-11-23T16:03:10.585691Z",
     "iopub.status.idle": "2022-11-23T16:03:11.312906Z",
     "shell.execute_reply": "2022-11-23T16:03:11.312392Z",
     "shell.execute_reply.started": "2022-11-23T16:03:10.585886Z"
    },
    "tags": []
   },
   "outputs": [
    {
     "data": {
      "text/html": [
       "<div>\n",
       "<style scoped>\n",
       "    .dataframe tbody tr th:only-of-type {\n",
       "        vertical-align: middle;\n",
       "    }\n",
       "\n",
       "    .dataframe tbody tr th {\n",
       "        vertical-align: top;\n",
       "    }\n",
       "\n",
       "    .dataframe thead th {\n",
       "        text-align: right;\n",
       "    }\n",
       "</style>\n",
       "<table border=\"1\" class=\"dataframe\">\n",
       "  <thead>\n",
       "    <tr style=\"text-align: right;\">\n",
       "      <th></th>\n",
       "    </tr>\n",
       "  </thead>\n",
       "  <tbody>\n",
       "  </tbody>\n",
       "</table>\n",
       "</div>"
      ],
      "text/plain": [
       "Empty DataFrame\n",
       "Columns: []\n",
       "Index: []"
      ]
     },
     "execution_count": 16,
     "metadata": {},
     "output_type": "execute_result"
    }
   ],
   "source": [
    "# Drop Dedupe Staging Table\n",
    "bg.run_query('DROP TABLE IF EXISTS `css-operations.brand_science_stag.pricing_otter_data_deduped`;')"
   ]
  },
  {
   "cell_type": "code",
   "execution_count": 17,
   "id": "8372b528-ed7b-48a4-b473-8b9729c68f1c",
   "metadata": {
    "execution": {
     "iopub.execute_input": "2022-11-23T16:03:11.313917Z",
     "iopub.status.busy": "2022-11-23T16:03:11.313774Z",
     "iopub.status.idle": "2022-11-23T16:03:35.601162Z",
     "shell.execute_reply": "2022-11-23T16:03:35.600680Z",
     "shell.execute_reply.started": "2022-11-23T16:03:11.313899Z"
    },
    "tags": []
   },
   "outputs": [
    {
     "data": {
      "text/html": [
       "<div>\n",
       "<style scoped>\n",
       "    .dataframe tbody tr th:only-of-type {\n",
       "        vertical-align: middle;\n",
       "    }\n",
       "\n",
       "    .dataframe tbody tr th {\n",
       "        vertical-align: top;\n",
       "    }\n",
       "\n",
       "    .dataframe thead th {\n",
       "        text-align: right;\n",
       "    }\n",
       "</style>\n",
       "<table border=\"1\" class=\"dataframe\">\n",
       "  <thead>\n",
       "    <tr style=\"text-align: right;\">\n",
       "      <th></th>\n",
       "    </tr>\n",
       "  </thead>\n",
       "  <tbody>\n",
       "  </tbody>\n",
       "</table>\n",
       "</div>"
      ],
      "text/plain": [
       "Empty DataFrame\n",
       "Columns: []\n",
       "Index: []"
      ]
     },
     "execution_count": 17,
     "metadata": {},
     "output_type": "execute_result"
    }
   ],
   "source": [
    "# Create New Deduped Table\n",
    "bg.run_query('''\n",
    "CREATE OR REPLACE TABLE `css-operations.brand_science_stag.pricing_otter_data_deduped`\n",
    "(\n",
    "  month TIMESTAMP,\n",
    "  brand_name STRING,\n",
    "  is_ff_brand BOOLEAN,\n",
    "  facility_id STRING,\n",
    "  latitude FLOAT64,\n",
    "  longitude FLOAT64,\n",
    "  timezone STRING,\n",
    "  country_code STRING,\n",
    "  store_id STRING,\n",
    "  item_id STRING,\n",
    "  item_name STRING,\n",
    "  normalized_item_name STRING,\n",
    "  clean_name STRING,\n",
    "  currency_code STRING,\n",
    "  number_of_days INTEGER,\n",
    "  total_qty_ordered INTEGER,\n",
    "  total_orders INTEGER,\n",
    "  quantity_per_day FLOAT64,\n",
    "  quantity_per_order FLOAT64,\n",
    "  price FLOAT64,\n",
    "  item_count FLOAT64,\n",
    "  drink_qty STRING,\n",
    "  weight STRING,\n",
    "  _loaded_at TIMESTAMP,\n",
    "  unique_key STRING,\n",
    "  row_number INTEGER\n",
    ")\n",
    "CLUSTER BY\n",
    "  country_code, month\n",
    "AS\n",
    "SELECT\n",
    "    *,\n",
    "    ROW_NUMBER()\n",
    "        OVER (PARTITION BY unique_key)\n",
    "        row_number\n",
    "FROM `css-operations.brand_science.pricing_otter_data`\n",
    "WHERE TRUE\n",
    "QUALIFY row_number = 1;\n",
    "''')"
   ]
  },
  {
   "cell_type": "code",
   "execution_count": 18,
   "id": "e6f8cf37-9c7f-42b6-8069-54a929c91138",
   "metadata": {
    "execution": {
     "iopub.execute_input": "2022-11-23T16:03:35.602442Z",
     "iopub.status.busy": "2022-11-23T16:03:35.602294Z",
     "iopub.status.idle": "2022-11-23T16:03:36.342187Z",
     "shell.execute_reply": "2022-11-23T16:03:36.341643Z",
     "shell.execute_reply.started": "2022-11-23T16:03:35.602425Z"
    },
    "tags": []
   },
   "outputs": [
    {
     "data": {
      "text/html": [
       "<div>\n",
       "<style scoped>\n",
       "    .dataframe tbody tr th:only-of-type {\n",
       "        vertical-align: middle;\n",
       "    }\n",
       "\n",
       "    .dataframe tbody tr th {\n",
       "        vertical-align: top;\n",
       "    }\n",
       "\n",
       "    .dataframe thead th {\n",
       "        text-align: right;\n",
       "    }\n",
       "</style>\n",
       "<table border=\"1\" class=\"dataframe\">\n",
       "  <thead>\n",
       "    <tr style=\"text-align: right;\">\n",
       "      <th></th>\n",
       "    </tr>\n",
       "  </thead>\n",
       "  <tbody>\n",
       "  </tbody>\n",
       "</table>\n",
       "</div>"
      ],
      "text/plain": [
       "Empty DataFrame\n",
       "Columns: []\n",
       "Index: []"
      ]
     },
     "execution_count": 18,
     "metadata": {},
     "output_type": "execute_result"
    }
   ],
   "source": [
    "# Drop Production Table\n",
    "bg.run_query('DROP TABLE IF EXISTS `css-operations.brand_science.pricing_otter_data`')"
   ]
  },
  {
   "cell_type": "code",
   "execution_count": 19,
   "id": "ed94ee94-c9f1-4aa3-bd57-155445544853",
   "metadata": {
    "execution": {
     "iopub.execute_input": "2022-11-23T16:03:36.343238Z",
     "iopub.status.busy": "2022-11-23T16:03:36.343085Z",
     "iopub.status.idle": "2022-11-23T16:03:53.678619Z",
     "shell.execute_reply": "2022-11-23T16:03:53.678207Z",
     "shell.execute_reply.started": "2022-11-23T16:03:36.343219Z"
    },
    "tags": []
   },
   "outputs": [
    {
     "data": {
      "text/html": [
       "<div>\n",
       "<style scoped>\n",
       "    .dataframe tbody tr th:only-of-type {\n",
       "        vertical-align: middle;\n",
       "    }\n",
       "\n",
       "    .dataframe tbody tr th {\n",
       "        vertical-align: top;\n",
       "    }\n",
       "\n",
       "    .dataframe thead th {\n",
       "        text-align: right;\n",
       "    }\n",
       "</style>\n",
       "<table border=\"1\" class=\"dataframe\">\n",
       "  <thead>\n",
       "    <tr style=\"text-align: right;\">\n",
       "      <th></th>\n",
       "    </tr>\n",
       "  </thead>\n",
       "  <tbody>\n",
       "  </tbody>\n",
       "</table>\n",
       "</div>"
      ],
      "text/plain": [
       "Empty DataFrame\n",
       "Columns: []\n",
       "Index: []"
      ]
     },
     "execution_count": 19,
     "metadata": {},
     "output_type": "execute_result"
    }
   ],
   "source": [
    "# Create new deduped production table\n",
    "bg.run_query('''\n",
    "CREATE OR REPLACE TABLE `css-operations.brand_science.pricing_otter_data`\n",
    "(\n",
    "  month TIMESTAMP,\n",
    "  brand_name STRING,\n",
    "  is_ff_brand BOOLEAN,\n",
    "  facility_id STRING,\n",
    "  latitude FLOAT64,\n",
    "  longitude FLOAT64,\n",
    "  timezone STRING,\n",
    "  country_code STRING,\n",
    "  store_id STRING,\n",
    "  item_id STRING,\n",
    "  item_name STRING,\n",
    "  normalized_item_name STRING,\n",
    "  clean_name STRING,\n",
    "  currency_code STRING,\n",
    "  number_of_days INTEGER,\n",
    "  total_qty_ordered INTEGER,\n",
    "  total_orders INTEGER,\n",
    "  quantity_per_day FLOAT64,\n",
    "  quantity_per_order FLOAT64,\n",
    "  price FLOAT64,\n",
    "  item_count FLOAT64,\n",
    "  drink_qty STRING,\n",
    "  weight STRING,\n",
    "  _loaded_at TIMESTAMP,\n",
    "  unique_key STRING,\n",
    ")\n",
    "CLUSTER BY\n",
    "  country_code, month\n",
    "AS\n",
    "SELECT\n",
    "  month,\n",
    "  brand_name,\n",
    "  is_ff_brand,\n",
    "  facility_id,\n",
    "  latitude,\n",
    "  longitude,\n",
    "  timezone,\n",
    "  country_code,\n",
    "  store_id,\n",
    "  item_id,\n",
    "  item_name,\n",
    "  normalized_item_name,\n",
    "  clean_name,\n",
    "  currency_code,\n",
    "  number_of_days,\n",
    "  total_qty_ordered,\n",
    "  total_orders,\n",
    "  quantity_per_day,\n",
    "  quantity_per_order,\n",
    "  price,\n",
    "  item_count,\n",
    "  drink_qty,\n",
    "  weight,\n",
    "  _loaded_at,\n",
    "  unique_key\n",
    "    \n",
    "FROM `css-operations.brand_science_stag.pricing_otter_data_deduped`\n",
    "''')"
   ]
  },
  {
   "cell_type": "markdown",
   "id": "c55cfe26-7bb2-46fd-9c5d-66dd0671d749",
   "metadata": {},
   "source": [
    "# OFO SCRAPE DATA"
   ]
  },
  {
   "cell_type": "code",
   "execution_count": 20,
   "id": "107f4ce4-197c-4c94-8ba7-49f48f8ed0f9",
   "metadata": {
    "execution": {
     "iopub.execute_input": "2022-11-23T16:03:53.679365Z",
     "iopub.status.busy": "2022-11-23T16:03:53.679234Z",
     "iopub.status.idle": "2022-11-23T16:03:54.221402Z",
     "shell.execute_reply": "2022-11-23T16:03:54.220949Z",
     "shell.execute_reply.started": "2022-11-23T16:03:53.679349Z"
    },
    "tags": []
   },
   "outputs": [
    {
     "data": {
      "text/html": [
       "<div>\n",
       "<style scoped>\n",
       "    .dataframe tbody tr th:only-of-type {\n",
       "        vertical-align: middle;\n",
       "    }\n",
       "\n",
       "    .dataframe tbody tr th {\n",
       "        vertical-align: top;\n",
       "    }\n",
       "\n",
       "    .dataframe thead th {\n",
       "        text-align: right;\n",
       "    }\n",
       "</style>\n",
       "<table border=\"1\" class=\"dataframe\">\n",
       "  <thead>\n",
       "    <tr style=\"text-align: right;\">\n",
       "      <th></th>\n",
       "    </tr>\n",
       "  </thead>\n",
       "  <tbody>\n",
       "  </tbody>\n",
       "</table>\n",
       "</div>"
      ],
      "text/plain": [
       "Empty DataFrame\n",
       "Columns: []\n",
       "Index: []"
      ]
     },
     "execution_count": 20,
     "metadata": {},
     "output_type": "execute_result"
    }
   ],
   "source": [
    "# Drop Dedupe Staging Table\n",
    "bg.run_query('DROP TABLE IF EXISTS `css-operations.brand_science_stag.pricing_ofo_scrape_data_deduped`')"
   ]
  },
  {
   "cell_type": "code",
   "execution_count": 21,
   "id": "97e7218b-44de-4bea-b723-e41dbe6c6f09",
   "metadata": {
    "execution": {
     "iopub.execute_input": "2022-11-23T16:03:54.222218Z",
     "iopub.status.busy": "2022-11-23T16:03:54.222079Z",
     "iopub.status.idle": "2022-11-23T16:04:18.526974Z",
     "shell.execute_reply": "2022-11-23T16:04:18.526421Z",
     "shell.execute_reply.started": "2022-11-23T16:03:54.222200Z"
    }
   },
   "outputs": [
    {
     "data": {
      "text/html": [
       "<div>\n",
       "<style scoped>\n",
       "    .dataframe tbody tr th:only-of-type {\n",
       "        vertical-align: middle;\n",
       "    }\n",
       "\n",
       "    .dataframe tbody tr th {\n",
       "        vertical-align: top;\n",
       "    }\n",
       "\n",
       "    .dataframe thead th {\n",
       "        text-align: right;\n",
       "    }\n",
       "</style>\n",
       "<table border=\"1\" class=\"dataframe\">\n",
       "  <thead>\n",
       "    <tr style=\"text-align: right;\">\n",
       "      <th></th>\n",
       "    </tr>\n",
       "  </thead>\n",
       "  <tbody>\n",
       "  </tbody>\n",
       "</table>\n",
       "</div>"
      ],
      "text/plain": [
       "Empty DataFrame\n",
       "Columns: []\n",
       "Index: []"
      ]
     },
     "execution_count": 21,
     "metadata": {},
     "output_type": "execute_result"
    }
   ],
   "source": [
    "# Create New Deduped Table\n",
    "bg.run_query('''\n",
    "CREATE OR REPLACE TABLE `css-operations.brand_science_stag.pricing_ofo_scrape_data_deduped`\n",
    "(\n",
    "  month TIMESTAMP,\n",
    "  item_id STRING,\n",
    "  item_name STRING,\n",
    "  clean_name STRING,\n",
    "  price FLOAT64,\n",
    "  currency_code STRING,\n",
    "  item_count FLOAT64,\n",
    "  drink_qty STRING,\n",
    "  weight STRING,\n",
    "  store_name STRING,\n",
    "  external_store_id STRING,\n",
    "  categories STRING,\n",
    "  primary_cuisine STRING,\n",
    "  latitude FLOAT64,\n",
    "  longitude FLOAT64,\n",
    "  city STRING,\n",
    "  country_code STRING,\n",
    "  service_slug STRING,\n",
    "  source STRING,\n",
    "  _loaded_at TIMESTAMP,\n",
    "  unique_key STRING,\n",
    "  row_number INTEGER\n",
    ")\n",
    "CLUSTER BY\n",
    "  country_code, month\n",
    "AS\n",
    "SELECT\n",
    "    *,\n",
    "    ROW_NUMBER()\n",
    "        OVER (PARTITION BY unique_key)\n",
    "        row_number\n",
    "FROM `css-operations.brand_science.pricing_ofo_scrape_data`\n",
    "WHERE TRUE\n",
    "QUALIFY row_number = 1\n",
    "''')"
   ]
  },
  {
   "cell_type": "code",
   "execution_count": 22,
   "id": "8d3a5232-e650-41f6-aaac-2de7ce18cbfc",
   "metadata": {
    "execution": {
     "iopub.execute_input": "2022-11-23T16:04:18.527808Z",
     "iopub.status.busy": "2022-11-23T16:04:18.527675Z",
     "iopub.status.idle": "2022-11-23T16:04:19.289276Z",
     "shell.execute_reply": "2022-11-23T16:04:19.288552Z",
     "shell.execute_reply.started": "2022-11-23T16:04:18.527791Z"
    }
   },
   "outputs": [
    {
     "data": {
      "text/html": [
       "<div>\n",
       "<style scoped>\n",
       "    .dataframe tbody tr th:only-of-type {\n",
       "        vertical-align: middle;\n",
       "    }\n",
       "\n",
       "    .dataframe tbody tr th {\n",
       "        vertical-align: top;\n",
       "    }\n",
       "\n",
       "    .dataframe thead th {\n",
       "        text-align: right;\n",
       "    }\n",
       "</style>\n",
       "<table border=\"1\" class=\"dataframe\">\n",
       "  <thead>\n",
       "    <tr style=\"text-align: right;\">\n",
       "      <th></th>\n",
       "    </tr>\n",
       "  </thead>\n",
       "  <tbody>\n",
       "  </tbody>\n",
       "</table>\n",
       "</div>"
      ],
      "text/plain": [
       "Empty DataFrame\n",
       "Columns: []\n",
       "Index: []"
      ]
     },
     "execution_count": 22,
     "metadata": {},
     "output_type": "execute_result"
    }
   ],
   "source": [
    "# Drop Production Table\n",
    "bg.run_query('DROP TABLE IF EXISTS `css-operations.brand_science.pricing_ofo_scrape_data`')"
   ]
  },
  {
   "cell_type": "code",
   "execution_count": 23,
   "id": "4e8e4fca-236f-406a-809e-cea0f3cdb99b",
   "metadata": {
    "execution": {
     "iopub.execute_input": "2022-11-23T16:04:19.290969Z",
     "iopub.status.busy": "2022-11-23T16:04:19.290747Z",
     "iopub.status.idle": "2022-11-23T16:04:35.098919Z",
     "shell.execute_reply": "2022-11-23T16:04:35.098463Z",
     "shell.execute_reply.started": "2022-11-23T16:04:19.290942Z"
    }
   },
   "outputs": [
    {
     "data": {
      "text/html": [
       "<div>\n",
       "<style scoped>\n",
       "    .dataframe tbody tr th:only-of-type {\n",
       "        vertical-align: middle;\n",
       "    }\n",
       "\n",
       "    .dataframe tbody tr th {\n",
       "        vertical-align: top;\n",
       "    }\n",
       "\n",
       "    .dataframe thead th {\n",
       "        text-align: right;\n",
       "    }\n",
       "</style>\n",
       "<table border=\"1\" class=\"dataframe\">\n",
       "  <thead>\n",
       "    <tr style=\"text-align: right;\">\n",
       "      <th></th>\n",
       "    </tr>\n",
       "  </thead>\n",
       "  <tbody>\n",
       "  </tbody>\n",
       "</table>\n",
       "</div>"
      ],
      "text/plain": [
       "Empty DataFrame\n",
       "Columns: []\n",
       "Index: []"
      ]
     },
     "execution_count": 23,
     "metadata": {},
     "output_type": "execute_result"
    }
   ],
   "source": [
    "# Create new deduped production table\n",
    "bg.run_query('''\n",
    "CREATE OR REPLACE TABLE `css-operations.brand_science.pricing_ofo_scrape_data`\n",
    "(\n",
    "  month TIMESTAMP,\n",
    "  item_id STRING,\n",
    "  item_name STRING,\n",
    "  clean_name STRING,\n",
    "  price FLOAT64,\n",
    "  currency_code STRING,\n",
    "  item_count FLOAT64,\n",
    "  drink_qty STRING,\n",
    "  weight STRING,\n",
    "  store_name STRING,\n",
    "  external_store_id STRING,\n",
    "  categories STRING,\n",
    "  primary_cuisine STRING,\n",
    "  latitude FLOAT64,\n",
    "  longitude FLOAT64,\n",
    "  city STRING,\n",
    "  country_code STRING,\n",
    "  service_slug STRING,\n",
    "  source STRING,\n",
    "  _loaded_at TIMESTAMP,\n",
    "  unique_key STRING,\n",
    ")\n",
    "CLUSTER BY\n",
    "  country_code, month\n",
    "AS\n",
    "SELECT\n",
    "  month,\n",
    "  item_id,\n",
    "  item_name,\n",
    "  clean_name,\n",
    "  price,\n",
    "  currency_code,\n",
    "  item_count,\n",
    "  drink_qty,\n",
    "  weight,\n",
    "  store_name,\n",
    "  external_store_id,\n",
    "  categories,\n",
    "  primary_cuisine,\n",
    "  latitude,\n",
    "  longitude,\n",
    "  city,\n",
    "  country_code,\n",
    "  service_slug,\n",
    "  source,\n",
    "  _loaded_at,\n",
    "  unique_key\n",
    "    \n",
    "FROM `css-operations.brand_science_stag.pricing_ofo_scrape_data_deduped`\n",
    "''')"
   ]
  },
  {
   "cell_type": "code",
   "execution_count": null,
   "id": "e4c3de49-0c21-44ee-a0f4-663e4989cbc8",
   "metadata": {},
   "outputs": [],
   "source": []
  }
 ],
 "metadata": {
  "kernelspec": {
   "display_name": "Python 3",
   "language": "python",
   "name": "python3"
  },
  "language_info": {
   "codemirror_mode": {
    "name": "ipython",
    "version": 3
   },
   "file_extension": ".py",
   "mimetype": "text/x-python",
   "name": "python",
   "nbconvert_exporter": "python",
   "pygments_lexer": "ipython3",
   "version": "3.8.13"
  }
 },
 "nbformat": 4,
 "nbformat_minor": 5
}
