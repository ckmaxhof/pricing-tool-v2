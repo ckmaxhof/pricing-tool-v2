{
 "cells": [
  {
   "cell_type": "code",
   "execution_count": 1,
   "id": "61a2ef85-201c-47c0-8996-5b2f99d1675f",
   "metadata": {
    "execution": {
     "iopub.execute_input": "2023-02-27T08:15:39.379223Z",
     "iopub.status.busy": "2023-02-27T08:15:39.379053Z",
     "iopub.status.idle": "2023-02-27T08:15:39.384923Z",
     "shell.execute_reply": "2023-02-27T08:15:39.384439Z",
     "shell.execute_reply.started": "2023-02-27T08:15:39.379170Z"
    },
    "tags": []
   },
   "outputs": [],
   "source": [
    "import sys\n",
    "sys.path.append('/home/maximilian.hofmann/ff_utils/src')\n",
    "\n",
    "from importlib import reload"
   ]
  },
  {
   "cell_type": "code",
   "execution_count": 2,
   "id": "612b9a64-4eeb-462c-8b6a-5cc7af95c8da",
   "metadata": {
    "execution": {
     "iopub.execute_input": "2023-02-27T08:15:39.984320Z",
     "iopub.status.busy": "2023-02-27T08:15:39.984120Z",
     "iopub.status.idle": "2023-02-27T08:15:41.089034Z",
     "shell.execute_reply": "2023-02-27T08:15:41.088388Z",
     "shell.execute_reply.started": "2023-02-27T08:15:39.984299Z"
    },
    "tags": []
   },
   "outputs": [],
   "source": [
    "from importlib import reload\n",
    "from itertools import repeat\n",
    "from date_utils import partition_date_range\n",
    "import pandas as pd\n",
    "from multiprocessing.dummy import Pool\n",
    "from multiprocessing import cpu_count\n",
    "from datetime import datetime"
   ]
  },
  {
   "cell_type": "code",
   "execution_count": 3,
   "id": "5a1264ce-9300-410d-b709-8a7729b4c029",
   "metadata": {
    "execution": {
     "iopub.execute_input": "2023-02-27T08:15:41.090080Z",
     "iopub.status.busy": "2023-02-27T08:15:41.089941Z",
     "iopub.status.idle": "2023-02-27T08:15:45.111912Z",
     "shell.execute_reply": "2023-02-27T08:15:45.111205Z",
     "shell.execute_reply.started": "2023-02-27T08:15:41.090061Z"
    },
    "tags": []
   },
   "outputs": [
    {
     "name": "stderr",
     "output_type": "stream",
     "text": [
      "/app/infra/data/jupyterhub/images/singleuser_spark/main.binary.runfiles/vendor_python_geopandas/site-packages/geopandas/_compat.py:111: UserWarning: The Shapely GEOS version (3.8.0-CAPI-1.13.1 ) is incompatible with the GEOS version PyGEOS was compiled with (3.10.1-CAPI-1.16.0). Conversions between both will be slow.\n",
      "  warnings.warn(\n"
     ]
    },
    {
     "data": {
      "text/plain": [
       "<module 'functions' from '/home/maximilian.hofmann/tools/pricing-tool-v2/data/functions.py'>"
      ]
     },
     "execution_count": 3,
     "metadata": {},
     "output_type": "execute_result"
    }
   ],
   "source": [
    "import functions as fu\n",
    "reload(fu)"
   ]
  },
  {
   "cell_type": "code",
   "execution_count": 4,
   "id": "b6890032-e8d3-4efd-9764-3c4da9397163",
   "metadata": {
    "execution": {
     "iopub.execute_input": "2023-02-27T08:15:45.113255Z",
     "iopub.status.busy": "2023-02-27T08:15:45.113099Z",
     "iopub.status.idle": "2023-02-27T08:15:45.115964Z",
     "shell.execute_reply": "2023-02-27T08:15:45.115445Z",
     "shell.execute_reply.started": "2023-02-27T08:15:45.113236Z"
    },
    "tags": []
   },
   "outputs": [],
   "source": [
    "from ds.utilities.io import ds_trino"
   ]
  },
  {
   "cell_type": "code",
   "execution_count": 5,
   "id": "f24406cc-8354-4163-a500-a5b5ca484add",
   "metadata": {
    "execution": {
     "iopub.execute_input": "2023-02-27T08:15:45.116805Z",
     "iopub.status.busy": "2023-02-27T08:15:45.116666Z",
     "iopub.status.idle": "2023-02-27T08:15:45.146291Z",
     "shell.execute_reply": "2023-02-27T08:15:45.145815Z",
     "shell.execute_reply.started": "2023-02-27T08:15:45.116787Z"
    },
    "tags": []
   },
   "outputs": [],
   "source": [
    "sql = '''\n",
    "SELECT DISTINCT \n",
    "    CAST(DATE_TRUNC('MONTH', last_seen) AS DATE) AS month,\n",
    "    super_region,\n",
    "    country_code,\n",
    "    service_slug,\n",
    "    COUNT(*)\n",
    "FROM iceberg.marketintel.storefront_latest_view\n",
    "GROUP BY 1,2,3,4\n",
    "ORDER BY 2,1,3,4\n",
    "'''"
   ]
  },
  {
   "cell_type": "code",
   "execution_count": 20,
   "id": "78516e6a-36d1-4507-9c56-2c2a8644adac",
   "metadata": {
    "collapsed": true,
    "execution": {
     "iopub.execute_input": "2023-02-24T13:31:19.283499Z",
     "iopub.status.busy": "2023-02-24T13:31:19.283284Z",
     "iopub.status.idle": "2023-02-24T13:31:22.062212Z",
     "shell.execute_reply": "2023-02-24T13:31:22.061367Z",
     "shell.execute_reply.started": "2023-02-24T13:31:19.283479Z"
    },
    "jupyter": {
     "outputs_hidden": true
    },
    "tags": []
   },
   "outputs": [
    {
     "ename": "KeyboardInterrupt",
     "evalue": "",
     "output_type": "error",
     "traceback": [
      "\u001b[0;31m---------------------------------------------------------------------------\u001b[0m",
      "\u001b[0;31mKeyboardInterrupt\u001b[0m                         Traceback (most recent call last)",
      "\u001b[0;32m<ipython-input-20-b528e05330f1>\u001b[0m in \u001b[0;36m<module>\u001b[0;34m\u001b[0m\n\u001b[0;32m----> 1\u001b[0;31m \u001b[0mdata\u001b[0m \u001b[0;34m=\u001b[0m \u001b[0mds_trino\u001b[0m\u001b[0;34m.\u001b[0m\u001b[0mfetch_data\u001b[0m\u001b[0;34m(\u001b[0m\u001b[0msql\u001b[0m\u001b[0;34m)\u001b[0m\u001b[0;34m\u001b[0m\u001b[0;34m\u001b[0m\u001b[0m\n\u001b[0m",
      "\u001b[0;32m/app/infra/data/jupyterhub/images/singleuser_spark/main.binary.runfiles/__main__/ds/utilities/io/internal/single.py\u001b[0m in \u001b[0;36mfetch_data\u001b[0;34m(sql_str, conn, parse_dates, use_cache, cache_dir)\u001b[0m\n\u001b[1;32m    376\u001b[0m         \u001b[0m_fetch\u001b[0m \u001b[0;34m=\u001b[0m \u001b[0m_fetch_as_df\u001b[0m\u001b[0;34m\u001b[0m\u001b[0;34m\u001b[0m\u001b[0m\n\u001b[1;32m    377\u001b[0m \u001b[0;34m\u001b[0m\u001b[0m\n\u001b[0;32m--> 378\u001b[0;31m     \u001b[0;32mif\u001b[0m \u001b[0;34m(\u001b[0m\u001b[0mfetched\u001b[0m \u001b[0;34m:=\u001b[0m \u001b[0m_fetch\u001b[0m\u001b[0;34m(\u001b[0m\u001b[0msql_str\u001b[0m\u001b[0;34m,\u001b[0m \u001b[0mconn\u001b[0m\u001b[0;34m,\u001b[0m \u001b[0mparse_dates\u001b[0m \u001b[0;32mor\u001b[0m \u001b[0;34m[\u001b[0m\u001b[0;34m]\u001b[0m\u001b[0;34m)\u001b[0m\u001b[0;34m)\u001b[0m \u001b[0;32mis\u001b[0m \u001b[0;32mnot\u001b[0m \u001b[0;32mNone\u001b[0m\u001b[0;34m:\u001b[0m\u001b[0;34m\u001b[0m\u001b[0;34m\u001b[0m\u001b[0m\n\u001b[0m\u001b[1;32m    379\u001b[0m         \u001b[0mdf\u001b[0m\u001b[0;34m,\u001b[0m \u001b[0m_\u001b[0m \u001b[0;34m=\u001b[0m \u001b[0mfetched\u001b[0m\u001b[0;34m\u001b[0m\u001b[0;34m\u001b[0m\u001b[0m\n\u001b[1;32m    380\u001b[0m         \u001b[0;32mreturn\u001b[0m \u001b[0mdf\u001b[0m\u001b[0;34m\u001b[0m\u001b[0;34m\u001b[0m\u001b[0m\n",
      "\u001b[0;32m/app/infra/data/jupyterhub/images/singleuser_spark/main.binary.runfiles/__main__/ds/utilities/io/internal/single.py\u001b[0m in \u001b[0;36mdecorated\u001b[0;34m(*args, **kwargs)\u001b[0m\n\u001b[1;32m    136\u001b[0m             \u001b[0;32mreturn\u001b[0m \u001b[0mdf\u001b[0m\u001b[0;34m,\u001b[0m \u001b[0;32mNone\u001b[0m\u001b[0;34m\u001b[0m\u001b[0;34m\u001b[0m\u001b[0m\n\u001b[1;32m    137\u001b[0m \u001b[0;34m\u001b[0m\u001b[0m\n\u001b[0;32m--> 138\u001b[0;31m         \u001b[0;32mif\u001b[0m \u001b[0;34m(\u001b[0m\u001b[0mfetched\u001b[0m \u001b[0;34m:=\u001b[0m \u001b[0mfetch_func\u001b[0m\u001b[0;34m(\u001b[0m\u001b[0;34m*\u001b[0m\u001b[0margs\u001b[0m\u001b[0;34m,\u001b[0m \u001b[0;34m**\u001b[0m\u001b[0mkwargs\u001b[0m\u001b[0;34m)\u001b[0m\u001b[0;34m)\u001b[0m \u001b[0;32mis\u001b[0m \u001b[0;32mnot\u001b[0m \u001b[0;32mNone\u001b[0m\u001b[0;34m:\u001b[0m\u001b[0;34m\u001b[0m\u001b[0;34m\u001b[0m\u001b[0m\n\u001b[0m\u001b[1;32m    139\u001b[0m             \u001b[0m_try_save_to_cache\u001b[0m\u001b[0;34m(\u001b[0m\u001b[0;34m*\u001b[0m\u001b[0mfetched\u001b[0m\u001b[0;34m,\u001b[0m \u001b[0mcache_path\u001b[0m\u001b[0;34m)\u001b[0m\u001b[0;34m\u001b[0m\u001b[0;34m\u001b[0m\u001b[0m\n\u001b[1;32m    140\u001b[0m \u001b[0;34m\u001b[0m\u001b[0m\n",
      "\u001b[0;32m/app/infra/data/jupyterhub/images/singleuser_spark/main.binary.runfiles/__main__/ds/utilities/io/internal/single.py\u001b[0m in \u001b[0;36m_fetch_as_df\u001b[0;34m(sql_str, conn, parse_dates)\u001b[0m\n\u001b[1;32m    200\u001b[0m     \"\"\"\n\u001b[1;32m    201\u001b[0m     \u001b[0mcursor\u001b[0m \u001b[0;34m=\u001b[0m \u001b[0mconn\u001b[0m\u001b[0;34m.\u001b[0m\u001b[0mcursor\u001b[0m\u001b[0;34m(\u001b[0m\u001b[0;34m)\u001b[0m\u001b[0;34m\u001b[0m\u001b[0;34m\u001b[0m\u001b[0m\n\u001b[0;32m--> 202\u001b[0;31m     \u001b[0mcursor\u001b[0m\u001b[0;34m.\u001b[0m\u001b[0mexecute\u001b[0m\u001b[0;34m(\u001b[0m\u001b[0msql_str\u001b[0m\u001b[0;34m)\u001b[0m\u001b[0;34m\u001b[0m\u001b[0;34m\u001b[0m\u001b[0m\n\u001b[0m\u001b[1;32m    203\u001b[0m \u001b[0;34m\u001b[0m\u001b[0m\n\u001b[1;32m    204\u001b[0m     _LOGGER.info(\n",
      "\u001b[0;32m/app/infra/data/jupyterhub/images/singleuser_spark/main.binary.runfiles/vendor_python_trino/site-packages/trino/dbapi.py\u001b[0m in \u001b[0;36mexecute\u001b[0;34m(self, operation, params)\u001b[0m\n\u001b[1;32m    433\u001b[0m             self._query = trino.client.TrinoQuery(self._request, sql=operation,\n\u001b[1;32m    434\u001b[0m                                                   experimental_python_types=self._experimental_pyton_types)\n\u001b[0;32m--> 435\u001b[0;31m             \u001b[0mresult\u001b[0m \u001b[0;34m=\u001b[0m \u001b[0mself\u001b[0m\u001b[0;34m.\u001b[0m\u001b[0m_query\u001b[0m\u001b[0;34m.\u001b[0m\u001b[0mexecute\u001b[0m\u001b[0;34m(\u001b[0m\u001b[0;34m)\u001b[0m\u001b[0;34m\u001b[0m\u001b[0;34m\u001b[0m\u001b[0m\n\u001b[0m\u001b[1;32m    436\u001b[0m         \u001b[0mself\u001b[0m\u001b[0;34m.\u001b[0m\u001b[0m_iterator\u001b[0m \u001b[0;34m=\u001b[0m \u001b[0miter\u001b[0m\u001b[0;34m(\u001b[0m\u001b[0mresult\u001b[0m\u001b[0;34m)\u001b[0m\u001b[0;34m\u001b[0m\u001b[0;34m\u001b[0m\u001b[0m\n\u001b[1;32m    437\u001b[0m         \u001b[0;32mreturn\u001b[0m \u001b[0mresult\u001b[0m\u001b[0;34m\u001b[0m\u001b[0;34m\u001b[0m\u001b[0m\n",
      "\u001b[0;32m/app/infra/data/jupyterhub/images/singleuser_spark/main.binary.runfiles/vendor_python_trino/site-packages/trino/client.py\u001b[0m in \u001b[0;36mexecute\u001b[0;34m(self, additional_http_headers)\u001b[0m\n\u001b[1;32m    756\u001b[0m         \u001b[0;31m# Execute should block until at least one row is received or query is finished or cancelled\u001b[0m\u001b[0;34m\u001b[0m\u001b[0;34m\u001b[0m\u001b[0;34m\u001b[0m\u001b[0m\n\u001b[1;32m    757\u001b[0m         \u001b[0;32mwhile\u001b[0m \u001b[0;32mnot\u001b[0m \u001b[0mself\u001b[0m\u001b[0;34m.\u001b[0m\u001b[0mfinished\u001b[0m \u001b[0;32mand\u001b[0m \u001b[0;32mnot\u001b[0m \u001b[0mself\u001b[0m\u001b[0;34m.\u001b[0m\u001b[0mcancelled\u001b[0m \u001b[0;32mand\u001b[0m \u001b[0mlen\u001b[0m\u001b[0;34m(\u001b[0m\u001b[0mself\u001b[0m\u001b[0;34m.\u001b[0m\u001b[0m_result\u001b[0m\u001b[0;34m.\u001b[0m\u001b[0mrows\u001b[0m\u001b[0;34m)\u001b[0m \u001b[0;34m==\u001b[0m \u001b[0;36m0\u001b[0m\u001b[0;34m:\u001b[0m\u001b[0;34m\u001b[0m\u001b[0;34m\u001b[0m\u001b[0m\n\u001b[0;32m--> 758\u001b[0;31m             \u001b[0mself\u001b[0m\u001b[0;34m.\u001b[0m\u001b[0m_result\u001b[0m\u001b[0;34m.\u001b[0m\u001b[0mrows\u001b[0m \u001b[0;34m+=\u001b[0m \u001b[0mself\u001b[0m\u001b[0;34m.\u001b[0m\u001b[0mfetch\u001b[0m\u001b[0;34m(\u001b[0m\u001b[0;34m)\u001b[0m\u001b[0;34m\u001b[0m\u001b[0;34m\u001b[0m\u001b[0m\n\u001b[0m\u001b[1;32m    759\u001b[0m         \u001b[0;32mreturn\u001b[0m \u001b[0mself\u001b[0m\u001b[0;34m.\u001b[0m\u001b[0m_result\u001b[0m\u001b[0;34m\u001b[0m\u001b[0;34m\u001b[0m\u001b[0m\n\u001b[1;32m    760\u001b[0m \u001b[0;34m\u001b[0m\u001b[0m\n",
      "\u001b[0;32m/app/infra/data/jupyterhub/images/singleuser_spark/main.binary.runfiles/vendor_python_trino/site-packages/trino/client.py\u001b[0m in \u001b[0;36mfetch\u001b[0;34m(self)\u001b[0m\n\u001b[1;32m    770\u001b[0m     \u001b[0;32mdef\u001b[0m \u001b[0mfetch\u001b[0m\u001b[0;34m(\u001b[0m\u001b[0mself\u001b[0m\u001b[0;34m)\u001b[0m \u001b[0;34m->\u001b[0m \u001b[0mList\u001b[0m\u001b[0;34m[\u001b[0m\u001b[0mList\u001b[0m\u001b[0;34m[\u001b[0m\u001b[0mAny\u001b[0m\u001b[0;34m]\u001b[0m\u001b[0;34m]\u001b[0m\u001b[0;34m:\u001b[0m\u001b[0;34m\u001b[0m\u001b[0;34m\u001b[0m\u001b[0m\n\u001b[1;32m    771\u001b[0m         \u001b[0;34m\"\"\"Continue fetching data for the current query_id\"\"\"\u001b[0m\u001b[0;34m\u001b[0m\u001b[0;34m\u001b[0m\u001b[0m\n\u001b[0;32m--> 772\u001b[0;31m         \u001b[0mresponse\u001b[0m \u001b[0;34m=\u001b[0m \u001b[0mself\u001b[0m\u001b[0;34m.\u001b[0m\u001b[0m_request\u001b[0m\u001b[0;34m.\u001b[0m\u001b[0mget\u001b[0m\u001b[0;34m(\u001b[0m\u001b[0mself\u001b[0m\u001b[0;34m.\u001b[0m\u001b[0m_request\u001b[0m\u001b[0;34m.\u001b[0m\u001b[0mnext_uri\u001b[0m\u001b[0;34m)\u001b[0m\u001b[0;34m\u001b[0m\u001b[0;34m\u001b[0m\u001b[0m\n\u001b[0m\u001b[1;32m    773\u001b[0m         \u001b[0mstatus\u001b[0m \u001b[0;34m=\u001b[0m \u001b[0mself\u001b[0m\u001b[0;34m.\u001b[0m\u001b[0m_request\u001b[0m\u001b[0;34m.\u001b[0m\u001b[0mprocess\u001b[0m\u001b[0;34m(\u001b[0m\u001b[0mresponse\u001b[0m\u001b[0;34m)\u001b[0m\u001b[0;34m\u001b[0m\u001b[0;34m\u001b[0m\u001b[0m\n\u001b[1;32m    774\u001b[0m         \u001b[0mself\u001b[0m\u001b[0;34m.\u001b[0m\u001b[0m_update_state\u001b[0m\u001b[0;34m(\u001b[0m\u001b[0mstatus\u001b[0m\u001b[0;34m)\u001b[0m\u001b[0;34m\u001b[0m\u001b[0;34m\u001b[0m\u001b[0m\n",
      "\u001b[0;32m/app/infra/data/jupyterhub/images/singleuser_spark/main.binary.runfiles/vendor_python_trino/site-packages/trino/client.py\u001b[0m in \u001b[0;36mget\u001b[0;34m(self, url)\u001b[0m\n\u001b[1;32m    528\u001b[0m \u001b[0;34m\u001b[0m\u001b[0m\n\u001b[1;32m    529\u001b[0m     \u001b[0;32mdef\u001b[0m \u001b[0mget\u001b[0m\u001b[0;34m(\u001b[0m\u001b[0mself\u001b[0m\u001b[0;34m,\u001b[0m \u001b[0murl\u001b[0m\u001b[0;34m)\u001b[0m\u001b[0;34m:\u001b[0m\u001b[0;34m\u001b[0m\u001b[0;34m\u001b[0m\u001b[0m\n\u001b[0;32m--> 530\u001b[0;31m         return self._get(\n\u001b[0m\u001b[1;32m    531\u001b[0m             \u001b[0murl\u001b[0m\u001b[0;34m,\u001b[0m\u001b[0;34m\u001b[0m\u001b[0;34m\u001b[0m\u001b[0m\n\u001b[1;32m    532\u001b[0m             \u001b[0mheaders\u001b[0m\u001b[0;34m=\u001b[0m\u001b[0mself\u001b[0m\u001b[0;34m.\u001b[0m\u001b[0mhttp_headers\u001b[0m\u001b[0;34m,\u001b[0m\u001b[0;34m\u001b[0m\u001b[0;34m\u001b[0m\u001b[0m\n",
      "\u001b[0;32m/app/infra/data/jupyterhub/images/singleuser_spark/main.binary.runfiles/vendor_python_trino/site-packages/trino/client.py\u001b[0m in \u001b[0;36mdecorated\u001b[0;34m(*args, **kwargs)\u001b[0m\n\u001b[1;32m    820\u001b[0m             \u001b[0;32mfor\u001b[0m \u001b[0mattempt\u001b[0m \u001b[0;32min\u001b[0m \u001b[0mrange\u001b[0m\u001b[0;34m(\u001b[0m\u001b[0;36m1\u001b[0m\u001b[0;34m,\u001b[0m \u001b[0mmax_attempts\u001b[0m \u001b[0;34m+\u001b[0m \u001b[0;36m1\u001b[0m\u001b[0;34m)\u001b[0m\u001b[0;34m:\u001b[0m\u001b[0;34m\u001b[0m\u001b[0;34m\u001b[0m\u001b[0m\n\u001b[1;32m    821\u001b[0m                 \u001b[0;32mtry\u001b[0m\u001b[0;34m:\u001b[0m\u001b[0;34m\u001b[0m\u001b[0;34m\u001b[0m\u001b[0m\n\u001b[0;32m--> 822\u001b[0;31m                     \u001b[0mresult\u001b[0m \u001b[0;34m=\u001b[0m \u001b[0mfunc\u001b[0m\u001b[0;34m(\u001b[0m\u001b[0;34m*\u001b[0m\u001b[0margs\u001b[0m\u001b[0;34m,\u001b[0m \u001b[0;34m**\u001b[0m\u001b[0mkwargs\u001b[0m\u001b[0;34m)\u001b[0m\u001b[0;34m\u001b[0m\u001b[0;34m\u001b[0m\u001b[0m\n\u001b[0m\u001b[1;32m    823\u001b[0m                     \u001b[0;32mif\u001b[0m \u001b[0many\u001b[0m\u001b[0;34m(\u001b[0m\u001b[0mguard\u001b[0m\u001b[0;34m(\u001b[0m\u001b[0mresult\u001b[0m\u001b[0;34m)\u001b[0m \u001b[0;32mfor\u001b[0m \u001b[0mguard\u001b[0m \u001b[0;32min\u001b[0m \u001b[0mconditions\u001b[0m\u001b[0;34m)\u001b[0m\u001b[0;34m:\u001b[0m\u001b[0;34m\u001b[0m\u001b[0;34m\u001b[0m\u001b[0m\n\u001b[1;32m    824\u001b[0m                         \u001b[0mhandle_retry\u001b[0m\u001b[0;34m.\u001b[0m\u001b[0mretry\u001b[0m\u001b[0;34m(\u001b[0m\u001b[0mfunc\u001b[0m\u001b[0;34m,\u001b[0m \u001b[0margs\u001b[0m\u001b[0;34m,\u001b[0m \u001b[0mkwargs\u001b[0m\u001b[0;34m,\u001b[0m \u001b[0;32mNone\u001b[0m\u001b[0;34m,\u001b[0m \u001b[0mattempt\u001b[0m\u001b[0;34m)\u001b[0m\u001b[0;34m\u001b[0m\u001b[0;34m\u001b[0m\u001b[0m\n",
      "\u001b[0;32m/app/infra/data/jupyterhub/images/singleuser_spark/main.binary.runfiles/vendor_python_requests/site-packages/requests/sessions.py\u001b[0m in \u001b[0;36mget\u001b[0;34m(self, url, **kwargs)\u001b[0m\n\u001b[1;32m    553\u001b[0m \u001b[0;34m\u001b[0m\u001b[0m\n\u001b[1;32m    554\u001b[0m         \u001b[0mkwargs\u001b[0m\u001b[0;34m.\u001b[0m\u001b[0msetdefault\u001b[0m\u001b[0;34m(\u001b[0m\u001b[0;34m'allow_redirects'\u001b[0m\u001b[0;34m,\u001b[0m \u001b[0;32mTrue\u001b[0m\u001b[0;34m)\u001b[0m\u001b[0;34m\u001b[0m\u001b[0;34m\u001b[0m\u001b[0m\n\u001b[0;32m--> 555\u001b[0;31m         \u001b[0;32mreturn\u001b[0m \u001b[0mself\u001b[0m\u001b[0;34m.\u001b[0m\u001b[0mrequest\u001b[0m\u001b[0;34m(\u001b[0m\u001b[0;34m'GET'\u001b[0m\u001b[0;34m,\u001b[0m \u001b[0murl\u001b[0m\u001b[0;34m,\u001b[0m \u001b[0;34m**\u001b[0m\u001b[0mkwargs\u001b[0m\u001b[0;34m)\u001b[0m\u001b[0;34m\u001b[0m\u001b[0;34m\u001b[0m\u001b[0m\n\u001b[0m\u001b[1;32m    556\u001b[0m \u001b[0;34m\u001b[0m\u001b[0m\n\u001b[1;32m    557\u001b[0m     \u001b[0;32mdef\u001b[0m \u001b[0moptions\u001b[0m\u001b[0;34m(\u001b[0m\u001b[0mself\u001b[0m\u001b[0;34m,\u001b[0m \u001b[0murl\u001b[0m\u001b[0;34m,\u001b[0m \u001b[0;34m**\u001b[0m\u001b[0mkwargs\u001b[0m\u001b[0;34m)\u001b[0m\u001b[0;34m:\u001b[0m\u001b[0;34m\u001b[0m\u001b[0;34m\u001b[0m\u001b[0m\n",
      "\u001b[0;32m/app/infra/data/jupyterhub/images/singleuser_spark/main.binary.runfiles/vendor_python_requests/site-packages/requests/sessions.py\u001b[0m in \u001b[0;36mrequest\u001b[0;34m(self, method, url, params, data, headers, cookies, files, auth, timeout, allow_redirects, proxies, hooks, stream, verify, cert, json)\u001b[0m\n\u001b[1;32m    540\u001b[0m         }\n\u001b[1;32m    541\u001b[0m         \u001b[0msend_kwargs\u001b[0m\u001b[0;34m.\u001b[0m\u001b[0mupdate\u001b[0m\u001b[0;34m(\u001b[0m\u001b[0msettings\u001b[0m\u001b[0;34m)\u001b[0m\u001b[0;34m\u001b[0m\u001b[0;34m\u001b[0m\u001b[0m\n\u001b[0;32m--> 542\u001b[0;31m         \u001b[0mresp\u001b[0m \u001b[0;34m=\u001b[0m \u001b[0mself\u001b[0m\u001b[0;34m.\u001b[0m\u001b[0msend\u001b[0m\u001b[0;34m(\u001b[0m\u001b[0mprep\u001b[0m\u001b[0;34m,\u001b[0m \u001b[0;34m**\u001b[0m\u001b[0msend_kwargs\u001b[0m\u001b[0;34m)\u001b[0m\u001b[0;34m\u001b[0m\u001b[0;34m\u001b[0m\u001b[0m\n\u001b[0m\u001b[1;32m    543\u001b[0m \u001b[0;34m\u001b[0m\u001b[0m\n\u001b[1;32m    544\u001b[0m         \u001b[0;32mreturn\u001b[0m \u001b[0mresp\u001b[0m\u001b[0;34m\u001b[0m\u001b[0;34m\u001b[0m\u001b[0m\n",
      "\u001b[0;32m/app/infra/data/jupyterhub/images/singleuser_spark/main.binary.runfiles/vendor_python_requests/site-packages/requests/sessions.py\u001b[0m in \u001b[0;36msend\u001b[0;34m(self, request, **kwargs)\u001b[0m\n\u001b[1;32m    653\u001b[0m \u001b[0;34m\u001b[0m\u001b[0m\n\u001b[1;32m    654\u001b[0m         \u001b[0;31m# Send the request\u001b[0m\u001b[0;34m\u001b[0m\u001b[0;34m\u001b[0m\u001b[0;34m\u001b[0m\u001b[0m\n\u001b[0;32m--> 655\u001b[0;31m         \u001b[0mr\u001b[0m \u001b[0;34m=\u001b[0m \u001b[0madapter\u001b[0m\u001b[0;34m.\u001b[0m\u001b[0msend\u001b[0m\u001b[0;34m(\u001b[0m\u001b[0mrequest\u001b[0m\u001b[0;34m,\u001b[0m \u001b[0;34m**\u001b[0m\u001b[0mkwargs\u001b[0m\u001b[0;34m)\u001b[0m\u001b[0;34m\u001b[0m\u001b[0;34m\u001b[0m\u001b[0m\n\u001b[0m\u001b[1;32m    656\u001b[0m \u001b[0;34m\u001b[0m\u001b[0m\n\u001b[1;32m    657\u001b[0m         \u001b[0;31m# Total elapsed time of the request (approximately)\u001b[0m\u001b[0;34m\u001b[0m\u001b[0;34m\u001b[0m\u001b[0;34m\u001b[0m\u001b[0m\n",
      "\u001b[0;32m/app/infra/data/jupyterhub/images/singleuser_spark/main.binary.runfiles/vendor_python_requests/site-packages/requests/adapters.py\u001b[0m in \u001b[0;36msend\u001b[0;34m(self, request, stream, timeout, verify, cert, proxies)\u001b[0m\n\u001b[1;32m    437\u001b[0m         \u001b[0;32mtry\u001b[0m\u001b[0;34m:\u001b[0m\u001b[0;34m\u001b[0m\u001b[0;34m\u001b[0m\u001b[0m\n\u001b[1;32m    438\u001b[0m             \u001b[0;32mif\u001b[0m \u001b[0;32mnot\u001b[0m \u001b[0mchunked\u001b[0m\u001b[0;34m:\u001b[0m\u001b[0;34m\u001b[0m\u001b[0;34m\u001b[0m\u001b[0m\n\u001b[0;32m--> 439\u001b[0;31m                 resp = conn.urlopen(\n\u001b[0m\u001b[1;32m    440\u001b[0m                     \u001b[0mmethod\u001b[0m\u001b[0;34m=\u001b[0m\u001b[0mrequest\u001b[0m\u001b[0;34m.\u001b[0m\u001b[0mmethod\u001b[0m\u001b[0;34m,\u001b[0m\u001b[0;34m\u001b[0m\u001b[0;34m\u001b[0m\u001b[0m\n\u001b[1;32m    441\u001b[0m                     \u001b[0murl\u001b[0m\u001b[0;34m=\u001b[0m\u001b[0murl\u001b[0m\u001b[0;34m,\u001b[0m\u001b[0;34m\u001b[0m\u001b[0;34m\u001b[0m\u001b[0m\n",
      "\u001b[0;32m/app/infra/data/jupyterhub/images/singleuser_spark/main.binary.runfiles/vendor_python_urllib3/site-packages/urllib3/connectionpool.py\u001b[0m in \u001b[0;36murlopen\u001b[0;34m(self, method, url, body, headers, retries, redirect, assert_same_host, timeout, pool_timeout, release_conn, chunked, body_pos, **response_kw)\u001b[0m\n\u001b[1;32m    697\u001b[0m \u001b[0;34m\u001b[0m\u001b[0m\n\u001b[1;32m    698\u001b[0m             \u001b[0;31m# Make the request on the httplib connection object.\u001b[0m\u001b[0;34m\u001b[0m\u001b[0;34m\u001b[0m\u001b[0;34m\u001b[0m\u001b[0m\n\u001b[0;32m--> 699\u001b[0;31m             httplib_response = self._make_request(\n\u001b[0m\u001b[1;32m    700\u001b[0m                 \u001b[0mconn\u001b[0m\u001b[0;34m,\u001b[0m\u001b[0;34m\u001b[0m\u001b[0;34m\u001b[0m\u001b[0m\n\u001b[1;32m    701\u001b[0m                 \u001b[0mmethod\u001b[0m\u001b[0;34m,\u001b[0m\u001b[0;34m\u001b[0m\u001b[0;34m\u001b[0m\u001b[0m\n",
      "\u001b[0;32m/app/infra/data/jupyterhub/images/singleuser_spark/main.binary.runfiles/vendor_python_urllib3/site-packages/urllib3/connectionpool.py\u001b[0m in \u001b[0;36m_make_request\u001b[0;34m(self, conn, method, url, timeout, chunked, **httplib_request_kw)\u001b[0m\n\u001b[1;32m    443\u001b[0m                     \u001b[0;31m# Python 3 (including for exceptions like SystemExit).\u001b[0m\u001b[0;34m\u001b[0m\u001b[0;34m\u001b[0m\u001b[0;34m\u001b[0m\u001b[0m\n\u001b[1;32m    444\u001b[0m                     \u001b[0;31m# Otherwise it looks like a bug in the code.\u001b[0m\u001b[0;34m\u001b[0m\u001b[0;34m\u001b[0m\u001b[0;34m\u001b[0m\u001b[0m\n\u001b[0;32m--> 445\u001b[0;31m                     \u001b[0msix\u001b[0m\u001b[0;34m.\u001b[0m\u001b[0mraise_from\u001b[0m\u001b[0;34m(\u001b[0m\u001b[0me\u001b[0m\u001b[0;34m,\u001b[0m \u001b[0;32mNone\u001b[0m\u001b[0;34m)\u001b[0m\u001b[0;34m\u001b[0m\u001b[0;34m\u001b[0m\u001b[0m\n\u001b[0m\u001b[1;32m    446\u001b[0m         \u001b[0;32mexcept\u001b[0m \u001b[0;34m(\u001b[0m\u001b[0mSocketTimeout\u001b[0m\u001b[0;34m,\u001b[0m \u001b[0mBaseSSLError\u001b[0m\u001b[0;34m,\u001b[0m \u001b[0mSocketError\u001b[0m\u001b[0;34m)\u001b[0m \u001b[0;32mas\u001b[0m \u001b[0me\u001b[0m\u001b[0;34m:\u001b[0m\u001b[0;34m\u001b[0m\u001b[0;34m\u001b[0m\u001b[0m\n\u001b[1;32m    447\u001b[0m             \u001b[0mself\u001b[0m\u001b[0;34m.\u001b[0m\u001b[0m_raise_timeout\u001b[0m\u001b[0;34m(\u001b[0m\u001b[0merr\u001b[0m\u001b[0;34m=\u001b[0m\u001b[0me\u001b[0m\u001b[0;34m,\u001b[0m \u001b[0murl\u001b[0m\u001b[0;34m=\u001b[0m\u001b[0murl\u001b[0m\u001b[0;34m,\u001b[0m \u001b[0mtimeout_value\u001b[0m\u001b[0;34m=\u001b[0m\u001b[0mread_timeout\u001b[0m\u001b[0;34m)\u001b[0m\u001b[0;34m\u001b[0m\u001b[0;34m\u001b[0m\u001b[0m\n",
      "\u001b[0;32m/app/infra/data/jupyterhub/images/singleuser_spark/main.binary.runfiles/vendor_python_urllib3/site-packages/urllib3/packages/six.py\u001b[0m in \u001b[0;36mraise_from\u001b[0;34m(value, from_value)\u001b[0m\n",
      "\u001b[0;32m/app/infra/data/jupyterhub/images/singleuser_spark/main.binary.runfiles/vendor_python_urllib3/site-packages/urllib3/connectionpool.py\u001b[0m in \u001b[0;36m_make_request\u001b[0;34m(self, conn, method, url, timeout, chunked, **httplib_request_kw)\u001b[0m\n\u001b[1;32m    438\u001b[0m                 \u001b[0;31m# Python 3\u001b[0m\u001b[0;34m\u001b[0m\u001b[0;34m\u001b[0m\u001b[0;34m\u001b[0m\u001b[0m\n\u001b[1;32m    439\u001b[0m                 \u001b[0;32mtry\u001b[0m\u001b[0;34m:\u001b[0m\u001b[0;34m\u001b[0m\u001b[0;34m\u001b[0m\u001b[0m\n\u001b[0;32m--> 440\u001b[0;31m                     \u001b[0mhttplib_response\u001b[0m \u001b[0;34m=\u001b[0m \u001b[0mconn\u001b[0m\u001b[0;34m.\u001b[0m\u001b[0mgetresponse\u001b[0m\u001b[0;34m(\u001b[0m\u001b[0;34m)\u001b[0m\u001b[0;34m\u001b[0m\u001b[0;34m\u001b[0m\u001b[0m\n\u001b[0m\u001b[1;32m    441\u001b[0m                 \u001b[0;32mexcept\u001b[0m \u001b[0mBaseException\u001b[0m \u001b[0;32mas\u001b[0m \u001b[0me\u001b[0m\u001b[0;34m:\u001b[0m\u001b[0;34m\u001b[0m\u001b[0;34m\u001b[0m\u001b[0m\n\u001b[1;32m    442\u001b[0m                     \u001b[0;31m# Remove the TypeError from the exception chain in\u001b[0m\u001b[0;34m\u001b[0m\u001b[0;34m\u001b[0m\u001b[0;34m\u001b[0m\u001b[0m\n",
      "\u001b[0;32m/usr/local/lib/python3.8/http/client.py\u001b[0m in \u001b[0;36mgetresponse\u001b[0;34m(self)\u001b[0m\n\u001b[1;32m   1346\u001b[0m         \u001b[0;32mtry\u001b[0m\u001b[0;34m:\u001b[0m\u001b[0;34m\u001b[0m\u001b[0;34m\u001b[0m\u001b[0m\n\u001b[1;32m   1347\u001b[0m             \u001b[0;32mtry\u001b[0m\u001b[0;34m:\u001b[0m\u001b[0;34m\u001b[0m\u001b[0;34m\u001b[0m\u001b[0m\n\u001b[0;32m-> 1348\u001b[0;31m                 \u001b[0mresponse\u001b[0m\u001b[0;34m.\u001b[0m\u001b[0mbegin\u001b[0m\u001b[0;34m(\u001b[0m\u001b[0;34m)\u001b[0m\u001b[0;34m\u001b[0m\u001b[0;34m\u001b[0m\u001b[0m\n\u001b[0m\u001b[1;32m   1349\u001b[0m             \u001b[0;32mexcept\u001b[0m \u001b[0mConnectionError\u001b[0m\u001b[0;34m:\u001b[0m\u001b[0;34m\u001b[0m\u001b[0;34m\u001b[0m\u001b[0m\n\u001b[1;32m   1350\u001b[0m                 \u001b[0mself\u001b[0m\u001b[0;34m.\u001b[0m\u001b[0mclose\u001b[0m\u001b[0;34m(\u001b[0m\u001b[0;34m)\u001b[0m\u001b[0;34m\u001b[0m\u001b[0;34m\u001b[0m\u001b[0m\n",
      "\u001b[0;32m/usr/local/lib/python3.8/http/client.py\u001b[0m in \u001b[0;36mbegin\u001b[0;34m(self)\u001b[0m\n\u001b[1;32m    314\u001b[0m         \u001b[0;31m# read until we get a non-100 response\u001b[0m\u001b[0;34m\u001b[0m\u001b[0;34m\u001b[0m\u001b[0;34m\u001b[0m\u001b[0m\n\u001b[1;32m    315\u001b[0m         \u001b[0;32mwhile\u001b[0m \u001b[0;32mTrue\u001b[0m\u001b[0;34m:\u001b[0m\u001b[0;34m\u001b[0m\u001b[0;34m\u001b[0m\u001b[0m\n\u001b[0;32m--> 316\u001b[0;31m             \u001b[0mversion\u001b[0m\u001b[0;34m,\u001b[0m \u001b[0mstatus\u001b[0m\u001b[0;34m,\u001b[0m \u001b[0mreason\u001b[0m \u001b[0;34m=\u001b[0m \u001b[0mself\u001b[0m\u001b[0;34m.\u001b[0m\u001b[0m_read_status\u001b[0m\u001b[0;34m(\u001b[0m\u001b[0;34m)\u001b[0m\u001b[0;34m\u001b[0m\u001b[0;34m\u001b[0m\u001b[0m\n\u001b[0m\u001b[1;32m    317\u001b[0m             \u001b[0;32mif\u001b[0m \u001b[0mstatus\u001b[0m \u001b[0;34m!=\u001b[0m \u001b[0mCONTINUE\u001b[0m\u001b[0;34m:\u001b[0m\u001b[0;34m\u001b[0m\u001b[0;34m\u001b[0m\u001b[0m\n\u001b[1;32m    318\u001b[0m                 \u001b[0;32mbreak\u001b[0m\u001b[0;34m\u001b[0m\u001b[0;34m\u001b[0m\u001b[0m\n",
      "\u001b[0;32m/usr/local/lib/python3.8/http/client.py\u001b[0m in \u001b[0;36m_read_status\u001b[0;34m(self)\u001b[0m\n\u001b[1;32m    275\u001b[0m \u001b[0;34m\u001b[0m\u001b[0m\n\u001b[1;32m    276\u001b[0m     \u001b[0;32mdef\u001b[0m \u001b[0m_read_status\u001b[0m\u001b[0;34m(\u001b[0m\u001b[0mself\u001b[0m\u001b[0;34m)\u001b[0m\u001b[0;34m:\u001b[0m\u001b[0;34m\u001b[0m\u001b[0;34m\u001b[0m\u001b[0m\n\u001b[0;32m--> 277\u001b[0;31m         \u001b[0mline\u001b[0m \u001b[0;34m=\u001b[0m \u001b[0mstr\u001b[0m\u001b[0;34m(\u001b[0m\u001b[0mself\u001b[0m\u001b[0;34m.\u001b[0m\u001b[0mfp\u001b[0m\u001b[0;34m.\u001b[0m\u001b[0mreadline\u001b[0m\u001b[0;34m(\u001b[0m\u001b[0m_MAXLINE\u001b[0m \u001b[0;34m+\u001b[0m \u001b[0;36m1\u001b[0m\u001b[0;34m)\u001b[0m\u001b[0;34m,\u001b[0m \u001b[0;34m\"iso-8859-1\"\u001b[0m\u001b[0;34m)\u001b[0m\u001b[0;34m\u001b[0m\u001b[0;34m\u001b[0m\u001b[0m\n\u001b[0m\u001b[1;32m    278\u001b[0m         \u001b[0;32mif\u001b[0m \u001b[0mlen\u001b[0m\u001b[0;34m(\u001b[0m\u001b[0mline\u001b[0m\u001b[0;34m)\u001b[0m \u001b[0;34m>\u001b[0m \u001b[0m_MAXLINE\u001b[0m\u001b[0;34m:\u001b[0m\u001b[0;34m\u001b[0m\u001b[0;34m\u001b[0m\u001b[0m\n\u001b[1;32m    279\u001b[0m             \u001b[0;32mraise\u001b[0m \u001b[0mLineTooLong\u001b[0m\u001b[0;34m(\u001b[0m\u001b[0;34m\"status line\"\u001b[0m\u001b[0;34m)\u001b[0m\u001b[0;34m\u001b[0m\u001b[0;34m\u001b[0m\u001b[0m\n",
      "\u001b[0;32m/usr/local/lib/python3.8/socket.py\u001b[0m in \u001b[0;36mreadinto\u001b[0;34m(self, b)\u001b[0m\n\u001b[1;32m    667\u001b[0m         \u001b[0;32mwhile\u001b[0m \u001b[0;32mTrue\u001b[0m\u001b[0;34m:\u001b[0m\u001b[0;34m\u001b[0m\u001b[0;34m\u001b[0m\u001b[0m\n\u001b[1;32m    668\u001b[0m             \u001b[0;32mtry\u001b[0m\u001b[0;34m:\u001b[0m\u001b[0;34m\u001b[0m\u001b[0;34m\u001b[0m\u001b[0m\n\u001b[0;32m--> 669\u001b[0;31m                 \u001b[0;32mreturn\u001b[0m \u001b[0mself\u001b[0m\u001b[0;34m.\u001b[0m\u001b[0m_sock\u001b[0m\u001b[0;34m.\u001b[0m\u001b[0mrecv_into\u001b[0m\u001b[0;34m(\u001b[0m\u001b[0mb\u001b[0m\u001b[0;34m)\u001b[0m\u001b[0;34m\u001b[0m\u001b[0;34m\u001b[0m\u001b[0m\n\u001b[0m\u001b[1;32m    670\u001b[0m             \u001b[0;32mexcept\u001b[0m \u001b[0mtimeout\u001b[0m\u001b[0;34m:\u001b[0m\u001b[0;34m\u001b[0m\u001b[0;34m\u001b[0m\u001b[0m\n\u001b[1;32m    671\u001b[0m                 \u001b[0mself\u001b[0m\u001b[0;34m.\u001b[0m\u001b[0m_timeout_occurred\u001b[0m \u001b[0;34m=\u001b[0m \u001b[0;32mTrue\u001b[0m\u001b[0;34m\u001b[0m\u001b[0;34m\u001b[0m\u001b[0m\n",
      "\u001b[0;31mKeyboardInterrupt\u001b[0m: "
     ]
    }
   ],
   "source": [
    "data = ds_trino.fetch_data(sql)"
   ]
  },
  {
   "cell_type": "code",
   "execution_count": 9,
   "id": "820315f6-fad1-4bca-a7eb-e0e444e1269a",
   "metadata": {
    "collapsed": true,
    "execution": {
     "iopub.execute_input": "2023-02-24T12:57:13.570876Z",
     "iopub.status.busy": "2023-02-24T12:57:13.570663Z",
     "iopub.status.idle": "2023-02-24T12:57:13.574827Z",
     "shell.execute_reply": "2023-02-24T12:57:13.574301Z",
     "shell.execute_reply.started": "2023-02-24T12:57:13.570854Z"
    },
    "jupyter": {
     "outputs_hidden": true
    },
    "tags": []
   },
   "outputs": [
    {
     "data": {
      "text/plain": [
       "array(['AUS', 'TWN', None, 'JPN', 'MNG', 'NPL', 'NZL', 'PHL', 'IND',\n",
       "       'CHN', 'GBR', 'CHE', 'DEU', 'ESP', 'FRA', 'ITA', 'BEL', 'LUX',\n",
       "       'PRT', 'IRL', 'KGZ', 'NLD', 'RUS', 'TUR', 'CZE', 'KAZ', 'SWE',\n",
       "       'MEX', 'ARG', 'CHL', 'DOM', 'USA', 'CAN', 'PRI', 'ATA'],\n",
       "      dtype=object)"
      ]
     },
     "execution_count": 9,
     "metadata": {},
     "output_type": "execute_result"
    }
   ],
   "source": [
    "data['country_code'].unique()"
   ]
  },
  {
   "cell_type": "code",
   "execution_count": 10,
   "id": "5066015b-4d26-45db-a9db-036364c4f18c",
   "metadata": {
    "collapsed": true,
    "execution": {
     "iopub.execute_input": "2023-02-24T12:57:26.235397Z",
     "iopub.status.busy": "2023-02-24T12:57:26.235142Z",
     "iopub.status.idle": "2023-02-24T12:57:26.250909Z",
     "shell.execute_reply": "2023-02-24T12:57:26.250409Z",
     "shell.execute_reply.started": "2023-02-24T12:57:26.235372Z"
    },
    "jupyter": {
     "outputs_hidden": true
    },
    "tags": []
   },
   "outputs": [
    {
     "data": {
      "text/html": [
       "<div>\n",
       "<style scoped>\n",
       "    .dataframe tbody tr th:only-of-type {\n",
       "        vertical-align: middle;\n",
       "    }\n",
       "\n",
       "    .dataframe tbody tr th {\n",
       "        vertical-align: top;\n",
       "    }\n",
       "\n",
       "    .dataframe thead th {\n",
       "        text-align: right;\n",
       "    }\n",
       "</style>\n",
       "<table border=\"1\" class=\"dataframe\">\n",
       "  <thead>\n",
       "    <tr style=\"text-align: right;\">\n",
       "      <th></th>\n",
       "      <th>month</th>\n",
       "      <th>super_region</th>\n",
       "      <th>country_code</th>\n",
       "      <th>service_slug</th>\n",
       "      <th>_col4</th>\n",
       "    </tr>\n",
       "  </thead>\n",
       "  <tbody>\n",
       "    <tr>\n",
       "      <th>139</th>\n",
       "      <td>2022-06-01</td>\n",
       "      <td>LATAM</td>\n",
       "      <td>MEX</td>\n",
       "      <td>ubereats-marketintel</td>\n",
       "      <td>10</td>\n",
       "    </tr>\n",
       "    <tr>\n",
       "      <th>140</th>\n",
       "      <td>2022-07-01</td>\n",
       "      <td>LATAM</td>\n",
       "      <td>MEX</td>\n",
       "      <td>doordash-marketintel</td>\n",
       "      <td>1</td>\n",
       "    </tr>\n",
       "    <tr>\n",
       "      <th>141</th>\n",
       "      <td>2022-07-01</td>\n",
       "      <td>LATAM</td>\n",
       "      <td>MEX</td>\n",
       "      <td>grubhub-marketintel</td>\n",
       "      <td>8</td>\n",
       "    </tr>\n",
       "    <tr>\n",
       "      <th>142</th>\n",
       "      <td>2022-07-01</td>\n",
       "      <td>LATAM</td>\n",
       "      <td>MEX</td>\n",
       "      <td>ubereats-marketintel</td>\n",
       "      <td>504</td>\n",
       "    </tr>\n",
       "    <tr>\n",
       "      <th>143</th>\n",
       "      <td>2022-07-01</td>\n",
       "      <td>LATAM</td>\n",
       "      <td>None</td>\n",
       "      <td>ubereats-marketintel</td>\n",
       "      <td>4</td>\n",
       "    </tr>\n",
       "    <tr>\n",
       "      <th>144</th>\n",
       "      <td>2022-08-01</td>\n",
       "      <td>LATAM</td>\n",
       "      <td>MEX</td>\n",
       "      <td>doordash-marketintel</td>\n",
       "      <td>4</td>\n",
       "    </tr>\n",
       "    <tr>\n",
       "      <th>145</th>\n",
       "      <td>2022-08-01</td>\n",
       "      <td>LATAM</td>\n",
       "      <td>MEX</td>\n",
       "      <td>ubereats-marketintel</td>\n",
       "      <td>1636</td>\n",
       "    </tr>\n",
       "    <tr>\n",
       "      <th>146</th>\n",
       "      <td>2022-08-01</td>\n",
       "      <td>LATAM</td>\n",
       "      <td>None</td>\n",
       "      <td>ubereats-marketintel</td>\n",
       "      <td>13</td>\n",
       "    </tr>\n",
       "    <tr>\n",
       "      <th>147</th>\n",
       "      <td>2022-09-01</td>\n",
       "      <td>LATAM</td>\n",
       "      <td>MEX</td>\n",
       "      <td>doordash-marketintel</td>\n",
       "      <td>2</td>\n",
       "    </tr>\n",
       "    <tr>\n",
       "      <th>148</th>\n",
       "      <td>2022-09-01</td>\n",
       "      <td>LATAM</td>\n",
       "      <td>MEX</td>\n",
       "      <td>ubereats-marketintel</td>\n",
       "      <td>1719</td>\n",
       "    </tr>\n",
       "    <tr>\n",
       "      <th>149</th>\n",
       "      <td>2022-09-01</td>\n",
       "      <td>LATAM</td>\n",
       "      <td>MEX</td>\n",
       "      <td>yelp-marketintel</td>\n",
       "      <td>1</td>\n",
       "    </tr>\n",
       "    <tr>\n",
       "      <th>150</th>\n",
       "      <td>2022-09-01</td>\n",
       "      <td>LATAM</td>\n",
       "      <td>None</td>\n",
       "      <td>ubereats-marketintel</td>\n",
       "      <td>10</td>\n",
       "    </tr>\n",
       "    <tr>\n",
       "      <th>151</th>\n",
       "      <td>2022-10-01</td>\n",
       "      <td>LATAM</td>\n",
       "      <td>MEX</td>\n",
       "      <td>ubereats-marketintel</td>\n",
       "      <td>1642</td>\n",
       "    </tr>\n",
       "    <tr>\n",
       "      <th>152</th>\n",
       "      <td>2022-10-01</td>\n",
       "      <td>LATAM</td>\n",
       "      <td>MEX</td>\n",
       "      <td>yelp-marketintel</td>\n",
       "      <td>4</td>\n",
       "    </tr>\n",
       "    <tr>\n",
       "      <th>153</th>\n",
       "      <td>2022-11-01</td>\n",
       "      <td>LATAM</td>\n",
       "      <td>MEX</td>\n",
       "      <td>doordash-marketintel</td>\n",
       "      <td>4</td>\n",
       "    </tr>\n",
       "    <tr>\n",
       "      <th>154</th>\n",
       "      <td>2022-11-01</td>\n",
       "      <td>LATAM</td>\n",
       "      <td>MEX</td>\n",
       "      <td>ubereats-marketintel</td>\n",
       "      <td>2337</td>\n",
       "    </tr>\n",
       "    <tr>\n",
       "      <th>155</th>\n",
       "      <td>2022-11-01</td>\n",
       "      <td>LATAM</td>\n",
       "      <td>MEX</td>\n",
       "      <td>yelp-marketintel</td>\n",
       "      <td>37</td>\n",
       "    </tr>\n",
       "    <tr>\n",
       "      <th>156</th>\n",
       "      <td>2022-12-01</td>\n",
       "      <td>LATAM</td>\n",
       "      <td>ARG</td>\n",
       "      <td>yelp-marketintel</td>\n",
       "      <td>1</td>\n",
       "    </tr>\n",
       "    <tr>\n",
       "      <th>157</th>\n",
       "      <td>2022-12-01</td>\n",
       "      <td>LATAM</td>\n",
       "      <td>CHL</td>\n",
       "      <td>ubereats-marketintel</td>\n",
       "      <td>1220</td>\n",
       "    </tr>\n",
       "    <tr>\n",
       "      <th>158</th>\n",
       "      <td>2022-12-01</td>\n",
       "      <td>LATAM</td>\n",
       "      <td>MEX</td>\n",
       "      <td>doordash-marketintel</td>\n",
       "      <td>3</td>\n",
       "    </tr>\n",
       "    <tr>\n",
       "      <th>159</th>\n",
       "      <td>2022-12-01</td>\n",
       "      <td>LATAM</td>\n",
       "      <td>MEX</td>\n",
       "      <td>grubhub-marketintel</td>\n",
       "      <td>1</td>\n",
       "    </tr>\n",
       "    <tr>\n",
       "      <th>160</th>\n",
       "      <td>2022-12-01</td>\n",
       "      <td>LATAM</td>\n",
       "      <td>MEX</td>\n",
       "      <td>ubereats-marketintel</td>\n",
       "      <td>3456</td>\n",
       "    </tr>\n",
       "    <tr>\n",
       "      <th>161</th>\n",
       "      <td>2022-12-01</td>\n",
       "      <td>LATAM</td>\n",
       "      <td>MEX</td>\n",
       "      <td>yelp-marketintel</td>\n",
       "      <td>108</td>\n",
       "    </tr>\n",
       "    <tr>\n",
       "      <th>162</th>\n",
       "      <td>2023-01-01</td>\n",
       "      <td>LATAM</td>\n",
       "      <td>ARG</td>\n",
       "      <td>yelp-marketintel</td>\n",
       "      <td>5</td>\n",
       "    </tr>\n",
       "    <tr>\n",
       "      <th>163</th>\n",
       "      <td>2023-01-01</td>\n",
       "      <td>LATAM</td>\n",
       "      <td>CHL</td>\n",
       "      <td>ubereats-marketintel</td>\n",
       "      <td>1266</td>\n",
       "    </tr>\n",
       "    <tr>\n",
       "      <th>164</th>\n",
       "      <td>2023-01-01</td>\n",
       "      <td>LATAM</td>\n",
       "      <td>DOM</td>\n",
       "      <td>yelp-marketintel</td>\n",
       "      <td>1</td>\n",
       "    </tr>\n",
       "    <tr>\n",
       "      <th>165</th>\n",
       "      <td>2023-01-01</td>\n",
       "      <td>LATAM</td>\n",
       "      <td>MEX</td>\n",
       "      <td>doordash-marketintel</td>\n",
       "      <td>17</td>\n",
       "    </tr>\n",
       "    <tr>\n",
       "      <th>166</th>\n",
       "      <td>2023-01-01</td>\n",
       "      <td>LATAM</td>\n",
       "      <td>MEX</td>\n",
       "      <td>grubhub-marketintel</td>\n",
       "      <td>4</td>\n",
       "    </tr>\n",
       "    <tr>\n",
       "      <th>167</th>\n",
       "      <td>2023-01-01</td>\n",
       "      <td>LATAM</td>\n",
       "      <td>MEX</td>\n",
       "      <td>ubereats-marketintel</td>\n",
       "      <td>6746</td>\n",
       "    </tr>\n",
       "    <tr>\n",
       "      <th>168</th>\n",
       "      <td>2023-01-01</td>\n",
       "      <td>LATAM</td>\n",
       "      <td>MEX</td>\n",
       "      <td>yelp-marketintel</td>\n",
       "      <td>509</td>\n",
       "    </tr>\n",
       "    <tr>\n",
       "      <th>169</th>\n",
       "      <td>2023-02-01</td>\n",
       "      <td>LATAM</td>\n",
       "      <td>ARG</td>\n",
       "      <td>yelp-marketintel</td>\n",
       "      <td>4</td>\n",
       "    </tr>\n",
       "    <tr>\n",
       "      <th>170</th>\n",
       "      <td>2023-02-01</td>\n",
       "      <td>LATAM</td>\n",
       "      <td>CHL</td>\n",
       "      <td>ubereats-marketintel</td>\n",
       "      <td>8858</td>\n",
       "    </tr>\n",
       "    <tr>\n",
       "      <th>171</th>\n",
       "      <td>2023-02-01</td>\n",
       "      <td>LATAM</td>\n",
       "      <td>MEX</td>\n",
       "      <td>doordash-marketintel</td>\n",
       "      <td>39</td>\n",
       "    </tr>\n",
       "    <tr>\n",
       "      <th>172</th>\n",
       "      <td>2023-02-01</td>\n",
       "      <td>LATAM</td>\n",
       "      <td>MEX</td>\n",
       "      <td>grubhub-marketintel</td>\n",
       "      <td>12</td>\n",
       "    </tr>\n",
       "    <tr>\n",
       "      <th>173</th>\n",
       "      <td>2023-02-01</td>\n",
       "      <td>LATAM</td>\n",
       "      <td>MEX</td>\n",
       "      <td>ubereats-marketintel</td>\n",
       "      <td>61213</td>\n",
       "    </tr>\n",
       "    <tr>\n",
       "      <th>174</th>\n",
       "      <td>2023-02-01</td>\n",
       "      <td>LATAM</td>\n",
       "      <td>MEX</td>\n",
       "      <td>yelp-marketintel</td>\n",
       "      <td>2284</td>\n",
       "    </tr>\n",
       "  </tbody>\n",
       "</table>\n",
       "</div>"
      ],
      "text/plain": [
       "          month super_region country_code          service_slug  _col4\n",
       "139  2022-06-01        LATAM          MEX  ubereats-marketintel     10\n",
       "140  2022-07-01        LATAM          MEX  doordash-marketintel      1\n",
       "141  2022-07-01        LATAM          MEX   grubhub-marketintel      8\n",
       "142  2022-07-01        LATAM          MEX  ubereats-marketintel    504\n",
       "143  2022-07-01        LATAM         None  ubereats-marketintel      4\n",
       "144  2022-08-01        LATAM          MEX  doordash-marketintel      4\n",
       "145  2022-08-01        LATAM          MEX  ubereats-marketintel   1636\n",
       "146  2022-08-01        LATAM         None  ubereats-marketintel     13\n",
       "147  2022-09-01        LATAM          MEX  doordash-marketintel      2\n",
       "148  2022-09-01        LATAM          MEX  ubereats-marketintel   1719\n",
       "149  2022-09-01        LATAM          MEX      yelp-marketintel      1\n",
       "150  2022-09-01        LATAM         None  ubereats-marketintel     10\n",
       "151  2022-10-01        LATAM          MEX  ubereats-marketintel   1642\n",
       "152  2022-10-01        LATAM          MEX      yelp-marketintel      4\n",
       "153  2022-11-01        LATAM          MEX  doordash-marketintel      4\n",
       "154  2022-11-01        LATAM          MEX  ubereats-marketintel   2337\n",
       "155  2022-11-01        LATAM          MEX      yelp-marketintel     37\n",
       "156  2022-12-01        LATAM          ARG      yelp-marketintel      1\n",
       "157  2022-12-01        LATAM          CHL  ubereats-marketintel   1220\n",
       "158  2022-12-01        LATAM          MEX  doordash-marketintel      3\n",
       "159  2022-12-01        LATAM          MEX   grubhub-marketintel      1\n",
       "160  2022-12-01        LATAM          MEX  ubereats-marketintel   3456\n",
       "161  2022-12-01        LATAM          MEX      yelp-marketintel    108\n",
       "162  2023-01-01        LATAM          ARG      yelp-marketintel      5\n",
       "163  2023-01-01        LATAM          CHL  ubereats-marketintel   1266\n",
       "164  2023-01-01        LATAM          DOM      yelp-marketintel      1\n",
       "165  2023-01-01        LATAM          MEX  doordash-marketintel     17\n",
       "166  2023-01-01        LATAM          MEX   grubhub-marketintel      4\n",
       "167  2023-01-01        LATAM          MEX  ubereats-marketintel   6746\n",
       "168  2023-01-01        LATAM          MEX      yelp-marketintel    509\n",
       "169  2023-02-01        LATAM          ARG      yelp-marketintel      4\n",
       "170  2023-02-01        LATAM          CHL  ubereats-marketintel   8858\n",
       "171  2023-02-01        LATAM          MEX  doordash-marketintel     39\n",
       "172  2023-02-01        LATAM          MEX   grubhub-marketintel     12\n",
       "173  2023-02-01        LATAM          MEX  ubereats-marketintel  61213\n",
       "174  2023-02-01        LATAM          MEX      yelp-marketintel   2284"
      ]
     },
     "execution_count": 10,
     "metadata": {},
     "output_type": "execute_result"
    }
   ],
   "source": [
    "data[data['super_region']=='LATAM']"
   ]
  },
  {
   "cell_type": "code",
   "execution_count": 6,
   "id": "a24bdb04-db5f-4e5f-bcc5-8eefa9704cea",
   "metadata": {
    "execution": {
     "iopub.execute_input": "2023-02-27T08:15:45.705474Z",
     "iopub.status.busy": "2023-02-27T08:15:45.705250Z",
     "iopub.status.idle": "2023-02-27T08:15:45.708782Z",
     "shell.execute_reply": "2023-02-27T08:15:45.708324Z",
     "shell.execute_reply.started": "2023-02-27T08:15:45.705451Z"
    },
    "tags": []
   },
   "outputs": [],
   "source": [
    "begin_date = pd.to_datetime('2023-02-01')\n",
    "end_date = datetime.now().strftime('%Y-%m-%d')\n",
    "days_per_batch = 10"
   ]
  },
  {
   "cell_type": "code",
   "execution_count": 7,
   "id": "a2fff9a2-094a-4d46-a7f6-fd83a9751bd2",
   "metadata": {
    "execution": {
     "iopub.execute_input": "2023-02-27T08:15:46.443938Z",
     "iopub.status.busy": "2023-02-27T08:15:46.443731Z",
     "iopub.status.idle": "2023-02-27T08:15:46.446444Z",
     "shell.execute_reply": "2023-02-27T08:15:46.445976Z",
     "shell.execute_reply.started": "2023-02-27T08:15:46.443917Z"
    },
    "tags": []
   },
   "outputs": [],
   "source": [
    "super_region = 'LATAM'\n",
    "country_code = 'MEX'\n",
    "service_slug = 'ubereats-marketintel'"
   ]
  },
  {
   "cell_type": "code",
   "execution_count": 14,
   "id": "c78dfebc-e1e3-47f4-8a6a-f23aae522859",
   "metadata": {
    "execution": {
     "iopub.execute_input": "2023-02-27T08:16:14.807388Z",
     "iopub.status.busy": "2023-02-27T08:16:14.807055Z",
     "iopub.status.idle": "2023-02-27T08:16:14.812627Z",
     "shell.execute_reply": "2023-02-27T08:16:14.812119Z",
     "shell.execute_reply.started": "2023-02-27T08:16:14.807351Z"
    },
    "tags": []
   },
   "outputs": [],
   "source": [
    "with open('/home/maximilian.hofmann/tools/pricing-tool-v2/data/queries/sql_ofo_scrape_data_iceberg.sql', 'r') as f:\n",
    "    sql_template = f.read()"
   ]
  },
  {
   "cell_type": "code",
   "execution_count": 9,
   "id": "a47936f5-91ed-4e8f-821e-c7bfc0deb2b8",
   "metadata": {
    "execution": {
     "iopub.execute_input": "2023-02-27T08:15:47.541492Z",
     "iopub.status.busy": "2023-02-27T08:15:47.541278Z",
     "iopub.status.idle": "2023-02-27T08:15:47.544382Z",
     "shell.execute_reply": "2023-02-27T08:15:47.543860Z",
     "shell.execute_reply.started": "2023-02-27T08:15:47.541469Z"
    },
    "tags": []
   },
   "outputs": [],
   "source": [
    "project_name = 'css-operations'\n",
    "stag_dataset_name = 'brand_science_stag'\n",
    "stag_table_name = 'pricing_ofo_scrape_data_stag'\n",
    "full_stag_table_name = '.'.join([project_name, stag_dataset_name, stag_table_name])"
   ]
  },
  {
   "cell_type": "code",
   "execution_count": 10,
   "id": "b828fba1-afaf-492a-8380-f61d61be982d",
   "metadata": {
    "execution": {
     "iopub.execute_input": "2023-02-27T08:15:48.217211Z",
     "iopub.status.busy": "2023-02-27T08:15:48.216960Z",
     "iopub.status.idle": "2023-02-27T08:15:48.221937Z",
     "shell.execute_reply": "2023-02-27T08:15:48.221354Z",
     "shell.execute_reply.started": "2023-02-27T08:15:48.217187Z"
    },
    "tags": []
   },
   "outputs": [
    {
     "data": {
      "text/plain": [
       "[['2023-02-01', '2023-02-10'],\n",
       " ['2023-02-11', '2023-02-20'],\n",
       " ['2023-02-21', '2023-02-27']]"
      ]
     },
     "execution_count": 10,
     "metadata": {},
     "output_type": "execute_result"
    }
   ],
   "source": [
    "date_list = partition_date_range(pd.to_datetime(begin_date), pd.to_datetime(end_date), days_per_batch, week_trunc=False)\n",
    "date_list"
   ]
  },
  {
   "cell_type": "code",
   "execution_count": 11,
   "id": "37f19fb6-f249-4efc-9374-43dbd9dcc661",
   "metadata": {
    "execution": {
     "iopub.execute_input": "2023-02-27T08:15:48.931436Z",
     "iopub.status.busy": "2023-02-27T08:15:48.931202Z",
     "iopub.status.idle": "2023-02-27T08:15:48.934287Z",
     "shell.execute_reply": "2023-02-27T08:15:48.933729Z",
     "shell.execute_reply.started": "2023-02-27T08:15:48.931412Z"
    },
    "tags": []
   },
   "outputs": [],
   "source": [
    "clustering_fields=['country_code','month']"
   ]
  },
  {
   "cell_type": "code",
   "execution_count": 12,
   "id": "519a0dfb-225b-439b-bda7-d870a4cf53b6",
   "metadata": {
    "execution": {
     "iopub.execute_input": "2023-02-27T08:15:49.508718Z",
     "iopub.status.busy": "2023-02-27T08:15:49.508496Z",
     "iopub.status.idle": "2023-02-27T08:15:49.512595Z",
     "shell.execute_reply": "2023-02-27T08:15:49.512005Z",
     "shell.execute_reply.started": "2023-02-27T08:15:49.508695Z"
    },
    "tags": []
   },
   "outputs": [
    {
     "data": {
      "text/plain": [
       "3"
      ]
     },
     "execution_count": 12,
     "metadata": {},
     "output_type": "execute_result"
    }
   ],
   "source": [
    "num_processes = min(cpu_count(), len(date_list))\n",
    "num_processes"
   ]
  },
  {
   "cell_type": "code",
   "execution_count": null,
   "id": "1ae1980a-b0d4-4b35-9c1f-883edff5f724",
   "metadata": {
    "execution": {
     "iopub.execute_input": "2023-02-27T08:16:16.838610Z",
     "iopub.status.busy": "2023-02-27T08:16:16.838228Z"
    },
    "tags": []
   },
   "outputs": [
    {
     "name": "stdout",
     "output_type": "stream",
     "text": [
      "Start data cleaning...\n",
      "Start data cleaning...\n",
      "Data cleaning finished!\n",
      "Loading formatted geocoded file...\n",
      "Job 0111f4cb-eca5-434d-bc24-e01f98a809a4 is currently in state RUNNING\n",
      "Job 0111f4cb-eca5-434d-bc24-e01f98a809a4 is currently in state RUNNING\n",
      "Job 0111f4cb-eca5-434d-bc24-e01f98a809a4 is currently in state RUNNING\n",
      "Job 0111f4cb-eca5-434d-bc24-e01f98a809a4 is currently in state RUNNING\n",
      "Job 0111f4cb-eca5-434d-bc24-e01f98a809a4 is currently in state RUNNING\n",
      "Start data cleaning...\n"
     ]
    }
   ],
   "source": [
    "res = []\n",
    "with Pool(num_processes) as p:\n",
    "    r = p.starmap(fu.process_ofo_data_date_range_iceberg, zip(repeat(sql_template), date_list, repeat(super_region), repeat(service_slug), repeat(full_stag_table_name), repeat(clustering_fields)))\n",
    "    res.append(r)"
   ]
  },
  {
   "cell_type": "code",
   "execution_count": 3,
   "id": "b27ad018-562c-4f94-98b8-1275813173c9",
   "metadata": {
    "execution": {
     "iopub.execute_input": "2022-11-23T14:44:09.127147Z",
     "iopub.status.busy": "2022-11-23T14:44:09.126936Z",
     "iopub.status.idle": "2022-11-23T14:44:09.129611Z",
     "shell.execute_reply": "2022-11-23T14:44:09.129174Z",
     "shell.execute_reply.started": "2022-11-23T14:44:09.127127Z"
    },
    "tags": []
   },
   "outputs": [],
   "source": [
    "prod_dataset_name = 'brand_science'\n",
    "prod_table_name = 'pricing_ofo_scrape_data'\n",
    "full_prod_table_name = '.'.join([project_name, prod_dataset_name, prod_table_name])"
   ]
  },
  {
   "cell_type": "code",
   "execution_count": null,
   "id": "20079131-46e8-415b-aaf4-c6508c56420c",
   "metadata": {},
   "outputs": [],
   "source": [
    "import time\n",
    "time.sleep(60)"
   ]
  },
  {
   "cell_type": "code",
   "execution_count": 10,
   "id": "18eff102-a9f2-471a-9466-db54afb20719",
   "metadata": {
    "execution": {
     "iopub.execute_input": "2022-11-23T14:44:34.799133Z",
     "iopub.status.busy": "2022-11-23T14:44:34.798889Z",
     "iopub.status.idle": "2022-11-23T14:44:35.947757Z",
     "shell.execute_reply": "2022-11-23T14:44:35.947282Z",
     "shell.execute_reply.started": "2022-11-23T14:44:34.799109Z"
    },
    "tags": []
   },
   "outputs": [],
   "source": [
    "create_tbl = fu.create_tbl(full_stag_table_name, full_prod_table_name)"
   ]
  },
  {
   "cell_type": "code",
   "execution_count": 11,
   "id": "616ff124-538c-4a1d-8b7b-b66eb6b7099f",
   "metadata": {
    "execution": {
     "iopub.execute_input": "2022-11-23T14:44:42.133452Z",
     "iopub.status.busy": "2022-11-23T14:44:42.133246Z",
     "iopub.status.idle": "2022-11-23T14:45:05.215624Z",
     "shell.execute_reply": "2022-11-23T14:45:05.214960Z",
     "shell.execute_reply.started": "2022-11-23T14:44:42.133431Z"
    }
   },
   "outputs": [],
   "source": [
    "upsert_tbl = fu.upsert_tbl_ofo_scrape_data(full_stag_table_name, full_prod_table_name)"
   ]
  },
  {
   "cell_type": "code",
   "execution_count": null,
   "id": "68dc1067-6804-49ec-8e2e-99512e432603",
   "metadata": {},
   "outputs": [],
   "source": []
  }
 ],
 "metadata": {
  "kernelspec": {
   "display_name": "Python 3",
   "language": "python",
   "name": "python3"
  },
  "language_info": {
   "codemirror_mode": {
    "name": "ipython",
    "version": 3
   },
   "file_extension": ".py",
   "mimetype": "text/x-python",
   "name": "python",
   "nbconvert_exporter": "python",
   "pygments_lexer": "ipython3",
   "version": "3.8.13"
  }
 },
 "nbformat": 4,
 "nbformat_minor": 5
}
