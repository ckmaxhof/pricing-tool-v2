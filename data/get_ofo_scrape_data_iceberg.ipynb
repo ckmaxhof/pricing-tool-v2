{
 "cells": [
  {
   "cell_type": "code",
   "execution_count": 5,
   "id": "e7467941-1b44-4164-afc0-3aa0da825f34",
   "metadata": {
    "execution": {
     "iopub.execute_input": "2023-01-19T09:24:13.039328Z",
     "iopub.status.busy": "2023-01-19T09:24:13.039107Z",
     "iopub.status.idle": "2023-01-19T09:24:13.043136Z",
     "shell.execute_reply": "2023-01-19T09:24:13.042660Z",
     "shell.execute_reply.started": "2023-01-19T09:24:13.039305Z"
    },
    "tags": []
   },
   "outputs": [
    {
     "name": "stdout",
     "output_type": "stream",
     "text": [
      "2023-01-19 09:24:13.040596\n"
     ]
    }
   ],
   "source": [
    "from datetime import datetime, timedelta\n",
    "print(datetime.now())\n",
    "\n",
    "begin_date = (datetime.now() - timedelta(90)).strftime('%Y-%m-%d')\n",
    "end_date = datetime.now().strftime('%Y-%m-%d')\n",
    "days_per_batch = 15"
   ]
  },
  {
   "cell_type": "code",
   "execution_count": 6,
   "id": "61a2ef85-201c-47c0-8996-5b2f99d1675f",
   "metadata": {
    "execution": {
     "iopub.execute_input": "2023-01-19T09:24:14.226142Z",
     "iopub.status.busy": "2023-01-19T09:24:14.225915Z",
     "iopub.status.idle": "2023-01-19T09:24:14.229184Z",
     "shell.execute_reply": "2023-01-19T09:24:14.228642Z",
     "shell.execute_reply.started": "2023-01-19T09:24:14.226119Z"
    },
    "tags": []
   },
   "outputs": [],
   "source": [
    "import sys\n",
    "sys.path.append('/home/maximilian.hofmann/ff_utils/src')\n",
    "\n",
    "from importlib import reload"
   ]
  },
  {
   "cell_type": "code",
   "execution_count": 7,
   "id": "612b9a64-4eeb-462c-8b6a-5cc7af95c8da",
   "metadata": {
    "execution": {
     "iopub.execute_input": "2023-01-19T09:24:14.828099Z",
     "iopub.status.busy": "2023-01-19T09:24:14.827861Z",
     "iopub.status.idle": "2023-01-19T09:24:15.839969Z",
     "shell.execute_reply": "2023-01-19T09:24:15.839287Z",
     "shell.execute_reply.started": "2023-01-19T09:24:14.828074Z"
    },
    "tags": []
   },
   "outputs": [],
   "source": [
    "from importlib import reload\n",
    "from itertools import repeat\n",
    "from date_utils import partition_date_range\n",
    "import pandas as pd\n",
    "from multiprocessing.dummy import Pool\n",
    "from multiprocessing import cpu_count"
   ]
  },
  {
   "cell_type": "code",
   "execution_count": 8,
   "id": "5a1264ce-9300-410d-b709-8a7729b4c029",
   "metadata": {
    "execution": {
     "iopub.execute_input": "2023-01-19T09:24:15.972461Z",
     "iopub.status.busy": "2023-01-19T09:24:15.972247Z",
     "iopub.status.idle": "2023-01-19T09:24:20.124522Z",
     "shell.execute_reply": "2023-01-19T09:24:20.123858Z",
     "shell.execute_reply.started": "2023-01-19T09:24:15.972439Z"
    },
    "tags": []
   },
   "outputs": [
    {
     "name": "stderr",
     "output_type": "stream",
     "text": [
      "/app/infra/data/jupyterhub/images/singleuser_spark/main.binary.runfiles/vendor_python_geopandas/site-packages/geopandas/_compat.py:111: UserWarning: The Shapely GEOS version (3.8.0-CAPI-1.13.1 ) is incompatible with the GEOS version PyGEOS was compiled with (3.10.1-CAPI-1.16.0). Conversions between both will be slow.\n",
      "  warnings.warn(\n"
     ]
    },
    {
     "data": {
      "text/plain": [
       "<module 'functions' from '/home/maximilian.hofmann/tools/pricing-tool-v2/data/functions.py'>"
      ]
     },
     "execution_count": 8,
     "metadata": {},
     "output_type": "execute_result"
    }
   ],
   "source": [
    "import functions as fu\n",
    "reload(fu)"
   ]
  },
  {
   "cell_type": "code",
   "execution_count": 9,
   "id": "b6890032-e8d3-4efd-9764-3c4da9397163",
   "metadata": {
    "execution": {
     "iopub.execute_input": "2023-01-19T09:24:21.465945Z",
     "iopub.status.busy": "2023-01-19T09:24:21.465718Z",
     "iopub.status.idle": "2023-01-19T09:24:21.469347Z",
     "shell.execute_reply": "2023-01-19T09:24:21.468716Z",
     "shell.execute_reply.started": "2023-01-19T09:24:21.465921Z"
    },
    "tags": []
   },
   "outputs": [],
   "source": [
    "from ds.utilities.io import ds_trino"
   ]
  },
  {
   "cell_type": "code",
   "execution_count": 18,
   "id": "f24406cc-8354-4163-a500-a5b5ca484add",
   "metadata": {
    "execution": {
     "iopub.execute_input": "2023-01-19T09:31:22.409435Z",
     "iopub.status.busy": "2023-01-19T09:31:22.409192Z",
     "iopub.status.idle": "2023-01-19T09:31:22.412555Z",
     "shell.execute_reply": "2023-01-19T09:31:22.411736Z",
     "shell.execute_reply.started": "2023-01-19T09:31:22.409410Z"
    },
    "tags": []
   },
   "outputs": [],
   "source": [
    "# sql = '''\n",
    "# SELECT DISTINCT \n",
    "#     CAST(DATE_TRUNC('MONTH', last_seen) AS DATE) AS month,\n",
    "#     super_region,\n",
    "#     country_code,\n",
    "#     service_slug,\n",
    "#     COUNT(*)\n",
    "# FROM iceberg.marketintel.storefront_latest_view\n",
    "# GROUP BY 1,2,3,4\n",
    "# ORDER BY 2,1,3,4\n",
    "# '''"
   ]
  },
  {
   "cell_type": "code",
   "execution_count": 19,
   "id": "78516e6a-36d1-4507-9c56-2c2a8644adac",
   "metadata": {
    "execution": {
     "iopub.execute_input": "2023-01-19T09:31:22.882971Z",
     "iopub.status.busy": "2023-01-19T09:31:22.882736Z",
     "iopub.status.idle": "2023-01-19T09:31:22.885744Z",
     "shell.execute_reply": "2023-01-19T09:31:22.885135Z",
     "shell.execute_reply.started": "2023-01-19T09:31:22.882943Z"
    },
    "tags": []
   },
   "outputs": [],
   "source": [
    "# data = ds_trino.fetch_data(sql)"
   ]
  },
  {
   "cell_type": "code",
   "execution_count": 20,
   "id": "820315f6-fad1-4bca-a7eb-e0e444e1269a",
   "metadata": {
    "execution": {
     "iopub.execute_input": "2023-01-19T09:31:23.276865Z",
     "iopub.status.busy": "2023-01-19T09:31:23.276634Z",
     "iopub.status.idle": "2023-01-19T09:31:23.279866Z",
     "shell.execute_reply": "2023-01-19T09:31:23.279222Z",
     "shell.execute_reply.started": "2023-01-19T09:31:23.276839Z"
    },
    "tags": []
   },
   "outputs": [],
   "source": [
    "# data['super_region'].unique()"
   ]
  },
  {
   "cell_type": "code",
   "execution_count": 21,
   "id": "5066015b-4d26-45db-a9db-036364c4f18c",
   "metadata": {
    "execution": {
     "iopub.execute_input": "2023-01-19T09:31:24.329871Z",
     "iopub.status.busy": "2023-01-19T09:31:24.329653Z",
     "iopub.status.idle": "2023-01-19T09:31:24.332540Z",
     "shell.execute_reply": "2023-01-19T09:31:24.331893Z",
     "shell.execute_reply.started": "2023-01-19T09:31:24.329850Z"
    },
    "tags": []
   },
   "outputs": [],
   "source": [
    "# data[data['super_region']=='EMEA']"
   ]
  },
  {
   "cell_type": "code",
   "execution_count": 11,
   "id": "a24bdb04-db5f-4e5f-bcc5-8eefa9704cea",
   "metadata": {
    "execution": {
     "iopub.execute_input": "2023-01-19T09:24:36.319424Z",
     "iopub.status.busy": "2023-01-19T09:24:36.319207Z",
     "iopub.status.idle": "2023-01-19T09:24:36.322866Z",
     "shell.execute_reply": "2023-01-19T09:24:36.322273Z",
     "shell.execute_reply.started": "2023-01-19T09:24:36.319400Z"
    },
    "tags": []
   },
   "outputs": [],
   "source": [
    "begin_date = pd.to_datetime('2022-12-01')\n",
    "end_date = datetime.now().strftime('%Y-%m-%d')\n",
    "days_per_batch = 5"
   ]
  },
  {
   "cell_type": "code",
   "execution_count": 7,
   "id": "a2fff9a2-094a-4d46-a7f6-fd83a9751bd2",
   "metadata": {
    "execution": {
     "iopub.execute_input": "2023-01-12T14:49:55.375842Z",
     "iopub.status.busy": "2023-01-12T14:49:55.375573Z",
     "iopub.status.idle": "2023-01-12T14:49:55.378801Z",
     "shell.execute_reply": "2023-01-12T14:49:55.378205Z",
     "shell.execute_reply.started": "2023-01-12T14:49:55.375816Z"
    },
    "tags": []
   },
   "outputs": [],
   "source": [
    "super_region = 'EMEA'\n",
    "# country_code = 'GBR'\n",
    "service_slug = 'ubereats-marketintel'"
   ]
  },
  {
   "cell_type": "code",
   "execution_count": 2,
   "id": "c78dfebc-e1e3-47f4-8a6a-f23aae522859",
   "metadata": {
    "execution": {
     "iopub.execute_input": "2023-01-19T09:23:57.807641Z",
     "iopub.status.busy": "2023-01-19T09:23:57.807284Z",
     "iopub.status.idle": "2023-01-19T09:23:57.810851Z",
     "shell.execute_reply": "2023-01-19T09:23:57.810353Z",
     "shell.execute_reply.started": "2023-01-19T09:23:57.807599Z"
    },
    "tags": []
   },
   "outputs": [],
   "source": [
    "with open('/home/maximilian.hofmann/tools/pricing-tool-v2/data/queries/sql_ofo_scrape_data_iceberg.sql', 'r') as f:\n",
    "    sql_template = f.read()"
   ]
  },
  {
   "cell_type": "code",
   "execution_count": 3,
   "id": "a47936f5-91ed-4e8f-821e-c7bfc0deb2b8",
   "metadata": {
    "execution": {
     "iopub.execute_input": "2023-01-19T09:23:59.797982Z",
     "iopub.status.busy": "2023-01-19T09:23:59.797756Z",
     "iopub.status.idle": "2023-01-19T09:23:59.800909Z",
     "shell.execute_reply": "2023-01-19T09:23:59.800356Z",
     "shell.execute_reply.started": "2023-01-19T09:23:59.797958Z"
    },
    "tags": []
   },
   "outputs": [],
   "source": [
    "project_name = 'css-operations'\n",
    "stag_dataset_name = 'brand_science_stag'\n",
    "stag_table_name = 'pricing_ofo_scrape_data_stag'\n",
    "full_stag_table_name = '.'.join([project_name, stag_dataset_name, stag_table_name])"
   ]
  },
  {
   "cell_type": "code",
   "execution_count": 12,
   "id": "b828fba1-afaf-492a-8380-f61d61be982d",
   "metadata": {
    "execution": {
     "iopub.execute_input": "2023-01-19T09:24:38.148423Z",
     "iopub.status.busy": "2023-01-19T09:24:38.148205Z",
     "iopub.status.idle": "2023-01-19T09:24:38.153401Z",
     "shell.execute_reply": "2023-01-19T09:24:38.152813Z",
     "shell.execute_reply.started": "2023-01-19T09:24:38.148400Z"
    },
    "tags": []
   },
   "outputs": [
    {
     "data": {
      "text/plain": [
       "[['2022-12-01', '2022-12-05'],\n",
       " ['2022-12-06', '2022-12-10'],\n",
       " ['2022-12-11', '2022-12-15'],\n",
       " ['2022-12-16', '2022-12-20'],\n",
       " ['2022-12-21', '2022-12-25'],\n",
       " ['2022-12-26', '2022-12-30'],\n",
       " ['2022-12-31', '2023-01-04'],\n",
       " ['2023-01-05', '2023-01-09'],\n",
       " ['2023-01-10', '2023-01-14'],\n",
       " ['2023-01-15', '2023-01-19']]"
      ]
     },
     "execution_count": 12,
     "metadata": {},
     "output_type": "execute_result"
    }
   ],
   "source": [
    "date_list = partition_date_range(pd.to_datetime(begin_date), pd.to_datetime(end_date), days_per_batch, week_trunc=False)\n",
    "date_list"
   ]
  },
  {
   "cell_type": "code",
   "execution_count": 13,
   "id": "37f19fb6-f249-4efc-9374-43dbd9dcc661",
   "metadata": {
    "execution": {
     "iopub.execute_input": "2023-01-19T09:25:00.356361Z",
     "iopub.status.busy": "2023-01-19T09:25:00.356137Z",
     "iopub.status.idle": "2023-01-19T09:25:00.359049Z",
     "shell.execute_reply": "2023-01-19T09:25:00.358466Z",
     "shell.execute_reply.started": "2023-01-19T09:25:00.356338Z"
    },
    "tags": []
   },
   "outputs": [],
   "source": [
    "clustering_fields=['country_code','month']"
   ]
  },
  {
   "cell_type": "code",
   "execution_count": null,
   "id": "1ae1980a-b0d4-4b35-9c1f-883edff5f724",
   "metadata": {
    "execution": {
     "iopub.execute_input": "2023-01-12T14:50:02.008670Z",
     "iopub.status.busy": "2023-01-12T14:50:02.008408Z"
    },
    "tags": []
   },
   "outputs": [
    {
     "name": "stdout",
     "output_type": "stream",
     "text": [
      "Start data cleaning...\n",
      "Start data cleaning...\n",
      "Start data cleaning...\n",
      "Start data cleaning...\n",
      "Start data cleaning...\n",
      "Start data cleaning...\n"
     ]
    }
   ],
   "source": [
    "res = []\n",
    "with Pool(min(cpu_count(), len(date_list))) as p:\n",
    "    r = p.starmap(fu.process_ofo_data_date_range_iceberg, zip(repeat(sql_template), date_list, repeat(super_region), repeat(service_slug), repeat(full_stag_table_name), repeat(clustering_fields)))\n",
    "    res.append(r)"
   ]
  },
  {
   "cell_type": "code",
   "execution_count": 3,
   "id": "b27ad018-562c-4f94-98b8-1275813173c9",
   "metadata": {
    "execution": {
     "iopub.execute_input": "2022-11-23T14:44:09.127147Z",
     "iopub.status.busy": "2022-11-23T14:44:09.126936Z",
     "iopub.status.idle": "2022-11-23T14:44:09.129611Z",
     "shell.execute_reply": "2022-11-23T14:44:09.129174Z",
     "shell.execute_reply.started": "2022-11-23T14:44:09.127127Z"
    },
    "tags": []
   },
   "outputs": [],
   "source": [
    "prod_dataset_name = 'brand_science'\n",
    "prod_table_name = 'pricing_ofo_scrape_data'\n",
    "full_prod_table_name = '.'.join([project_name, prod_dataset_name, prod_table_name])"
   ]
  },
  {
   "cell_type": "code",
   "execution_count": null,
   "id": "20079131-46e8-415b-aaf4-c6508c56420c",
   "metadata": {},
   "outputs": [],
   "source": [
    "import time\n",
    "time.sleep(60)"
   ]
  },
  {
   "cell_type": "code",
   "execution_count": 10,
   "id": "18eff102-a9f2-471a-9466-db54afb20719",
   "metadata": {
    "execution": {
     "iopub.execute_input": "2022-11-23T14:44:34.799133Z",
     "iopub.status.busy": "2022-11-23T14:44:34.798889Z",
     "iopub.status.idle": "2022-11-23T14:44:35.947757Z",
     "shell.execute_reply": "2022-11-23T14:44:35.947282Z",
     "shell.execute_reply.started": "2022-11-23T14:44:34.799109Z"
    },
    "tags": []
   },
   "outputs": [],
   "source": [
    "create_tbl = fu.create_tbl(full_stag_table_name, full_prod_table_name)"
   ]
  },
  {
   "cell_type": "code",
   "execution_count": 11,
   "id": "616ff124-538c-4a1d-8b7b-b66eb6b7099f",
   "metadata": {
    "execution": {
     "iopub.execute_input": "2022-11-23T14:44:42.133452Z",
     "iopub.status.busy": "2022-11-23T14:44:42.133246Z",
     "iopub.status.idle": "2022-11-23T14:45:05.215624Z",
     "shell.execute_reply": "2022-11-23T14:45:05.214960Z",
     "shell.execute_reply.started": "2022-11-23T14:44:42.133431Z"
    }
   },
   "outputs": [],
   "source": [
    "upsert_tbl = fu.upsert_tbl_ofo_scrape_data(full_stag_table_name, full_prod_table_name)"
   ]
  },
  {
   "cell_type": "code",
   "execution_count": null,
   "id": "68dc1067-6804-49ec-8e2e-99512e432603",
   "metadata": {},
   "outputs": [],
   "source": []
  }
 ],
 "metadata": {
  "kernelspec": {
   "display_name": "Python 3",
   "language": "python",
   "name": "python3"
  },
  "language_info": {
   "codemirror_mode": {
    "name": "ipython",
    "version": 3
   },
   "file_extension": ".py",
   "mimetype": "text/x-python",
   "name": "python",
   "nbconvert_exporter": "python",
   "pygments_lexer": "ipython3",
   "version": "3.8.13"
  }
 },
 "nbformat": 4,
 "nbformat_minor": 5
}
