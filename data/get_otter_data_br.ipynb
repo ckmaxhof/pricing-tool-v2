{
 "cells": [
  {
   "cell_type": "code",
   "execution_count": 1,
   "id": "fb6b38a9-42c9-4fc2-a86c-4ef129173d55",
   "metadata": {
    "execution": {
     "iopub.execute_input": "2023-02-24T15:21:39.758642Z",
     "iopub.status.busy": "2023-02-24T15:21:39.758322Z",
     "iopub.status.idle": "2023-02-24T15:21:39.765109Z",
     "shell.execute_reply": "2023-02-24T15:21:39.764351Z",
     "shell.execute_reply.started": "2023-02-24T15:21:39.758550Z"
    },
    "tags": []
   },
   "outputs": [],
   "source": [
    "import sys\n",
    "sys.path.append('/home/maximilian.hofmann/ff_utils/src')"
   ]
  },
  {
   "cell_type": "code",
   "execution_count": 2,
   "id": "e689fbd5-6d05-4e93-b2b0-86603bb523aa",
   "metadata": {
    "execution": {
     "iopub.execute_input": "2023-02-24T15:21:39.902306Z",
     "iopub.status.busy": "2023-02-24T15:21:39.901958Z",
     "iopub.status.idle": "2023-02-24T15:21:41.022423Z",
     "shell.execute_reply": "2023-02-24T15:21:41.021807Z",
     "shell.execute_reply.started": "2023-02-24T15:21:39.902273Z"
    },
    "tags": []
   },
   "outputs": [],
   "source": [
    "from importlib import reload\n",
    "from itertools import repeat\n",
    "from date_utils import partition_date_range\n",
    "import pandas as pd"
   ]
  },
  {
   "cell_type": "code",
   "execution_count": 3,
   "id": "8c3e9d1f-a33b-42cd-9537-92ae872ef53e",
   "metadata": {
    "execution": {
     "iopub.execute_input": "2023-02-24T15:21:41.023825Z",
     "iopub.status.busy": "2023-02-24T15:21:41.023645Z",
     "iopub.status.idle": "2023-02-24T15:21:45.457418Z",
     "shell.execute_reply": "2023-02-24T15:21:45.456830Z",
     "shell.execute_reply.started": "2023-02-24T15:21:41.023804Z"
    },
    "tags": []
   },
   "outputs": [
    {
     "name": "stderr",
     "output_type": "stream",
     "text": [
      "/app/infra/data/jupyterhub/images/singleuser_spark/main.binary.runfiles/vendor_python_geopandas/site-packages/geopandas/_compat.py:111: UserWarning: The Shapely GEOS version (3.8.0-CAPI-1.13.1 ) is incompatible with the GEOS version PyGEOS was compiled with (3.10.1-CAPI-1.16.0). Conversions between both will be slow.\n",
      "  warnings.warn(\n"
     ]
    },
    {
     "data": {
      "text/plain": [
       "<module 'functions' from '/home/maximilian.hofmann/tools/pricing-tool-v2/data/functions.py'>"
      ]
     },
     "execution_count": 3,
     "metadata": {},
     "output_type": "execute_result"
    }
   ],
   "source": [
    "import functions as fu\n",
    "reload(fu)"
   ]
  },
  {
   "cell_type": "code",
   "execution_count": 4,
   "id": "42184523-619b-46a9-847f-17d61e9f3b7b",
   "metadata": {
    "execution": {
     "iopub.execute_input": "2023-02-24T14:57:57.683036Z",
     "iopub.status.busy": "2023-02-24T14:57:57.682801Z",
     "iopub.status.idle": "2023-02-24T14:57:57.687875Z",
     "shell.execute_reply": "2023-02-24T14:57:57.687280Z",
     "shell.execute_reply.started": "2023-02-24T14:57:57.683008Z"
    },
    "tags": []
   },
   "outputs": [],
   "source": [
    "from multiprocessing.dummy import Pool\n",
    "from multiprocessing import cpu_count"
   ]
  },
  {
   "cell_type": "code",
   "execution_count": 5,
   "id": "fca336b5-ab99-4f5b-adb2-c6078e144e50",
   "metadata": {
    "execution": {
     "iopub.execute_input": "2023-02-24T14:57:57.689275Z",
     "iopub.status.busy": "2023-02-24T14:57:57.689088Z",
     "iopub.status.idle": "2023-02-24T14:57:57.719961Z",
     "shell.execute_reply": "2023-02-24T14:57:57.719270Z",
     "shell.execute_reply.started": "2023-02-24T14:57:57.689255Z"
    },
    "tags": []
   },
   "outputs": [],
   "source": [
    "with open('/home/maximilian.hofmann/tools/brand_science_pricing/data/queries/sql_otter_data.sql', 'r') as f:\n",
    "    sql_template = f.read()"
   ]
  },
  {
   "cell_type": "code",
   "execution_count": 6,
   "id": "426b027f-a648-44a5-9e51-257ab37d0583",
   "metadata": {
    "execution": {
     "iopub.execute_input": "2023-02-24T15:21:54.510588Z",
     "iopub.status.busy": "2023-02-24T15:21:54.510306Z",
     "iopub.status.idle": "2023-02-24T15:21:54.514279Z",
     "shell.execute_reply": "2023-02-24T15:21:54.513492Z",
     "shell.execute_reply.started": "2023-02-24T15:21:54.510558Z"
    },
    "tags": []
   },
   "outputs": [],
   "source": [
    "project_name = 'css-operations'\n",
    "stag_dataset_name = 'brand_science_stag'\n",
    "stag_table_name = 'pricing_otter_data_stag'\n",
    "full_stag_table_name = '.'.join([project_name, stag_dataset_name, stag_table_name])"
   ]
  },
  {
   "cell_type": "code",
   "execution_count": 7,
   "id": "30cc4469-e5f0-4927-acbb-a26dfd6b8a93",
   "metadata": {
    "execution": {
     "iopub.execute_input": "2023-02-24T14:57:57.746683Z",
     "iopub.status.busy": "2023-02-24T14:57:57.746408Z",
     "iopub.status.idle": "2023-02-24T14:57:57.781627Z",
     "shell.execute_reply": "2023-02-24T14:57:57.781062Z",
     "shell.execute_reply.started": "2023-02-24T14:57:57.746662Z"
    },
    "tags": []
   },
   "outputs": [],
   "source": [
    "begin_date = '2023-01-01'\n",
    "end_date = '2023-02-24'\n",
    "days_per_batch = 10"
   ]
  },
  {
   "cell_type": "code",
   "execution_count": 8,
   "id": "ee346bd9-0c74-4920-ad70-cd3c53895fdb",
   "metadata": {
    "execution": {
     "iopub.execute_input": "2023-02-24T14:57:57.782640Z",
     "iopub.status.busy": "2023-02-24T14:57:57.782494Z",
     "iopub.status.idle": "2023-02-24T14:57:57.812344Z",
     "shell.execute_reply": "2023-02-24T14:57:57.811766Z",
     "shell.execute_reply.started": "2023-02-24T14:57:57.782621Z"
    },
    "tags": []
   },
   "outputs": [
    {
     "data": {
      "text/plain": [
       "[['2022-12-26', '2023-01-04'],\n",
       " ['2023-01-05', '2023-01-14'],\n",
       " ['2023-01-15', '2023-01-24'],\n",
       " ['2023-01-25', '2023-02-03'],\n",
       " ['2023-02-04', '2023-02-13'],\n",
       " ['2023-02-14', '2023-02-20']]"
      ]
     },
     "execution_count": 8,
     "metadata": {},
     "output_type": "execute_result"
    }
   ],
   "source": [
    "date_list = partition_date_range(pd.to_datetime(begin_date), pd.to_datetime(end_date), days_per_batch)\n",
    "date_list"
   ]
  },
  {
   "cell_type": "code",
   "execution_count": 9,
   "id": "82fb435c-d583-4d64-b45e-a54a3e692a1d",
   "metadata": {
    "execution": {
     "iopub.execute_input": "2023-02-24T14:58:01.080424Z",
     "iopub.status.busy": "2023-02-24T14:58:01.080068Z",
     "iopub.status.idle": "2023-02-24T14:58:01.083682Z",
     "shell.execute_reply": "2023-02-24T14:58:01.083024Z",
     "shell.execute_reply.started": "2023-02-24T14:58:01.080392Z"
    },
    "tags": []
   },
   "outputs": [],
   "source": [
    "country_code = 'BR'\n",
    "clustering_fields = ['country_code']"
   ]
  },
  {
   "cell_type": "code",
   "execution_count": 10,
   "id": "fb389913-b770-4166-a931-415b9b7560f1",
   "metadata": {
    "execution": {
     "iopub.execute_input": "2023-02-24T14:58:01.431466Z",
     "iopub.status.busy": "2023-02-24T14:58:01.431215Z",
     "iopub.status.idle": "2023-02-24T14:58:01.436004Z",
     "shell.execute_reply": "2023-02-24T14:58:01.435311Z",
     "shell.execute_reply.started": "2023-02-24T14:58:01.431445Z"
    },
    "tags": []
   },
   "outputs": [
    {
     "data": {
      "text/plain": [
       "6"
      ]
     },
     "execution_count": 10,
     "metadata": {},
     "output_type": "execute_result"
    }
   ],
   "source": [
    "num_processes = min(cpu_count(), len(date_list))\n",
    "num_processes"
   ]
  },
  {
   "cell_type": "code",
   "execution_count": null,
   "id": "678a3dea-9b18-4f27-a2a2-d8400ebde74e",
   "metadata": {
    "execution": {
     "iopub.execute_input": "2023-02-24T14:58:02.666590Z",
     "iopub.status.busy": "2023-02-24T14:58:02.666282Z"
    },
    "tags": []
   },
   "outputs": [
    {
     "name": "stdout",
     "output_type": "stream",
     "text": [
      "Start data cleaning...\n",
      "Start data cleaning...\n",
      "Start data cleaning...\n",
      "Start data cleaning...\n",
      "Start data cleaning...\n",
      "Start data cleaning...\n",
      "Data cleaning finished!\n",
      "Job f86fa676-49c9-4b1a-ab1c-96c5f3bf5658 is currently in state RUNNING\n",
      "Data cleaning finished!\n",
      "Job ea00d6b9-05bc-4010-a641-cca97cbc779e is currently in state RUNNING\n",
      "Job ea00d6b9-05bc-4010-a641-cca97cbc779e is currently in state RUNNING\n",
      "Data cleaning finished!\n",
      "Data cleaning finished!\n",
      "Data cleaning finished!\n",
      "Job 01228171-a06c-4fff-9f4c-8dfe17ddde85 is currently in state RUNNING\n",
      "Job 468072de-dc1e-46e1-864e-8e3d78234f06 is currently in state RUNNING\n",
      "Job 01228171-a06c-4fff-9f4c-8dfe17ddde85 is currently in state RUNNING\n",
      "Job 468072de-dc1e-46e1-864e-8e3d78234f06 is currently in state RUNNING\n",
      "Data cleaning finished!\n",
      "Job 2a125831-a843-4dac-8991-33a26c28fd36 is currently in state RUNNING\n",
      "Job 2a125831-a843-4dac-8991-33a26c28fd36 is currently in state RUNNING\n"
     ]
    }
   ],
   "source": [
    "res = []\n",
    "with Pool(num_processes) as p:\n",
    "    r = p.starmap(fu.process_otter_data_date_range, zip(repeat(sql_template), date_list, repeat(country_code), repeat(full_stag_table_name), repeat(clustering_fields)))\n",
    "    res.append(r)"
   ]
  },
  {
   "cell_type": "code",
   "execution_count": 7,
   "id": "d4f6f69d-3f94-4062-bedd-b6912b44b5d3",
   "metadata": {
    "execution": {
     "iopub.execute_input": "2023-02-24T15:21:56.841067Z",
     "iopub.status.busy": "2023-02-24T15:21:56.840856Z",
     "iopub.status.idle": "2023-02-24T15:21:56.844181Z",
     "shell.execute_reply": "2023-02-24T15:21:56.843275Z",
     "shell.execute_reply.started": "2023-02-24T15:21:56.841046Z"
    },
    "tags": []
   },
   "outputs": [],
   "source": [
    "prod_dataset_name = 'brand_science'\n",
    "prod_table_name = 'pricing_otter_data'\n",
    "full_prod_table_name = '.'.join([project_name, prod_dataset_name, prod_table_name])"
   ]
  },
  {
   "cell_type": "code",
   "execution_count": 8,
   "id": "30214c41-9237-480c-b0a1-d7004ee89ca5",
   "metadata": {
    "execution": {
     "iopub.execute_input": "2023-02-24T15:21:57.339570Z",
     "iopub.status.busy": "2023-02-24T15:21:57.339231Z",
     "iopub.status.idle": "2023-02-24T15:21:59.310915Z",
     "shell.execute_reply": "2023-02-24T15:21:59.309948Z",
     "shell.execute_reply.started": "2023-02-24T15:21:57.339536Z"
    },
    "tags": []
   },
   "outputs": [
    {
     "ename": "KeyboardInterrupt",
     "evalue": "",
     "output_type": "error",
     "traceback": [
      "\u001b[0;31m---------------------------------------------------------------------------\u001b[0m",
      "\u001b[0;31mKeyboardInterrupt\u001b[0m                         Traceback (most recent call last)",
      "\u001b[0;32m<ipython-input-8-9a9091d85c47>\u001b[0m in \u001b[0;36m<module>\u001b[0;34m\u001b[0m\n\u001b[1;32m      1\u001b[0m \u001b[0;32mimport\u001b[0m \u001b[0mtime\u001b[0m\u001b[0;34m\u001b[0m\u001b[0;34m\u001b[0m\u001b[0m\n\u001b[0;32m----> 2\u001b[0;31m \u001b[0mtime\u001b[0m\u001b[0;34m.\u001b[0m\u001b[0msleep\u001b[0m\u001b[0;34m(\u001b[0m\u001b[0;36m60\u001b[0m\u001b[0;34m)\u001b[0m\u001b[0;34m\u001b[0m\u001b[0;34m\u001b[0m\u001b[0m\n\u001b[0m",
      "\u001b[0;31mKeyboardInterrupt\u001b[0m: "
     ]
    }
   ],
   "source": [
    "import time\n",
    "time.sleep(60)"
   ]
  },
  {
   "cell_type": "code",
   "execution_count": 9,
   "id": "86dd5061-817c-4d8f-af14-03f779481a45",
   "metadata": {
    "execution": {
     "iopub.execute_input": "2023-02-24T15:22:00.694447Z",
     "iopub.status.busy": "2023-02-24T15:22:00.694162Z",
     "iopub.status.idle": "2023-02-24T15:22:01.649112Z",
     "shell.execute_reply": "2023-02-24T15:22:01.648089Z",
     "shell.execute_reply.started": "2023-02-24T15:22:00.694420Z"
    },
    "tags": []
   },
   "outputs": [],
   "source": [
    "create_tbl = fu.create_tbl(full_stag_table_name, full_prod_table_name)"
   ]
  },
  {
   "cell_type": "code",
   "execution_count": 10,
   "id": "37eb9a34-acea-44fe-9f6c-f42ae650051d",
   "metadata": {
    "execution": {
     "iopub.execute_input": "2023-02-24T15:22:03.208813Z",
     "iopub.status.busy": "2023-02-24T15:22:03.208583Z",
     "iopub.status.idle": "2023-02-24T15:22:15.090584Z",
     "shell.execute_reply": "2023-02-24T15:22:15.089861Z",
     "shell.execute_reply.started": "2023-02-24T15:22:03.208789Z"
    },
    "tags": []
   },
   "outputs": [],
   "source": [
    "upsert_tbl = fu.upsert_tbl_otter_data(full_stag_table_name, full_prod_table_name)"
   ]
  },
  {
   "cell_type": "code",
   "execution_count": null,
   "id": "e4a0eafc-f55c-4270-b86e-301cffc4d4d9",
   "metadata": {},
   "outputs": [],
   "source": []
  },
  {
   "cell_type": "code",
   "execution_count": null,
   "id": "7ed48f09-898b-4eba-863b-86db217e0ff5",
   "metadata": {},
   "outputs": [],
   "source": []
  }
 ],
 "metadata": {
  "kernelspec": {
   "display_name": "Python 3",
   "language": "python",
   "name": "python3"
  },
  "language_info": {
   "codemirror_mode": {
    "name": "ipython",
    "version": 3
   },
   "file_extension": ".py",
   "mimetype": "text/x-python",
   "name": "python",
   "nbconvert_exporter": "python",
   "pygments_lexer": "ipython3",
   "version": "3.8.13"
  }
 },
 "nbformat": 4,
 "nbformat_minor": 5
}
