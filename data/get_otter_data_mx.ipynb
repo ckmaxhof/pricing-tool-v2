{
 "cells": [
  {
   "cell_type": "code",
   "execution_count": 16,
   "id": "a1472490-b5dc-482c-8e19-ab4cd7960234",
   "metadata": {
    "execution": {
     "iopub.execute_input": "2023-02-24T16:03:41.758149Z",
     "iopub.status.busy": "2023-02-24T16:03:41.757704Z",
     "iopub.status.idle": "2023-02-24T16:03:41.762186Z",
     "shell.execute_reply": "2023-02-24T16:03:41.761329Z",
     "shell.execute_reply.started": "2023-02-24T16:03:41.758112Z"
    },
    "tags": []
   },
   "outputs": [],
   "source": [
    "import sys\n",
    "sys.path.append('/home/maximilian.hofmann/ff_utils/src')"
   ]
  },
  {
   "cell_type": "code",
   "execution_count": 6,
   "id": "fb6b38a9-42c9-4fc2-a86c-4ef129173d55",
   "metadata": {
    "execution": {
     "iopub.execute_input": "2023-02-24T15:23:33.915971Z",
     "iopub.status.busy": "2023-02-24T15:23:33.915753Z",
     "iopub.status.idle": "2023-02-24T15:23:35.037619Z",
     "shell.execute_reply": "2023-02-24T15:23:35.037050Z",
     "shell.execute_reply.started": "2023-02-24T15:23:33.915938Z"
    },
    "tags": []
   },
   "outputs": [],
   "source": [
    "from importlib import reload\n",
    "from itertools import repeat\n",
    "from date_utils import partition_date_range\n",
    "import pandas as pd"
   ]
  },
  {
   "cell_type": "code",
   "execution_count": 7,
   "id": "8c3e9d1f-a33b-42cd-9537-92ae872ef53e",
   "metadata": {
    "execution": {
     "iopub.execute_input": "2023-02-24T15:23:35.038972Z",
     "iopub.status.busy": "2023-02-24T15:23:35.038762Z",
     "iopub.status.idle": "2023-02-24T15:23:39.384291Z",
     "shell.execute_reply": "2023-02-24T15:23:39.383522Z",
     "shell.execute_reply.started": "2023-02-24T15:23:35.038952Z"
    },
    "tags": []
   },
   "outputs": [
    {
     "name": "stderr",
     "output_type": "stream",
     "text": [
      "/app/infra/data/jupyterhub/images/singleuser_spark/main.binary.runfiles/vendor_python_geopandas/site-packages/geopandas/_compat.py:111: UserWarning: The Shapely GEOS version (3.8.0-CAPI-1.13.1 ) is incompatible with the GEOS version PyGEOS was compiled with (3.10.1-CAPI-1.16.0). Conversions between both will be slow.\n",
      "  warnings.warn(\n"
     ]
    },
    {
     "data": {
      "text/plain": [
       "<module 'functions' from '/home/maximilian.hofmann/tools/pricing-tool-v2/data/functions.py'>"
      ]
     },
     "execution_count": 7,
     "metadata": {},
     "output_type": "execute_result"
    }
   ],
   "source": [
    "import functions as fu\n",
    "reload(fu)"
   ]
  },
  {
   "cell_type": "code",
   "execution_count": 8,
   "id": "42184523-619b-46a9-847f-17d61e9f3b7b",
   "metadata": {
    "execution": {
     "iopub.execute_input": "2023-02-24T15:23:39.386125Z",
     "iopub.status.busy": "2023-02-24T15:23:39.385844Z",
     "iopub.status.idle": "2023-02-24T15:23:39.389365Z",
     "shell.execute_reply": "2023-02-24T15:23:39.388707Z",
     "shell.execute_reply.started": "2023-02-24T15:23:39.386093Z"
    },
    "tags": []
   },
   "outputs": [],
   "source": [
    "from multiprocessing.dummy import Pool\n",
    "from multiprocessing import cpu_count"
   ]
  },
  {
   "cell_type": "code",
   "execution_count": 9,
   "id": "fca336b5-ab99-4f5b-adb2-c6078e144e50",
   "metadata": {
    "execution": {
     "iopub.execute_input": "2023-02-24T15:23:39.390552Z",
     "iopub.status.busy": "2023-02-24T15:23:39.390400Z",
     "iopub.status.idle": "2023-02-24T15:23:39.423634Z",
     "shell.execute_reply": "2023-02-24T15:23:39.422984Z",
     "shell.execute_reply.started": "2023-02-24T15:23:39.390533Z"
    },
    "tags": []
   },
   "outputs": [],
   "source": [
    "with open('/home/maximilian.hofmann/tools/brand_science_pricing/data/queries/sql_otter_data.sql', 'r') as f:\n",
    "    sql_template = f.read()"
   ]
  },
  {
   "cell_type": "code",
   "execution_count": 10,
   "id": "426b027f-a648-44a5-9e51-257ab37d0583",
   "metadata": {
    "execution": {
     "iopub.execute_input": "2023-02-24T15:23:40.287110Z",
     "iopub.status.busy": "2023-02-24T15:23:40.286869Z",
     "iopub.status.idle": "2023-02-24T15:23:40.290059Z",
     "shell.execute_reply": "2023-02-24T15:23:40.289553Z",
     "shell.execute_reply.started": "2023-02-24T15:23:40.287081Z"
    },
    "tags": []
   },
   "outputs": [],
   "source": [
    "project_name = 'css-operations'\n",
    "stag_dataset_name = 'brand_science_stag'\n",
    "stag_table_name = 'pricing_otter_data_stag'\n",
    "full_stag_table_name = '.'.join([project_name, stag_dataset_name, stag_table_name])"
   ]
  },
  {
   "cell_type": "code",
   "execution_count": 11,
   "id": "30cc4469-e5f0-4927-acbb-a26dfd6b8a93",
   "metadata": {
    "execution": {
     "iopub.execute_input": "2023-02-24T15:23:40.846837Z",
     "iopub.status.busy": "2023-02-24T15:23:40.846639Z",
     "iopub.status.idle": "2023-02-24T15:23:40.849511Z",
     "shell.execute_reply": "2023-02-24T15:23:40.848963Z",
     "shell.execute_reply.started": "2023-02-24T15:23:40.846816Z"
    },
    "tags": []
   },
   "outputs": [],
   "source": [
    "begin_date = '2023-01-01'\n",
    "end_date = '2023-02-24'\n",
    "days_per_batch = 10"
   ]
  },
  {
   "cell_type": "code",
   "execution_count": 12,
   "id": "ee346bd9-0c74-4920-ad70-cd3c53895fdb",
   "metadata": {
    "execution": {
     "iopub.execute_input": "2023-02-24T15:23:41.360595Z",
     "iopub.status.busy": "2023-02-24T15:23:41.360151Z",
     "iopub.status.idle": "2023-02-24T15:23:41.366736Z",
     "shell.execute_reply": "2023-02-24T15:23:41.366115Z",
     "shell.execute_reply.started": "2023-02-24T15:23:41.360553Z"
    },
    "tags": []
   },
   "outputs": [
    {
     "data": {
      "text/plain": [
       "[['2022-12-26', '2023-01-04'],\n",
       " ['2023-01-05', '2023-01-14'],\n",
       " ['2023-01-15', '2023-01-24'],\n",
       " ['2023-01-25', '2023-02-03'],\n",
       " ['2023-02-04', '2023-02-13'],\n",
       " ['2023-02-14', '2023-02-20']]"
      ]
     },
     "execution_count": 12,
     "metadata": {},
     "output_type": "execute_result"
    }
   ],
   "source": [
    "date_list = partition_date_range(pd.to_datetime(begin_date), pd.to_datetime(end_date), days_per_batch)\n",
    "date_list"
   ]
  },
  {
   "cell_type": "code",
   "execution_count": 13,
   "id": "82fb435c-d583-4d64-b45e-a54a3e692a1d",
   "metadata": {
    "execution": {
     "iopub.execute_input": "2023-02-24T15:23:44.471555Z",
     "iopub.status.busy": "2023-02-24T15:23:44.471230Z",
     "iopub.status.idle": "2023-02-24T15:23:44.474603Z",
     "shell.execute_reply": "2023-02-24T15:23:44.473976Z",
     "shell.execute_reply.started": "2023-02-24T15:23:44.471514Z"
    },
    "tags": []
   },
   "outputs": [],
   "source": [
    "country_code = 'MX'\n",
    "clustering_fields = ['country_code']"
   ]
  },
  {
   "cell_type": "code",
   "execution_count": 14,
   "id": "7c479d32-07c6-41e2-8d28-4f6e9c8dfd1e",
   "metadata": {
    "execution": {
     "iopub.execute_input": "2023-02-24T15:23:44.981661Z",
     "iopub.status.busy": "2023-02-24T15:23:44.981446Z",
     "iopub.status.idle": "2023-02-24T15:23:44.985071Z",
     "shell.execute_reply": "2023-02-24T15:23:44.984608Z",
     "shell.execute_reply.started": "2023-02-24T15:23:44.981638Z"
    }
   },
   "outputs": [
    {
     "data": {
      "text/plain": [
       "6"
      ]
     },
     "execution_count": 14,
     "metadata": {},
     "output_type": "execute_result"
    }
   ],
   "source": [
    "num_processes = min(cpu_count(), len(date_list))\n",
    "num_processes"
   ]
  },
  {
   "cell_type": "code",
   "execution_count": null,
   "id": "678a3dea-9b18-4f27-a2a2-d8400ebde74e",
   "metadata": {
    "execution": {
     "iopub.execute_input": "2023-02-24T15:23:50.986028Z",
     "iopub.status.busy": "2023-02-24T15:23:50.985767Z"
    },
    "tags": []
   },
   "outputs": [
    {
     "name": "stdout",
     "output_type": "stream",
     "text": [
      "Start data cleaning...\n",
      "Start data cleaning...\n",
      "Data cleaning finished!\n",
      "Job 54287173-90ad-41c4-b313-75229e6e7f4b is currently in state RUNNING\n",
      "Job 54287173-90ad-41c4-b313-75229e6e7f4b is currently in state RUNNING\n",
      "Data cleaning finished!\n",
      "Start data cleaning...\n",
      "Job 4699df53-9e30-4439-9221-1c3f23f777fb is currently in state RUNNING\n",
      "Job 4699df53-9e30-4439-9221-1c3f23f777fb is currently in state RUNNING\n",
      "Data cleaning finished!\n",
      "Job d82b8a8e-fb58-44b4-a54b-3d1ff1e29166 is currently in state RUNNING\n",
      "Start data cleaning...\n",
      "Start data cleaning...\n",
      "Start data cleaning...\n",
      "Data cleaning finished!\n",
      "Job a3cfe63d-90b7-44c5-a5e9-4535f27e607a is currently in state RUNNING\n",
      "Data cleaning finished!\n"
     ]
    }
   ],
   "source": [
    "res = []\n",
    "with Pool(num_processes) as p:\n",
    "    r = p.starmap(fu.process_otter_data_date_range, zip(repeat(sql_template), date_list, repeat(country_code), repeat(full_stag_table_name), repeat(clustering_fields)))\n",
    "    res.append(r)"
   ]
  },
  {
   "cell_type": "code",
   "execution_count": 17,
   "id": "d4f6f69d-3f94-4062-bedd-b6912b44b5d3",
   "metadata": {
    "execution": {
     "iopub.execute_input": "2023-02-24T16:03:44.633325Z",
     "iopub.status.busy": "2023-02-24T16:03:44.632957Z",
     "iopub.status.idle": "2023-02-24T16:03:44.638265Z",
     "shell.execute_reply": "2023-02-24T16:03:44.637037Z",
     "shell.execute_reply.started": "2023-02-24T16:03:44.633284Z"
    },
    "tags": []
   },
   "outputs": [],
   "source": [
    "prod_dataset_name = 'brand_science'\n",
    "prod_table_name = 'pricing_otter_data'\n",
    "full_prod_table_name = '.'.join([project_name, prod_dataset_name, prod_table_name])"
   ]
  },
  {
   "cell_type": "code",
   "execution_count": 18,
   "id": "86dd5061-817c-4d8f-af14-03f779481a45",
   "metadata": {
    "execution": {
     "iopub.execute_input": "2023-02-24T16:03:45.585459Z",
     "iopub.status.busy": "2023-02-24T16:03:45.585150Z",
     "iopub.status.idle": "2023-02-24T16:03:46.569957Z",
     "shell.execute_reply": "2023-02-24T16:03:46.569233Z",
     "shell.execute_reply.started": "2023-02-24T16:03:45.585434Z"
    },
    "tags": []
   },
   "outputs": [],
   "source": [
    "create_tbl = fu.create_tbl(full_stag_table_name, full_prod_table_name)"
   ]
  },
  {
   "cell_type": "code",
   "execution_count": 19,
   "id": "37eb9a34-acea-44fe-9f6c-f42ae650051d",
   "metadata": {
    "execution": {
     "iopub.execute_input": "2023-02-24T16:03:47.526630Z",
     "iopub.status.busy": "2023-02-24T16:03:47.526279Z",
     "iopub.status.idle": "2023-02-24T16:03:59.820089Z",
     "shell.execute_reply": "2023-02-24T16:03:59.819176Z",
     "shell.execute_reply.started": "2023-02-24T16:03:47.526598Z"
    },
    "tags": []
   },
   "outputs": [],
   "source": [
    "upsert_tbl = fu.upsert_tbl_otter_data(full_stag_table_name, full_prod_table_name)"
   ]
  },
  {
   "cell_type": "code",
   "execution_count": null,
   "id": "e4a0eafc-f55c-4270-b86e-301cffc4d4d9",
   "metadata": {},
   "outputs": [],
   "source": []
  }
 ],
 "metadata": {
  "kernelspec": {
   "display_name": "Python 3",
   "language": "python",
   "name": "python3"
  },
  "language_info": {
   "codemirror_mode": {
    "name": "ipython",
    "version": 3
   },
   "file_extension": ".py",
   "mimetype": "text/x-python",
   "name": "python",
   "nbconvert_exporter": "python",
   "pygments_lexer": "ipython3",
   "version": "3.8.13"
  }
 },
 "nbformat": 4,
 "nbformat_minor": 5
}
