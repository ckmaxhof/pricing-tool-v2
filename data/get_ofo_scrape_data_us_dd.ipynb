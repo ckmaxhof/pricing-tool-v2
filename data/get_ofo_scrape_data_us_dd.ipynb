{
 "cells": [
  {
   "cell_type": "code",
   "execution_count": 1,
   "id": "2ea8f9b5-248f-491d-aac3-6c2847bea68b",
   "metadata": {
    "execution": {
     "iopub.execute_input": "2022-10-11T15:23:04.785768Z",
     "iopub.status.busy": "2022-10-11T15:23:04.785516Z",
     "iopub.status.idle": "2022-10-11T15:23:04.793084Z",
     "shell.execute_reply": "2022-10-11T15:23:04.792394Z",
     "shell.execute_reply.started": "2022-10-11T15:23:04.785699Z"
    },
    "tags": []
   },
   "outputs": [],
   "source": [
    "collections = ['MARKET_INTEL_COLLECTION_US', 'MARKET_INTEL_COLLECTION_EMEA', 'MARKET_INTEL_COLLECTION_LATAM', 'MARKET_INTEL_COLLECTION_APAC']\n",
    "collection = 'MARKET_INTEL_COLLECTION_US'"
   ]
  },
  {
   "cell_type": "code",
   "execution_count": 2,
   "id": "88b1e437-7087-448e-9ec1-2adeb2719e9c",
   "metadata": {
    "execution": {
     "iopub.execute_input": "2022-10-11T15:23:05.687752Z",
     "iopub.status.busy": "2022-10-11T15:23:05.687518Z",
     "iopub.status.idle": "2022-10-11T15:23:05.690620Z",
     "shell.execute_reply": "2022-10-11T15:23:05.690066Z",
     "shell.execute_reply.started": "2022-10-11T15:23:05.687725Z"
    },
    "tags": []
   },
   "outputs": [],
   "source": [
    "service_slugs = ['ubereats-marketintel', 'grubhub-marketintel', 'glovo-marketintel','doordash-marketintel','yelp-marketintel']\n",
    "service_slug = 'doordash-marketintel'"
   ]
  },
  {
   "cell_type": "code",
   "execution_count": 3,
   "id": "7009f5f6-4af7-4542-8ae6-c6be12b627b7",
   "metadata": {
    "execution": {
     "iopub.execute_input": "2022-10-11T15:23:06.510525Z",
     "iopub.status.busy": "2022-10-11T15:23:06.510276Z",
     "iopub.status.idle": "2022-10-11T15:23:06.513965Z",
     "shell.execute_reply": "2022-10-11T15:23:06.513306Z",
     "shell.execute_reply.started": "2022-10-11T15:23:06.510497Z"
    },
    "tags": []
   },
   "outputs": [],
   "source": [
    "begin_date = '2022-06-01'\n",
    "end_date = '2022-11-03'\n",
    "days_per_batch = 15"
   ]
  },
  {
   "cell_type": "code",
   "execution_count": 1,
   "id": "13c2c0c8-113e-4654-bdf8-b0bd949420c8",
   "metadata": {
    "execution": {
     "iopub.execute_input": "2022-11-03T13:39:05.619470Z",
     "iopub.status.busy": "2022-11-03T13:39:05.619200Z",
     "iopub.status.idle": "2022-11-03T13:39:05.626252Z",
     "shell.execute_reply": "2022-11-03T13:39:05.625499Z",
     "shell.execute_reply.started": "2022-11-03T13:39:05.619401Z"
    }
   },
   "outputs": [],
   "source": [
    "import sys\n",
    "sys.path.append('/home/maximilian.hofmann/ff_utils/src/')"
   ]
  },
  {
   "cell_type": "code",
   "execution_count": 2,
   "id": "9d0526f4-356b-4ea6-abc0-5cf85ff3151f",
   "metadata": {
    "execution": {
     "iopub.execute_input": "2022-11-03T13:39:06.221344Z",
     "iopub.status.busy": "2022-11-03T13:39:06.221118Z",
     "iopub.status.idle": "2022-11-03T13:39:07.249969Z",
     "shell.execute_reply": "2022-11-03T13:39:07.249455Z",
     "shell.execute_reply.started": "2022-11-03T13:39:06.221319Z"
    },
    "tags": []
   },
   "outputs": [],
   "source": [
    "from importlib import reload\n",
    "from itertools import repeat\n",
    "from date_utils import partition_date_range\n",
    "import pandas as pd"
   ]
  },
  {
   "cell_type": "code",
   "execution_count": 5,
   "id": "fd3aeab3-c99d-43cc-843d-4bc8a2b4d6a9",
   "metadata": {
    "execution": {
     "iopub.execute_input": "2022-10-11T15:23:09.269881Z",
     "iopub.status.busy": "2022-10-11T15:23:09.269736Z",
     "iopub.status.idle": "2022-10-11T15:23:12.112559Z",
     "shell.execute_reply": "2022-10-11T15:23:12.112111Z",
     "shell.execute_reply.started": "2022-10-11T15:23:09.269863Z"
    },
    "tags": []
   },
   "outputs": [
    {
     "name": "stderr",
     "output_type": "stream",
     "text": [
      "/app/infra/data/jupyterhub/images/singleuser_spark/main.binary.runfiles/vendor_python_geopandas/geopandas/_compat.py:111: UserWarning: The Shapely GEOS version (3.8.0-CAPI-1.13.1 ) is incompatible with the GEOS version PyGEOS was compiled with (3.10.1-CAPI-1.16.0). Conversions between both will be slow.\n",
      "  warnings.warn(\n"
     ]
    },
    {
     "data": {
      "text/plain": [
       "<module 'functions' from '/home/maximilian.hofmann/tools/brand_science_pricing/data/functions.py'>"
      ]
     },
     "execution_count": 5,
     "metadata": {},
     "output_type": "execute_result"
    }
   ],
   "source": [
    "import functions as fu\n",
    "reload(fu)"
   ]
  },
  {
   "cell_type": "code",
   "execution_count": 20,
   "id": "3dd6e8d7-ddf0-451b-b533-10235fa929f6",
   "metadata": {
    "execution": {
     "iopub.execute_input": "2022-10-11T15:41:04.558255Z",
     "iopub.status.busy": "2022-10-11T15:41:04.558020Z",
     "iopub.status.idle": "2022-10-11T15:41:04.561229Z",
     "shell.execute_reply": "2022-10-11T15:41:04.560452Z",
     "shell.execute_reply.started": "2022-10-11T15:41:04.558230Z"
    },
    "tags": []
   },
   "outputs": [],
   "source": [
    "from multiprocessing.dummy import Pool\n",
    "from multiprocessing import cpu_count"
   ]
  },
  {
   "cell_type": "code",
   "execution_count": 7,
   "id": "bfd622f1-4190-4d46-a7f3-ab9d20341cd3",
   "metadata": {
    "execution": {
     "iopub.execute_input": "2022-10-11T15:23:17.516825Z",
     "iopub.status.busy": "2022-10-11T15:23:17.516590Z",
     "iopub.status.idle": "2022-10-11T15:23:17.520708Z",
     "shell.execute_reply": "2022-10-11T15:23:17.520218Z",
     "shell.execute_reply.started": "2022-10-11T15:23:17.516800Z"
    },
    "tags": []
   },
   "outputs": [],
   "source": [
    "with open('/home/maximilian.hofmann/tools/brand_science_pricing/data/queries/sql_ofo_scrape_data_new.sql', 'r') as f:\n",
    "    sql_template = f.read()"
   ]
  },
  {
   "cell_type": "code",
   "execution_count": 8,
   "id": "433d7ae6-9957-49e4-9d8b-22c67f652198",
   "metadata": {
    "execution": {
     "iopub.execute_input": "2022-10-11T15:23:19.499357Z",
     "iopub.status.busy": "2022-10-11T15:23:19.499140Z",
     "iopub.status.idle": "2022-10-11T15:23:19.502168Z",
     "shell.execute_reply": "2022-10-11T15:23:19.501715Z",
     "shell.execute_reply.started": "2022-10-11T15:23:19.499336Z"
    },
    "tags": []
   },
   "outputs": [],
   "source": [
    "config."
   ]
  },
  {
   "cell_type": "code",
   "execution_count": 9,
   "id": "db20928a-c20f-4165-8947-7c79a4993efd",
   "metadata": {
    "execution": {
     "iopub.execute_input": "2022-10-11T15:23:20.576350Z",
     "iopub.status.busy": "2022-10-11T15:23:20.576127Z",
     "iopub.status.idle": "2022-10-11T15:23:20.582187Z",
     "shell.execute_reply": "2022-10-11T15:23:20.581404Z",
     "shell.execute_reply.started": "2022-10-11T15:23:20.576327Z"
    },
    "tags": []
   },
   "outputs": [
    {
     "data": {
      "text/plain": [
       "[['2022-06-01', '2022-06-15'],\n",
       " ['2022-06-16', '2022-06-30'],\n",
       " ['2022-07-01', '2022-07-15'],\n",
       " ['2022-07-16', '2022-07-30'],\n",
       " ['2022-07-31', '2022-08-14'],\n",
       " ['2022-08-15', '2022-08-29'],\n",
       " ['2022-08-30', '2022-09-13'],\n",
       " ['2022-09-14', '2022-09-28'],\n",
       " ['2022-09-29', '2022-09-30']]"
      ]
     },
     "execution_count": 9,
     "metadata": {},
     "output_type": "execute_result"
    }
   ],
   "source": [
    "date_list = partition_date_range(pd.to_datetime(begin_date), pd.to_datetime(end_date), days_per_batch)"
   ]
  },
  {
   "cell_type": "code",
   "execution_count": 10,
   "id": "75bafa2d-f7c1-465f-a80d-5c747496a9a0",
   "metadata": {
    "execution": {
     "iopub.execute_input": "2022-10-11T15:23:29.011706Z",
     "iopub.status.busy": "2022-10-11T15:23:29.011482Z",
     "iopub.status.idle": "2022-10-11T15:23:29.014305Z",
     "shell.execute_reply": "2022-10-11T15:23:29.013837Z",
     "shell.execute_reply.started": "2022-10-11T15:23:29.011685Z"
    },
    "tags": []
   },
   "outputs": [],
   "source": [
    "clustering_fields=['country_code','month']"
   ]
  },
  {
   "cell_type": "code",
   "execution_count": 15,
   "id": "2361ffff-9939-4f9b-8b0c-0747570640b1",
   "metadata": {
    "execution": {
     "iopub.execute_input": "2022-10-11T15:26:18.544758Z",
     "iopub.status.busy": "2022-10-11T15:26:18.544517Z",
     "iopub.status.idle": "2022-10-11T15:26:23.197884Z",
     "shell.execute_reply": "2022-10-11T15:26:23.197226Z",
     "shell.execute_reply.started": "2022-10-11T15:26:18.544733Z"
    },
    "tags": []
   },
   "outputs": [
    {
     "name": "stdout",
     "output_type": "stream",
     "text": [
      "Start data cleaning...\n",
      "Start data cleaning...\n",
      "Start data cleaning...\n",
      "Data cleaning finished!Data cleaning finished!\n",
      "Start data cleaning...\n",
      "\n",
      "Data cleaning finished!Data cleaning finished!Start data cleaning...\n",
      "\n",
      "\n",
      "Data cleaning finished!\n"
     ]
    }
   ],
   "source": [
    "res = []\n",
    "with Pool(min(cpu_count(), len(date_list))) as p:\n",
    "    r = p.starmap(fu.process_ofo_data_date_range, zip(repeat(sql_template), date_list, repeat(collection), repeat(service_slug), repeat(full_stag_table_name), repeat(clustering_fields)))\n",
    "    res.append(r)"
   ]
  },
  {
   "cell_type": "code",
   "execution_count": 16,
   "id": "f2f7307b-af30-42d1-8e59-fb1ca780af5c",
   "metadata": {
    "execution": {
     "iopub.execute_input": "2022-10-11T15:26:24.192881Z",
     "iopub.status.busy": "2022-10-11T15:26:24.192639Z",
     "iopub.status.idle": "2022-10-11T15:26:24.196025Z",
     "shell.execute_reply": "2022-10-11T15:26:24.195286Z",
     "shell.execute_reply.started": "2022-10-11T15:26:24.192857Z"
    },
    "tags": []
   },
   "outputs": [],
   "source": [
    "prod_dataset_name = 'brand_science'\n",
    "prod_table_name = 'pricing_ofo_scrape_data'\n",
    "full_prod_table_name = '.'.join([project_name, prod_dataset_name, prod_table_name])"
   ]
  },
  {
   "cell_type": "code",
   "execution_count": 17,
   "id": "5254b6c5-2ccb-49d5-9855-ef7137e6365c",
   "metadata": {
    "execution": {
     "iopub.execute_input": "2022-10-11T15:26:24.729943Z",
     "iopub.status.busy": "2022-10-11T15:26:24.729730Z",
     "iopub.status.idle": "2022-10-11T15:26:25.916974Z",
     "shell.execute_reply": "2022-10-11T15:26:25.916389Z",
     "shell.execute_reply.started": "2022-10-11T15:26:24.729923Z"
    },
    "tags": []
   },
   "outputs": [],
   "source": [
    "create_tbl = fu.create_tbl(full_stag_table_name, full_prod_table_name)"
   ]
  },
  {
   "cell_type": "code",
   "execution_count": 18,
   "id": "7cb04b27-f159-4d45-8830-56934ff74eb2",
   "metadata": {
    "execution": {
     "iopub.execute_input": "2022-10-11T15:26:25.918125Z",
     "iopub.status.busy": "2022-10-11T15:26:25.917969Z",
     "iopub.status.idle": "2022-10-11T15:26:28.608779Z",
     "shell.execute_reply": "2022-10-11T15:26:28.608123Z",
     "shell.execute_reply.started": "2022-10-11T15:26:25.918106Z"
    },
    "tags": []
   },
   "outputs": [],
   "source": [
    "upsert_tbl = fu.upsert_tbl_ofo_scrape_data(full_stag_table_name, full_prod_table_name)"
   ]
  }
 ],
 "metadata": {
  "kernelspec": {
   "display_name": "Python 3",
   "language": "python",
   "name": "python3"
  },
  "language_info": {
   "codemirror_mode": {
    "name": "ipython",
    "version": 3
   },
   "file_extension": ".py",
   "mimetype": "text/x-python",
   "name": "python",
   "nbconvert_exporter": "python",
   "pygments_lexer": "ipython3",
   "version": "3.8.13"
  }
 },
 "nbformat": 4,
 "nbformat_minor": 5
}
