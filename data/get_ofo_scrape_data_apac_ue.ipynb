{
 "cells": [
  {
   "cell_type": "code",
   "execution_count": 1,
   "id": "2ea8f9b5-248f-491d-aac3-6c2847bea68b",
   "metadata": {
    "execution": {
     "iopub.execute_input": "2022-10-11T15:36:32.512685Z",
     "iopub.status.busy": "2022-10-11T15:36:32.512396Z",
     "iopub.status.idle": "2022-10-11T15:36:32.519405Z",
     "shell.execute_reply": "2022-10-11T15:36:32.518898Z",
     "shell.execute_reply.started": "2022-10-11T15:36:32.512605Z"
    },
    "tags": []
   },
   "outputs": [],
   "source": [
    "collections = ['MARKET_INTEL_COLLECTION_US', 'MARKET_INTEL_COLLECTION_EMEA', 'MARKET_INTEL_COLLECTION_LATAM', 'MARKET_INTEL_COLLECTION_APAC']\n",
    "collection = 'MARKET_INTEL_COLLECTION_APAC'"
   ]
  },
  {
   "cell_type": "code",
   "execution_count": 2,
   "id": "88b1e437-7087-448e-9ec1-2adeb2719e9c",
   "metadata": {
    "execution": {
     "iopub.execute_input": "2022-10-11T15:36:32.689527Z",
     "iopub.status.busy": "2022-10-11T15:36:32.689229Z",
     "iopub.status.idle": "2022-10-11T15:36:32.692676Z",
     "shell.execute_reply": "2022-10-11T15:36:32.692108Z",
     "shell.execute_reply.started": "2022-10-11T15:36:32.689494Z"
    },
    "tags": []
   },
   "outputs": [],
   "source": [
    "service_slugs = ['ubereats-marketintel', 'grubhub-marketintel', 'glovo-marketintel','doordash-marketintel','yelp-marketintel']\n",
    "service_slug = 'ubereats-marketintel'"
   ]
  },
  {
   "cell_type": "code",
   "execution_count": 3,
   "id": "7009f5f6-4af7-4542-8ae6-c6be12b627b7",
   "metadata": {
    "execution": {
     "iopub.execute_input": "2022-10-11T15:36:32.877885Z",
     "iopub.status.busy": "2022-10-11T15:36:32.877170Z",
     "iopub.status.idle": "2022-10-11T15:36:32.880846Z",
     "shell.execute_reply": "2022-10-11T15:36:32.880349Z",
     "shell.execute_reply.started": "2022-10-11T15:36:32.877840Z"
    },
    "tags": []
   },
   "outputs": [],
   "source": [
    "begin_date = '2022-06-01'\n",
    "end_date = '2022-09-30'\n",
    "days_per_batch = 10"
   ]
  },
  {
   "cell_type": "code",
   "execution_count": 4,
   "id": "9d0526f4-356b-4ea6-abc0-5cf85ff3151f",
   "metadata": {
    "execution": {
     "iopub.execute_input": "2022-10-11T15:36:33.025486Z",
     "iopub.status.busy": "2022-10-11T15:36:33.025270Z",
     "iopub.status.idle": "2022-10-11T15:36:33.919245Z",
     "shell.execute_reply": "2022-10-11T15:36:33.918674Z",
     "shell.execute_reply.started": "2022-10-11T15:36:33.025465Z"
    },
    "tags": []
   },
   "outputs": [],
   "source": [
    "from importlib import reload\n",
    "from itertools import repeat\n",
    "from date_utils import partition_date_range\n",
    "import pandas as pd"
   ]
  },
  {
   "cell_type": "code",
   "execution_count": 5,
   "id": "fd3aeab3-c99d-43cc-843d-4bc8a2b4d6a9",
   "metadata": {
    "execution": {
     "iopub.execute_input": "2022-10-11T15:36:33.920337Z",
     "iopub.status.busy": "2022-10-11T15:36:33.920099Z",
     "iopub.status.idle": "2022-10-11T15:36:36.691466Z",
     "shell.execute_reply": "2022-10-11T15:36:36.689744Z",
     "shell.execute_reply.started": "2022-10-11T15:36:33.920318Z"
    },
    "tags": []
   },
   "outputs": [
    {
     "name": "stderr",
     "output_type": "stream",
     "text": [
      "/app/infra/data/jupyterhub/images/singleuser_spark/main.binary.runfiles/vendor_python_geopandas/geopandas/_compat.py:111: UserWarning: The Shapely GEOS version (3.8.0-CAPI-1.13.1 ) is incompatible with the GEOS version PyGEOS was compiled with (3.10.1-CAPI-1.16.0). Conversions between both will be slow.\n",
      "  warnings.warn(\n"
     ]
    },
    {
     "data": {
      "text/plain": [
       "<module 'functions' from '/home/maximilian.hofmann/tools/brand_science_pricing/data/functions.py'>"
      ]
     },
     "execution_count": 5,
     "metadata": {},
     "output_type": "execute_result"
    }
   ],
   "source": [
    "import functions as fu\n",
    "reload(fu)"
   ]
  },
  {
   "cell_type": "code",
   "execution_count": 6,
   "id": "3dd6e8d7-ddf0-451b-b533-10235fa929f6",
   "metadata": {
    "execution": {
     "iopub.execute_input": "2022-10-11T15:36:36.693688Z",
     "iopub.status.busy": "2022-10-11T15:36:36.693513Z",
     "iopub.status.idle": "2022-10-11T15:36:36.698498Z",
     "shell.execute_reply": "2022-10-11T15:36:36.697974Z",
     "shell.execute_reply.started": "2022-10-11T15:36:36.693668Z"
    },
    "tags": []
   },
   "outputs": [],
   "source": [
    "from multiprocessing.dummy import Pool"
   ]
  },
  {
   "cell_type": "code",
   "execution_count": 7,
   "id": "bfd622f1-4190-4d46-a7f3-ab9d20341cd3",
   "metadata": {
    "execution": {
     "iopub.execute_input": "2022-10-11T15:36:36.699392Z",
     "iopub.status.busy": "2022-10-11T15:36:36.699251Z",
     "iopub.status.idle": "2022-10-11T15:36:36.719881Z",
     "shell.execute_reply": "2022-10-11T15:36:36.719253Z",
     "shell.execute_reply.started": "2022-10-11T15:36:36.699374Z"
    },
    "tags": []
   },
   "outputs": [],
   "source": [
    "with open('/home/maximilian.hofmann/tools/brand_science_pricing/data/queries/sql_ofo_scrape_data_new.sql', 'r') as f:\n",
    "    sql_template = f.read()"
   ]
  },
  {
   "cell_type": "code",
   "execution_count": 8,
   "id": "433d7ae6-9957-49e4-9d8b-22c67f652198",
   "metadata": {
    "execution": {
     "iopub.execute_input": "2022-10-11T15:36:37.348979Z",
     "iopub.status.busy": "2022-10-11T15:36:37.348743Z",
     "iopub.status.idle": "2022-10-11T15:36:37.352341Z",
     "shell.execute_reply": "2022-10-11T15:36:37.351556Z",
     "shell.execute_reply.started": "2022-10-11T15:36:37.348956Z"
    },
    "tags": []
   },
   "outputs": [],
   "source": [
    "project_name = 'css-operations'\n",
    "stag_dataset_name = 'brand_science_stag'\n",
    "stag_table_name = 'pricing_ofo_scrape_data_stag'\n",
    "full_stag_table_name = '.'.join([project_name, stag_dataset_name, stag_table_name])"
   ]
  },
  {
   "cell_type": "code",
   "execution_count": 9,
   "id": "db20928a-c20f-4165-8947-7c79a4993efd",
   "metadata": {
    "execution": {
     "iopub.execute_input": "2022-10-11T15:36:38.594557Z",
     "iopub.status.busy": "2022-10-11T15:36:38.594336Z",
     "iopub.status.idle": "2022-10-11T15:36:38.600115Z",
     "shell.execute_reply": "2022-10-11T15:36:38.599489Z",
     "shell.execute_reply.started": "2022-10-11T15:36:38.594531Z"
    },
    "tags": []
   },
   "outputs": [
    {
     "data": {
      "text/plain": [
       "[['2022-06-01', '2022-06-15'],\n",
       " ['2022-06-16', '2022-06-30'],\n",
       " ['2022-07-01', '2022-07-15'],\n",
       " ['2022-07-16', '2022-07-30'],\n",
       " ['2022-07-31', '2022-08-14'],\n",
       " ['2022-08-15', '2022-08-29'],\n",
       " ['2022-08-30', '2022-09-13'],\n",
       " ['2022-09-14', '2022-09-28'],\n",
       " ['2022-09-29', '2022-09-30']]"
      ]
     },
     "execution_count": 9,
     "metadata": {},
     "output_type": "execute_result"
    }
   ],
   "source": [
    "date_list = partition_date_range(pd.to_datetime(begin_date), pd.to_datetime(end_date), days_per_batch)\n",
    "date_list"
   ]
  },
  {
   "cell_type": "code",
   "execution_count": 10,
   "id": "75bafa2d-f7c1-465f-a80d-5c747496a9a0",
   "metadata": {
    "execution": {
     "iopub.execute_input": "2022-10-11T15:36:39.557460Z",
     "iopub.status.busy": "2022-10-11T15:36:39.557222Z",
     "iopub.status.idle": "2022-10-11T15:36:39.560434Z",
     "shell.execute_reply": "2022-10-11T15:36:39.559678Z",
     "shell.execute_reply.started": "2022-10-11T15:36:39.557439Z"
    },
    "tags": []
   },
   "outputs": [],
   "source": [
    "clustering_fields=['country_code','month']"
   ]
  },
  {
   "cell_type": "code",
   "execution_count": 15,
   "id": "2361ffff-9939-4f9b-8b0c-0747570640b1",
   "metadata": {
    "execution": {
     "iopub.execute_input": "2022-10-11T15:37:31.491055Z",
     "iopub.status.busy": "2022-10-11T15:37:31.490810Z",
     "iopub.status.idle": "2022-10-11T15:37:38.012701Z",
     "shell.execute_reply": "2022-10-11T15:37:38.011819Z",
     "shell.execute_reply.started": "2022-10-11T15:37:31.491032Z"
    },
    "tags": []
   },
   "outputs": [
    {
     "name": "stdout",
     "output_type": "stream",
     "text": [
      "Start data cleaning...\n",
      "Start data cleaning...Start data cleaning...\n",
      "\n",
      "Start data cleaning...\n",
      "Data cleaning finished!Data cleaning finished!\n",
      "\n",
      "Data cleaning finished!\n",
      "Data cleaning finished!\n",
      "Data cleaning finished!Data cleaning finished!\n",
      "Start data cleaning...\n",
      "Data cleaning finished!\n",
      "Data cleaning finished!\n",
      "Start data cleaning...\n",
      "Data cleaning finished!\n"
     ]
    }
   ],
   "source": [
    "res = []\n",
    "with Pool(5) as p:\n",
    "    r = p.starmap(fu.process_ofo_data_date_range, zip(repeat(sql_template), date_list, repeat(collection), repeat(service_slug), repeat(full_stag_table_name), repeat(clustering_fields)))\n",
    "    res.append(r)"
   ]
  },
  {
   "cell_type": "code",
   "execution_count": 16,
   "id": "f2f7307b-af30-42d1-8e59-fb1ca780af5c",
   "metadata": {
    "execution": {
     "iopub.execute_input": "2022-10-11T15:37:38.014191Z",
     "iopub.status.busy": "2022-10-11T15:37:38.014013Z",
     "iopub.status.idle": "2022-10-11T15:37:38.017149Z",
     "shell.execute_reply": "2022-10-11T15:37:38.016614Z",
     "shell.execute_reply.started": "2022-10-11T15:37:38.014169Z"
    },
    "tags": []
   },
   "outputs": [],
   "source": [
    "prod_dataset_name = 'brand_science'\n",
    "prod_table_name = 'pricing_ofo_scrape_data'\n",
    "full_prod_table_name = '.'.join([project_name, prod_dataset_name, prod_table_name])"
   ]
  },
  {
   "cell_type": "code",
   "execution_count": 17,
   "id": "5254b6c5-2ccb-49d5-9855-ef7137e6365c",
   "metadata": {
    "execution": {
     "iopub.execute_input": "2022-10-11T15:37:38.018372Z",
     "iopub.status.busy": "2022-10-11T15:37:38.018218Z",
     "iopub.status.idle": "2022-10-11T15:37:38.982276Z",
     "shell.execute_reply": "2022-10-11T15:37:38.981607Z",
     "shell.execute_reply.started": "2022-10-11T15:37:38.018354Z"
    },
    "tags": []
   },
   "outputs": [],
   "source": [
    "create_tbl = fu.create_tbl(full_stag_table_name, full_prod_table_name)"
   ]
  },
  {
   "cell_type": "code",
   "execution_count": 18,
   "id": "7cb04b27-f159-4d45-8830-56934ff74eb2",
   "metadata": {
    "execution": {
     "iopub.execute_input": "2022-10-11T15:37:38.983417Z",
     "iopub.status.busy": "2022-10-11T15:37:38.983248Z",
     "iopub.status.idle": "2022-10-11T15:37:41.791673Z",
     "shell.execute_reply": "2022-10-11T15:37:41.790967Z",
     "shell.execute_reply.started": "2022-10-11T15:37:38.983396Z"
    },
    "tags": []
   },
   "outputs": [],
   "source": [
    "upsert_tbl = fu.upsert_tbl_ofo_scrape_data(full_stag_table_name, full_prod_table_name)"
   ]
  },
  {
   "cell_type": "code",
   "execution_count": null,
   "id": "641bbe28-c1a5-41e8-90e6-5f86c68a696d",
   "metadata": {},
   "outputs": [],
   "source": []
  }
 ],
 "metadata": {
  "kernelspec": {
   "display_name": "Python 3",
   "language": "python",
   "name": "python3"
  },
  "language_info": {
   "codemirror_mode": {
    "name": "ipython",
    "version": 3
   },
   "file_extension": ".py",
   "mimetype": "text/x-python",
   "name": "python",
   "nbconvert_exporter": "python",
   "pygments_lexer": "ipython3",
   "version": "3.8.13"
  }
 },
 "nbformat": 4,
 "nbformat_minor": 5
}
